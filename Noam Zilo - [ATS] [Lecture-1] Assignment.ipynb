{
 "cells": [
  {
   "cell_type": "markdown",
   "metadata": {
    "tags": [
     "intro"
    ]
   },
   "source": [
    "# Grading process\n",
    "\n",
    "\n",
    "The submission notebook will be autovalidated with `papermill`. The exact command is the following:\n",
    "\n",
    "```bash\n",
    "papermill <notebook-name>.ipynb <notebook-name>-run.ipynb .ipynb -p TEST True\n",
    "```\n",
    "\n",
    "Papermill will inject new cell after each cell tagged as `parameters` (see `View > Cell toolbar > Tags`). Notebook will be executed from top to bottom in a linear order. `solutions.py` contains correct implementations used to validate your solutions.\n",
    "\n",
    "Please, **fill `STUDENT` variable with the name of submitting student**, so that we can collect the results automatically. Please, **do not change `TEST` variable** and `validation` cells. If you need to inject your own code for testing, wrap it into\n",
    "\n",
    "```python\n",
    "if not TEST:\n",
    "    ...\n",
    "```\n",
    "\n",
    "Different problems give different number of points. All problems in the basic section give 1 point, while all problems in intermediate section give 2 points.\n",
    "\n",
    "Each problem contains specific validation details. You need to fill each cell tagged `solution` with your code. Note, that solution function must self-contained, i.e. it must not use any state from the notebook itself.\n",
    "\n",
    "# Dataset\n",
    "\n",
    "All problems in the assignment use [electricity load dataset](https://archive.ics.uci.edu/ml/datasets/ElectricityLoadDiagrams20112014). Some functions/methods accept data itself, and in that case it's a Pandas dataframe as obtained by\n",
    "\n",
    "```python\n",
    "df = pd.read_csv(\"LD2011_2014.txt\",\n",
    "                 parse_dates=[0],\n",
    "                 delimiter=\";\",\n",
    "                 decimal=\",\")\n",
    "df.rename({\"Unnamed: 0\": \"timestamp\"}, axis=1, inplace=True)\n",
    "```\n",
    "\n",
    "In contrast, whenever a function/method accepts a filename, it's the filename of **unzipped** data file (i.e. `LD2011_2014.txt`). When testing, do not rely on any specific location of the dataset, as validation environment will most certainly different from your local one. Hence, calls like\n",
    "\n",
    "```python\n",
    "df = pd.read_csv(\"<your-local-directory>/LD2011_2014.txt\")\n",
    "```\n",
    "\n",
    "will fail."
   ]
  },
  {
   "cell_type": "code",
   "execution_count": 2,
   "metadata": {
    "ExecuteTime": {
     "end_time": "2019-10-30T22:26:04.111972Z",
     "start_time": "2019-10-30T22:26:04.107385Z"
    }
   },
   "outputs": [],
   "source": [
    "import numpy as np\n",
    "import pandas as pd\n",
    "import torch"
   ]
  },
  {
   "cell_type": "code",
   "execution_count": 3,
   "metadata": {
    "ExecuteTime": {
     "end_time": "2019-10-30T22:26:04.372936Z",
     "start_time": "2019-10-30T22:26:04.364608Z"
    }
   },
   "outputs": [],
   "source": [
    "STUDENT = \"Noam Salomonski\""
   ]
  },
  {
   "cell_type": "code",
   "execution_count": 4,
   "metadata": {
    "tags": [
     "parameters"
    ]
   },
   "outputs": [],
   "source": [
    "ASSIGNMENT = 1\n",
    "TEST = False"
   ]
  },
  {
   "cell_type": "code",
   "execution_count": 5,
   "metadata": {
    "ExecuteTime": {
     "end_time": "2019-10-30T22:39:38.188583Z",
     "start_time": "2019-10-30T22:39:38.182534Z"
    },
    "tags": [
     "validation"
    ]
   },
   "outputs": [],
   "source": [
    "if TEST:\n",
    "    import solutions\n",
    "    total_grade = 0\n",
    "    MAX_POINTS = 12"
   ]
  },
  {
   "cell_type": "markdown",
   "metadata": {},
   "source": [
    "# Pandas"
   ]
  },
  {
   "cell_type": "markdown",
   "metadata": {
    "tags": [
     "problem"
    ]
   },
   "source": [
    "### 1. Resample the dataset (1 point)\n",
    "\n",
    "Resample the dataset to 1-hour resolution. Use `mean` as an aggregation function. Your function must output a dataframe, with the same structure as the original one (i.e. not indexed by datetime)."
   ]
  },
  {
   "cell_type": "code",
   "execution_count": 6,
   "metadata": {},
   "outputs": [
    {
     "name": "stdout",
     "output_type": "stream",
     "text": [
      "            timestamp  MT_001  MT_002  MT_003  MT_004  MT_005  MT_006  MT_007  \\\n",
      "0 2011-01-01 00:15:00     0.0     0.0     0.0     0.0     0.0     0.0     0.0   \n",
      "1 2011-01-01 00:30:00     0.0     0.0     0.0     0.0     0.0     0.0     0.0   \n",
      "2 2011-01-01 00:45:00     0.0     0.0     0.0     0.0     0.0     0.0     0.0   \n",
      "3 2011-01-01 01:00:00     0.0     0.0     0.0     0.0     0.0     0.0     0.0   \n",
      "4 2011-01-01 01:15:00     0.0     0.0     0.0     0.0     0.0     0.0     0.0   \n",
      "\n",
      "   MT_008  MT_009  ...  MT_361  MT_362  MT_363  MT_364  MT_365  MT_366  \\\n",
      "0     0.0     0.0  ...     0.0     0.0     0.0     0.0     0.0     0.0   \n",
      "1     0.0     0.0  ...     0.0     0.0     0.0     0.0     0.0     0.0   \n",
      "2     0.0     0.0  ...     0.0     0.0     0.0     0.0     0.0     0.0   \n",
      "3     0.0     0.0  ...     0.0     0.0     0.0     0.0     0.0     0.0   \n",
      "4     0.0     0.0  ...     0.0     0.0     0.0     0.0     0.0     0.0   \n",
      "\n",
      "   MT_367  MT_368  MT_369  MT_370  \n",
      "0     0.0     0.0     0.0     0.0  \n",
      "1     0.0     0.0     0.0     0.0  \n",
      "2     0.0     0.0     0.0     0.0  \n",
      "3     0.0     0.0     0.0     0.0  \n",
      "4     0.0     0.0     0.0     0.0  \n",
      "\n",
      "[5 rows x 371 columns]\n"
     ]
    }
   ],
   "source": [
    "if not TEST:\n",
    "    orig_df = pd.read_csv(\"LD2011_2014.txt\",\n",
    "                 parse_dates=[0],\n",
    "                 delimiter=\";\",\n",
    "                 decimal=\",\")\n",
    "    orig_df.rename({\"Unnamed: 0\": \"timestamp\"}, axis=1, inplace=True)\n",
    "    print(orig_df.head())"
   ]
  },
  {
   "cell_type": "code",
   "execution_count": 6,
   "metadata": {
    "ExecuteTime": {
     "end_time": "2019-10-30T22:26:07.100307Z",
     "start_time": "2019-10-30T22:26:07.092132Z"
    },
    "tags": [
     "solution"
    ]
   },
   "outputs": [],
   "source": [
    "def el_resample(df):\n",
    "    # your code goes here\n",
    "    #print(df.head())\n",
    "    #print(df.index)\n",
    "    #print(df[\"timestamp\"].dtype)\n",
    "    df = df.resample('H',on='timestamp').mean().reset_index()\n",
    "    #print(df.head())\n",
    "    #print(df.index)\n",
    "    return df\n",
    "\n",
    "if not TEST:\n",
    "    el_resample(orig_df.copy())"
   ]
  },
  {
   "cell_type": "code",
   "execution_count": 7,
   "metadata": {
    "ExecuteTime": {
     "end_time": "2019-10-30T22:26:07.334174Z",
     "start_time": "2019-10-30T22:26:07.322103Z"
    },
    "tags": [
     "validation"
    ]
   },
   "outputs": [],
   "source": [
    "PROBLEM_ID = 1\n",
    "\n",
    "if TEST:\n",
    "    total_grade += solutions.check(STUDENT, PROBLEM_ID, el_resample)"
   ]
  },
  {
   "cell_type": "markdown",
   "metadata": {
    "tags": [
     "problem"
    ]
   },
   "source": [
    "### 2. Consumption peaks (1 point)\n",
    "\n",
    "For each household, calculate, which month in 2014 had the highest consumption. Your function must output series, indexed by household ID (e.g., `MT_XXX`), and containing month as an integer (`1-12`)."
   ]
  },
  {
   "cell_type": "code",
   "execution_count": 8,
   "metadata": {
    "ExecuteTime": {
     "end_time": "2019-10-30T22:26:08.274476Z",
     "start_time": "2019-10-30T22:26:08.268426Z"
    },
    "tags": [
     "solution"
    ]
   },
   "outputs": [],
   "source": [
    "def cons_peak(df):\n",
    "    #print(df.head())\n",
    "    #print(df.index)\n",
    "    df2014 = df[df[\"timestamp\"].dt.year == 2014]\n",
    "    months2014 = df2014.resample('M',on='timestamp').mean().reset_index()\n",
    "    #print(months2014)\n",
    "    #print(f\"len = {len(months2014)}\")\n",
    "    max_month = months2014.drop([\"timestamp\"], axis=1).idxmax(axis=0)\n",
    "    #print(\"max_month:\")\n",
    "    #print(max_month)\n",
    "    #max_month.hist(bins=12)\n",
    "    return max_month\n",
    "\n",
    "if not TEST:\n",
    "    cons_peak(orig_df.copy())"
   ]
  },
  {
   "cell_type": "code",
   "execution_count": 9,
   "metadata": {
    "ExecuteTime": {
     "end_time": "2019-10-30T22:26:08.554208Z",
     "start_time": "2019-10-30T22:26:08.542546Z"
    },
    "tags": [
     "validation"
    ]
   },
   "outputs": [],
   "source": [
    "PROBLEM_ID = 2\n",
    "\n",
    "if TEST:\n",
    "    total_grade += solutions.check(STUDENT, PROBLEM_ID, cons_peak)"
   ]
  },
  {
   "cell_type": "markdown",
   "metadata": {},
   "source": [
    "# PyTorch"
   ]
  },
  {
   "cell_type": "markdown",
   "metadata": {
    "tags": [
     "problem"
    ]
   },
   "source": [
    "### 3. Find minimum (2 points)\n",
    "\n",
    "Consider the following scalar function:\n",
    "\n",
    "$$\n",
    "f(x) = ax^2 + bx + c\n",
    "$$\n",
    "\n",
    "Given $a,b,c$, find $x$, which minimizes $f(x)$, and minimum value of $f(x)$. Note this:\n",
    "\n",
    "- $a,b,c$ are fixed, and generated in such a way, that minimum always exists ($f(x)$ is convex),\n",
    "- $x$ is a scalar value, i.e. 0-dimensional tensor.\n",
    "\n",
    "For reference, see `generate_coef` function, which is used to generate coefficients. Note, that since optimization process is not completely deterministic, the output is considered correct, if it falls within `1e-3` of actual values.\n",
    "\n",
    "This problem must be solved as an optimization one using gradient descent.\n",
    "\n",
    "For that, use only PyTorch functionality, `SciPy` (or alike) optimization routines are not allowed, neither is direct calculation using coefficients."
   ]
  },
  {
   "cell_type": "code",
   "execution_count": 10,
   "metadata": {},
   "outputs": [],
   "source": [
    "def generate_coeffs():\n",
    "    a = torch.rand(size=()) * 10\n",
    "    b = -10 + torch.rand(size=()) * 10\n",
    "    c = -10 + torch.rand(size=()) * 10\n",
    "    return a, b, c\n",
    "\n",
    "def func(x, a, b, c):\n",
    "    return x.pow(2) * a + x * b + c"
   ]
  },
  {
   "cell_type": "code",
   "execution_count": 11,
   "metadata": {
    "ExecuteTime": {
     "end_time": "2019-10-30T22:26:08.950073Z",
     "start_time": "2019-10-30T22:26:08.944541Z"
    },
    "tags": [
     "solution"
    ]
   },
   "outputs": [
    {
     "name": "stdout",
     "output_type": "stream",
     "text": [
      "a=8.655393600463867, b=-9.355485916137695, c=-2.475471019744873, x_min=0.5404425263404846, val_min=-5.003521919250488\n",
      "a=5.677739143371582, b=-3.9862327575683594, c=-7.983116149902344, x_min=0.35104048252105713, val_min=-8.682780265808105\n",
      "a=7.017597675323486, b=-8.74790096282959, c=-5.668582916259766, x_min=0.6232831478118896, val_min=-8.394792556762695\n",
      "a=0.6540429592132568, b=-9.648276329040527, c=-3.7937254905700684, x_min=7.37587308883667, val_min=-39.375953674316406\n",
      "a=9.17154598236084, b=-2.440509796142578, c=-7.565088272094727, x_min=0.1330478936433792, val_min=-7.72744083404541\n",
      "a=6.851433753967285, b=-8.101054191589355, c=-1.4651031494140625, x_min=0.5911940932273865, val_min=-3.859750509262085\n",
      "a=9.48801040649414, b=-9.148879051208496, c=-4.183697700500488, x_min=0.48212841153144836, val_min=-6.389164924621582\n",
      "a=5.734138488769531, b=-9.098313331604004, c=-3.2636890411376953, x_min=0.793346107006073, val_min=-6.872745037078857\n",
      "a=2.187702178955078, b=-0.38228893280029297, c=-4.549168586730957, x_min=0.08737224340438843, val_min=-4.565869331359863\n",
      "a=2.7014803886413574, b=-4.383073806762695, c=-7.993575096130371, x_min=0.8112355470657349, val_min=-9.771428108215332\n",
      "a=3.3055419921875, b=-4.944489479064941, c=-7.8464202880859375, x_min=0.7479090094566345, val_min=-9.6954345703125\n",
      "a=8.47179126739502, b=-4.890930652618408, c=-0.8892068862915039, x_min=0.28865981101989746, val_min=-1.5951144695281982\n",
      "a=5.765868186950684, b=-0.16665172576904297, c=-6.298732280731201, x_min=0.014451572671532631, val_min=-6.299936294555664\n",
      "a=8.475187301635742, b=-7.50674295425415, c=-9.798995018005371, x_min=0.44286590814590454, val_min=-11.461235046386719\n",
      "a=3.7580525875091553, b=-0.27539825439453125, c=-1.319504737854004, x_min=0.036641087383031845, val_min=-1.3245501518249512\n",
      "a=4.427342891693115, b=-0.7474746704101562, c=-7.5658674240112305, x_min=0.08441571891307831, val_min=-7.597416877746582\n",
      "a=7.888830184936523, b=-5.523164749145508, c=-5.789129734039307, x_min=0.3500623404979706, val_min=-6.755855560302734\n",
      "a=4.703521728515625, b=-4.635779857635498, c=-2.679306983947754, x_min=0.4927988052368164, val_min=-3.8215603828430176\n",
      "a=2.4772934913635254, b=-4.740701675415039, c=-4.49070405960083, x_min=0.9568308591842651, val_min=-6.758728981018066\n",
      "a=2.560056447982788, b=-6.285021781921387, c=-4.527306079864502, x_min=1.2275162935256958, val_min=-8.38478946685791\n",
      "a=4.5970659255981445, b=-2.959339141845703, c=-3.656525135040283, x_min=0.3218725919723511, val_min=-4.1327900886535645\n",
      "a=7.10733699798584, b=-0.44367504119873047, c=-4.044280052185059, x_min=0.031212467700242996, val_min=-4.051204204559326\n",
      "a=1.5566807985305786, b=-9.751776695251465, c=-9.941152572631836, x_min=3.1322336196899414, val_min=-25.213577270507812\n",
      "a=7.916443824768066, b=-7.0728254318237305, c=-2.451939582824707, x_min=0.44671735167503357, val_min=-4.031716346740723\n",
      "a=2.1042447090148926, b=-7.264225959777832, c=-8.69952392578125, x_min=1.726088523864746, val_min=-14.968873977661133\n",
      "a=2.429532527923584, b=-9.404428482055664, c=-5.699295997619629, x_min=1.935439944267273, val_min=-14.800148010253906\n",
      "a=0.3985947370529175, b=-4.885924339294434, c=-2.4049510955810547, x_min=6.128937721252441, val_min=-17.37771224975586\n",
      "a=1.865924596786499, b=-2.4306159019470215, c=-7.958725929260254, x_min=0.6513167023658752, val_min=-8.750276565551758\n",
      "a=0.792548656463623, b=-6.316547870635986, c=-4.396998405456543, x_min=3.984959602355957, val_min=-16.982589721679688\n",
      "a=0.5502939224243164, b=-5.233314514160156, c=-4.425073623657227, x_min=4.755016803741455, val_min=-16.867324829101562\n",
      "a=6.380585670471191, b=-4.755053997039795, c=-7.336857795715332, x_min=0.3726189136505127, val_min=-8.222769737243652\n",
      "a=7.341291904449463, b=-2.415966033935547, c=-9.700350761413574, x_min=0.16454638540744781, val_min=-9.899120330810547\n",
      "a=3.566847324371338, b=-8.235520362854004, c=-8.793578147888184, x_min=1.1544537544250488, val_min=-13.547342300415039\n",
      "a=4.0299153327941895, b=-2.9606637954711914, c=-5.424344062805176, x_min=0.3673357367515564, val_min=-5.968122959136963\n",
      "a=3.2648372650146484, b=-2.0543012619018555, c=-2.463897705078125, x_min=0.3146100640296936, val_min=-2.7870495319366455\n",
      "a=3.3297295570373535, b=-3.168978691101074, c=-2.0078115463256836, x_min=0.4758612811565399, val_min=-2.7618086338043213\n",
      "a=9.96456527709961, b=-3.142946243286133, c=-7.791853427886963, x_min=0.1577061414718628, val_min=-8.039684295654297\n",
      "a=8.842015266418457, b=-1.8669252395629883, c=-4.981688976287842, x_min=0.10557125508785248, val_min=-5.080235958099365\n",
      "a=1.7477917671203613, b=-0.49175357818603516, c=-8.536676406860352, x_min=0.1406785398721695, val_min=-8.571266174316406\n",
      "a=2.184191942214966, b=-4.185118675231934, c=-6.742283821105957, x_min=0.9580473303794861, val_min=-8.747055053710938\n",
      "a=6.4339165687561035, b=-0.4029865264892578, c=-2.3949246406555176, x_min=0.03131735697388649, val_min=-2.4012348651885986\n",
      "a=4.678676128387451, b=-6.353826522827148, c=-0.16831302642822266, x_min=0.6790196895599365, val_min=-2.325500011444092\n",
      "a=4.216094970703125, b=-1.4118452072143555, c=-8.91727066040039, x_min=0.1674351692199707, val_min=-9.035467147827148\n",
      "a=8.96391773223877, b=-4.300053119659424, c=-5.254289627075195, x_min=0.23985344171524048, val_min=-5.7699809074401855\n",
      "a=0.9618556499481201, b=-2.454901695251465, c=-4.890873908996582, x_min=1.2761276960372925, val_min=-6.457258224487305\n",
      "a=9.705790519714355, b=-9.25697135925293, c=-5.57875394821167, x_min=0.476878821849823, val_min=-7.785980224609375\n",
      "a=5.509047031402588, b=-1.034658432006836, c=-0.8368377685546875, x_min=0.09390538930892944, val_min=-0.8854177594184875\n",
      "a=9.518988609313965, b=-8.50320053100586, c=-1.6467790603637695, x_min=0.446644127368927, val_min=-3.5457310676574707\n",
      "a=6.366982936859131, b=-1.412510871887207, c=-6.104365348815918, x_min=0.11092466115951538, val_min=-6.182706356048584\n",
      "a=4.8201799392700195, b=-4.093230247497559, c=-4.05974817276001, x_min=0.42459309101104736, val_min=-4.928726673126221\n",
      "a=0.5906224250793457, b=-5.008960723876953, c=-1.3845062255859375, x_min=4.240408897399902, val_min=-12.004526138305664\n",
      "a=9.9342622756958, b=-8.077581405639648, c=-7.799444198608398, x_min=0.40655165910720825, val_min=-9.441421508789062\n",
      "a=9.726606369018555, b=-4.983087539672852, c=-4.798150539398193, x_min=0.2561575770378113, val_min=-5.436378479003906\n",
      "a=8.779892921447754, b=-3.136219024658203, c=-6.107013702392578, x_min=0.17860235273838043, val_min=-6.387081623077393\n",
      "a=7.760343074798584, b=-7.309420585632324, c=-4.065700054168701, x_min=0.4709469676017761, val_min=-5.786874771118164\n",
      "a=6.639524459838867, b=-9.118803977966309, c=-2.3405399322509766, x_min=0.6867060661315918, val_min=-5.471508979797363\n",
      "a=9.253698348999023, b=-3.183910846710205, c=-0.7426958084106445, x_min=0.17203451693058014, val_min=-1.0165669918060303\n",
      "a=7.766487121582031, b=-0.5401782989501953, c=-0.781620979309082, x_min=0.0347762294113636, val_min=-0.7910136580467224\n",
      "a=4.277297019958496, b=-2.8833494186401367, c=-1.9725332260131836, x_min=0.33705276250839233, val_min=-2.45845365524292\n",
      "a=7.308162689208984, b=-3.3389430046081543, c=-9.645994186401367, x_min=0.22843928635120392, val_min=-10.027366638183594\n",
      "a=6.552957534790039, b=-0.6025114059448242, c=-5.594326972961426, x_min=0.04597247391939163, val_min=-5.608176231384277\n",
      "a=7.212577819824219, b=-4.818236827850342, c=-8.661195755004883, x_min=0.3340163230895996, val_min=-9.465880393981934\n",
      "a=8.568657875061035, b=-0.8483572006225586, c=-5.121574401855469, x_min=0.04950350522994995, val_min=-5.14257287979126\n",
      "a=6.1947221755981445, b=-1.3002738952636719, c=-7.766618251800537, x_min=0.10495013743638992, val_min=-7.834850311279297\n",
      "a=3.0325145721435547, b=-4.277141571044922, c=-8.213741302490234, x_min=0.7052136659622192, val_min=-9.721890449523926\n",
      "a=7.274605751037598, b=-6.603127479553223, c=-8.25466537475586, x_min=0.4538477957248688, val_min=-9.753072738647461\n",
      "a=8.52488899230957, b=-9.207018852233887, c=-9.551989555358887, x_min=0.5400081276893616, val_min=-12.037921905517578\n",
      "a=1.278468370437622, b=-3.685911178588867, c=-8.76341438293457, x_min=1.4415339231491089, val_min=-11.420097351074219\n",
      "a=0.6101280450820923, b=-1.0239267349243164, c=-5.580139636993408, x_min=0.8391082882881165, val_min=-6.009732246398926\n",
      "a=9.21557331085205, b=-2.262141227722168, c=-3.421726703643799, x_min=0.12273471057415009, val_min=-3.5605483055114746\n",
      "a=8.297978401184082, b=-3.738007068634033, c=-9.869278907775879, x_min=0.22523601353168488, val_min=-10.29024600982666\n",
      "a=7.097025394439697, b=-0.8470830917358398, c=-6.437920570373535, x_min=0.05967874079942703, val_min=-6.463197231292725\n",
      "a=1.6558527946472168, b=-8.779647827148438, c=-1.4294538497924805, x_min=2.6510958671569824, val_min=-13.067296028137207\n",
      "a=3.2632458209991455, b=-9.955314636230469, c=-2.4163970947265625, x_min=1.5253700017929077, val_min=-10.009166717529297\n",
      "a=9.364237785339355, b=-9.638823509216309, c=-8.21363353729248, x_min=0.5146613717079163, val_min=-10.693998336791992\n",
      "a=3.7362027168273926, b=-7.763857364654541, c=-0.890742301940918, x_min=1.0390037298202515, val_min=-4.924080848693848\n",
      "a=5.49296760559082, b=-6.041961193084717, c=-2.7699904441833496, x_min=0.549972414970398, val_min=-4.431446075439453\n",
      "a=6.616000175476074, b=-9.042396545410156, c=-1.5709953308105469, x_min=0.6833733320236206, val_min=-4.660661697387695\n",
      "a=6.418571949005127, b=-6.891084671020508, c=-5.955359935760498, x_min=0.5368082523345947, val_min=-7.80495548248291\n",
      "a=0.7570314407348633, b=-6.730565071105957, c=-1.8239812850952148, x_min=4.445366382598877, val_min=-16.783897399902344\n",
      "a=5.315945148468018, b=-8.216329574584961, c=-5.870852470397949, x_min=0.7728004455566406, val_min=-9.04564380645752\n",
      "a=3.41131329536438, b=-7.028030872344971, c=-9.482694625854492, x_min=1.0301063060760498, val_min=-13.10250473022461\n",
      "a=3.363098621368408, b=-5.27114200592041, c=-0.07193374633789062, x_min=0.7836734056472778, val_min=-2.1373605728149414\n",
      "a=0.4756772518157959, b=-6.172328948974609, c=-1.207322120666504, x_min=6.4879374504089355, val_min=-21.23016357421875\n",
      "a=7.248711109161377, b=-9.984040260314941, c=-1.727090835571289, x_min=0.6886769533157349, val_min=-5.164979934692383\n",
      "a=0.02334773540496826, b=-9.371809005737305, c=-9.666629791259766, x_min=200.69911193847656, val_min=-950.1304321289062\n",
      "a=2.694244384765625, b=-1.1601648330688477, c=-6.411043167114258, x_min=0.21530431509017944, val_min=-6.535937309265137\n",
      "a=3.737658977508545, b=-6.690741062164307, c=-5.656533718109131, x_min=0.8950443267822266, val_min=-8.650788307189941\n",
      "a=7.652545928955078, b=-8.540901184082031, c=-2.987154006958008, x_min=0.5580431222915649, val_min=-5.3702497482299805\n",
      "a=1.640968918800354, b=-9.973089218139648, c=-5.143376350402832, x_min=3.038780927658081, val_min=-20.296390533447266\n",
      "a=0.23592233657836914, b=-2.0491209030151367, c=-1.7544193267822266, x_min=4.342784404754639, val_min=-6.203867435455322\n",
      "a=3.7112908363342285, b=-3.0790085792541504, c=-1.5279865264892578, x_min=0.41481640934944153, val_min=-2.166598081588745\n",
      "a=6.827314376831055, b=-9.711318969726562, c=-1.3506698608398438, x_min=0.7112107872962952, val_min=-4.804067134857178\n",
      "a=4.574301719665527, b=-5.112422943115234, c=-4.318296432495117, x_min=0.5588200092315674, val_min=-5.746758460998535\n",
      "a=6.575827598571777, b=-1.7954835891723633, c=-3.6142468452453613, x_min=0.13652148842811584, val_min=-3.7368078231811523\n",
      "a=2.0550613403320312, b=-3.6433053016662598, c=-9.499993324279785, x_min=0.8864225745201111, val_min=-11.114747047424316\n",
      "a=9.725383758544922, b=-0.9510078430175781, c=-1.8045310974121094, x_min=0.048893071711063385, val_min=-1.8277798891067505\n",
      "a=1.9853633642196655, b=-3.95115327835083, c=-1.096710205078125, x_min=0.9950706362724304, val_min=-3.0625483989715576\n",
      "a=0.8944529294967651, b=-8.177254676818848, c=-1.8879470825195312, x_min=4.5710930824279785, val_min=-20.577444076538086\n",
      "a=5.267380714416504, b=-6.382498264312744, c=-7.735559463500977, x_min=0.6058512330055237, val_min=-9.668981552124023\n"
     ]
    },
    {
     "name": "stderr",
     "output_type": "stream",
     "text": [
      "c:\\noam\\ydata_timeseries_course\\venv\\lib\\site-packages\\ipykernel_launcher.py:25: UserWarning: To copy construct from a tensor, it is recommended to use sourceTensor.clone().detach() or sourceTensor.clone().detach().requires_grad_(True), rather than torch.tensor(sourceTensor).\n"
     ]
    }
   ],
   "source": [
    "def find_min(a, b, c):\n",
    "    param = torch.zeros(size=(), requires_grad=True)\n",
    "    value_function = lambda x :func(x, a, b, c)\n",
    "    loss_function = lambda val: val\n",
    "\n",
    "    optimizer = torch.optim.SGD([param], lr=0.01, momentum=0.9)\n",
    "    for _ in range(10000):\n",
    "        optimizer.zero_grad()\n",
    "        value = value_function(param)\n",
    "        loss = loss_function(value)\n",
    "        loss.backward()\n",
    "        optimizer.step()\n",
    "\n",
    "    x_min = param\n",
    "    val_min = value_function(x_min)\n",
    "\n",
    "    return x_min, val_min\n",
    "\n",
    "if not TEST:\n",
    "    for _ in range(100):\n",
    "        a, b, c = generate_coeffs()\n",
    "        x_min, val_min = find_min(a, b, c)\n",
    "        print(f\"a={a}, b={b}, c={c}, x_min={x_min}, val_min={val_min}\")\n",
    "\n",
    "        analytic_solution_x = torch.tensor(-b / (2*a))\n",
    "        analytic_solution_val = func(analytic_solution_x, a, b, c)\n",
    "\n",
    "        np.testing.assert_almost_equal(analytic_solution_x, x_min.detach().numpy(), decimal=3),\n",
    "        np.testing.assert_almost_equal(analytic_solution_val, val_min.detach().numpy(), decimal=3)"
   ]
  },
  {
   "cell_type": "code",
   "execution_count": 15,
   "metadata": {
    "ExecuteTime": {
     "end_time": "2019-10-30T22:26:09.170219Z",
     "start_time": "2019-10-30T22:26:09.158251Z"
    },
    "tags": [
     "validation"
    ]
   },
   "outputs": [],
   "source": [
    "PROBLEM_ID = 3\n",
    "\n",
    "if TEST:\n",
    "    total_grade += solutions.check(STUDENT, PROBLEM_ID, find_min)"
   ]
  },
  {
   "cell_type": "markdown",
   "metadata": {
    "tags": [
     "problem"
    ]
   },
   "source": [
    "### 4. PyTorch `Dataset` (3 points)\n",
    "\n",
    "Implement a `torch.utils.data.Dataset` sub-class for the electricity consumption data. Individual training instances must be week-long univarite series of hourly consumption (input, 168 values), followed by 24-hours long series of hourly consumption (output, 24 values) for a single household. Such a class can be used when training a consumption forecast model, which uses 7 days of historical consumption to forecast next 24 hours of consumption.\n",
    "\n",
    "`__getitem__(self, idx)` must return a tuple of 1D tensors, `in_data` and `out_data`. `in_data` contains 168 hours of consumption (hourly), starting from some `start_ts`, while `out_data` must contain 24 hourly consumption values starting from `start_ts + 168 hours` for some household. `start_ts` should be sampled randomly.\n",
    "\n",
    "Also, you need to implement a `get_mapping(self, idx)` method, which allows to calculate `(household, starting time) -> idx` correspondence.\n",
    "\n",
    "This class will be validated as the following:\n",
    "\n",
    "- dataset object is created with some random `samples`: `dataset = ElDataset(df, samples)` ,\n",
    "- validator fetches random `idx` (between `0` and `len(dataset)`) from the dataset:\n",
    "```python\n",
    "household, start_ts = dataset.get_mapping(idx)\n",
    "hist_data, future_data = dataset[idx]\n",
    "```\n",
    "- then, `hist_data` and `future_data` are compared with the data, obtained directly from `df` using `household, start_ts`."
   ]
  },
  {
   "cell_type": "code",
   "execution_count": 18,
   "metadata": {
    "ExecuteTime": {
     "end_time": "2019-10-30T22:26:09.531869Z",
     "start_time": "2019-10-30T22:26:09.523705Z"
    },
    "tags": [
     "solution"
    ]
   },
   "outputs": [
    {
     "ename": "KeyboardInterrupt",
     "evalue": "",
     "output_type": "error",
     "traceback": [
      "\u001B[1;31m---------------------------------------------------------------------------\u001B[0m",
      "\u001B[1;31mKeyboardInterrupt\u001B[0m                         Traceback (most recent call last)",
      "\u001B[1;32m<ipython-input-18-cb731984e5aa>\u001B[0m in \u001B[0;36m<module>\u001B[1;34m\u001B[0m\n\u001B[0;32m     51\u001B[0m     \u001B[0mdataset\u001B[0m \u001B[1;33m=\u001B[0m \u001B[0mElDataset\u001B[0m\u001B[1;33m(\u001B[0m\u001B[0morig_df\u001B[0m\u001B[1;33m.\u001B[0m\u001B[0mcopy\u001B[0m\u001B[1;33m(\u001B[0m\u001B[1;33m)\u001B[0m\u001B[1;33m,\u001B[0m \u001B[0msamples\u001B[0m\u001B[1;33m)\u001B[0m\u001B[1;33m\u001B[0m\u001B[1;33m\u001B[0m\u001B[0m\n\u001B[0;32m     52\u001B[0m \u001B[1;33m\u001B[0m\u001B[0m\n\u001B[1;32m---> 53\u001B[1;33m     \u001B[1;32mfor\u001B[0m \u001B[0midx\u001B[0m \u001B[1;32min\u001B[0m \u001B[0mrange\u001B[0m\u001B[1;33m(\u001B[0m\u001B[0mlen\u001B[0m\u001B[1;33m(\u001B[0m\u001B[0mdataset\u001B[0m\u001B[1;33m)\u001B[0m\u001B[1;33m)\u001B[0m\u001B[1;33m:\u001B[0m\u001B[1;33m\u001B[0m\u001B[1;33m\u001B[0m\u001B[0m\n\u001B[0m\u001B[0;32m     54\u001B[0m         \u001B[0mhousehold\u001B[0m\u001B[1;33m,\u001B[0m \u001B[0mstart_ts\u001B[0m \u001B[1;33m=\u001B[0m \u001B[0mdataset\u001B[0m\u001B[1;33m.\u001B[0m\u001B[0mget_mapping\u001B[0m\u001B[1;33m(\u001B[0m\u001B[0midx\u001B[0m\u001B[1;33m)\u001B[0m\u001B[1;33m\u001B[0m\u001B[1;33m\u001B[0m\u001B[0m\n\u001B[0;32m     55\u001B[0m \u001B[1;33m\u001B[0m\u001B[0m\n",
      "\u001B[1;32m<ipython-input-18-cb731984e5aa>\u001B[0m in \u001B[0;36m<module>\u001B[1;34m\u001B[0m\n\u001B[0;32m     51\u001B[0m     \u001B[0mdataset\u001B[0m \u001B[1;33m=\u001B[0m \u001B[0mElDataset\u001B[0m\u001B[1;33m(\u001B[0m\u001B[0morig_df\u001B[0m\u001B[1;33m.\u001B[0m\u001B[0mcopy\u001B[0m\u001B[1;33m(\u001B[0m\u001B[1;33m)\u001B[0m\u001B[1;33m,\u001B[0m \u001B[0msamples\u001B[0m\u001B[1;33m)\u001B[0m\u001B[1;33m\u001B[0m\u001B[1;33m\u001B[0m\u001B[0m\n\u001B[0;32m     52\u001B[0m \u001B[1;33m\u001B[0m\u001B[0m\n\u001B[1;32m---> 53\u001B[1;33m     \u001B[1;32mfor\u001B[0m \u001B[0midx\u001B[0m \u001B[1;32min\u001B[0m \u001B[0mrange\u001B[0m\u001B[1;33m(\u001B[0m\u001B[0mlen\u001B[0m\u001B[1;33m(\u001B[0m\u001B[0mdataset\u001B[0m\u001B[1;33m)\u001B[0m\u001B[1;33m)\u001B[0m\u001B[1;33m:\u001B[0m\u001B[1;33m\u001B[0m\u001B[1;33m\u001B[0m\u001B[0m\n\u001B[0m\u001B[0;32m     54\u001B[0m         \u001B[0mhousehold\u001B[0m\u001B[1;33m,\u001B[0m \u001B[0mstart_ts\u001B[0m \u001B[1;33m=\u001B[0m \u001B[0mdataset\u001B[0m\u001B[1;33m.\u001B[0m\u001B[0mget_mapping\u001B[0m\u001B[1;33m(\u001B[0m\u001B[0midx\u001B[0m\u001B[1;33m)\u001B[0m\u001B[1;33m\u001B[0m\u001B[1;33m\u001B[0m\u001B[0m\n\u001B[0;32m     55\u001B[0m \u001B[1;33m\u001B[0m\u001B[0m\n",
      "\u001B[1;32m_pydevd_bundle\\pydevd_cython_win32_37_64.pyx\u001B[0m in \u001B[0;36m_pydevd_bundle.pydevd_cython_win32_37_64.SafeCallWrapper.__call__\u001B[1;34m()\u001B[0m\n",
      "\u001B[1;32m_pydevd_bundle\\pydevd_cython_win32_37_64.pyx\u001B[0m in \u001B[0;36m_pydevd_bundle.pydevd_cython_win32_37_64.PyDBFrame.trace_dispatch\u001B[1;34m()\u001B[0m\n",
      "\u001B[1;32m_pydevd_bundle\\pydevd_cython_win32_37_64.pyx\u001B[0m in \u001B[0;36m_pydevd_bundle.pydevd_cython_win32_37_64.PyDBFrame.trace_dispatch\u001B[1;34m()\u001B[0m\n",
      "\u001B[1;32m_pydevd_bundle\\pydevd_cython_win32_37_64.pyx\u001B[0m in \u001B[0;36m_pydevd_bundle.pydevd_cython_win32_37_64.PyDBFrame.trace_dispatch\u001B[1;34m()\u001B[0m\n",
      "\u001B[1;32m_pydevd_bundle\\pydevd_cython_win32_37_64.pyx\u001B[0m in \u001B[0;36m_pydevd_bundle.pydevd_cython_win32_37_64.PyDBFrame.do_wait_suspend\u001B[1;34m()\u001B[0m\n",
      "\u001B[1;32mC:\\Program Files\\JetBrains\\PyCharm 2020.1.1\\plugins\\python\\helpers\\pydev\\pydevd.py\u001B[0m in \u001B[0;36mdo_wait_suspend\u001B[1;34m(self, thread, frame, event, arg, send_suspend_message, is_unhandled_exception)\u001B[0m\n\u001B[0;32m   1139\u001B[0m \u001B[1;33m\u001B[0m\u001B[0m\n\u001B[0;32m   1140\u001B[0m         \u001B[1;32mwith\u001B[0m \u001B[0mself\u001B[0m\u001B[1;33m.\u001B[0m\u001B[0m_threads_suspended_single_notification\u001B[0m\u001B[1;33m.\u001B[0m\u001B[0mnotify_thread_suspended\u001B[0m\u001B[1;33m(\u001B[0m\u001B[0mthread_id\u001B[0m\u001B[1;33m,\u001B[0m \u001B[0mstop_reason\u001B[0m\u001B[1;33m)\u001B[0m\u001B[1;33m:\u001B[0m\u001B[1;33m\u001B[0m\u001B[1;33m\u001B[0m\u001B[0m\n\u001B[1;32m-> 1141\u001B[1;33m             \u001B[0mself\u001B[0m\u001B[1;33m.\u001B[0m\u001B[0m_do_wait_suspend\u001B[0m\u001B[1;33m(\u001B[0m\u001B[0mthread\u001B[0m\u001B[1;33m,\u001B[0m \u001B[0mframe\u001B[0m\u001B[1;33m,\u001B[0m \u001B[0mevent\u001B[0m\u001B[1;33m,\u001B[0m \u001B[0marg\u001B[0m\u001B[1;33m,\u001B[0m \u001B[0msuspend_type\u001B[0m\u001B[1;33m,\u001B[0m \u001B[0mfrom_this_thread\u001B[0m\u001B[1;33m)\u001B[0m\u001B[1;33m\u001B[0m\u001B[1;33m\u001B[0m\u001B[0m\n\u001B[0m\u001B[0;32m   1142\u001B[0m \u001B[1;33m\u001B[0m\u001B[0m\n\u001B[0;32m   1143\u001B[0m     \u001B[1;32mdef\u001B[0m \u001B[0m_do_wait_suspend\u001B[0m\u001B[1;33m(\u001B[0m\u001B[0mself\u001B[0m\u001B[1;33m,\u001B[0m \u001B[0mthread\u001B[0m\u001B[1;33m,\u001B[0m \u001B[0mframe\u001B[0m\u001B[1;33m,\u001B[0m \u001B[0mevent\u001B[0m\u001B[1;33m,\u001B[0m \u001B[0marg\u001B[0m\u001B[1;33m,\u001B[0m \u001B[0msuspend_type\u001B[0m\u001B[1;33m,\u001B[0m \u001B[0mfrom_this_thread\u001B[0m\u001B[1;33m)\u001B[0m\u001B[1;33m:\u001B[0m\u001B[1;33m\u001B[0m\u001B[1;33m\u001B[0m\u001B[0m\n",
      "\u001B[1;32mC:\\Program Files\\JetBrains\\PyCharm 2020.1.1\\plugins\\python\\helpers\\pydev\\pydevd.py\u001B[0m in \u001B[0;36m_do_wait_suspend\u001B[1;34m(self, thread, frame, event, arg, suspend_type, from_this_thread)\u001B[0m\n\u001B[0;32m   1154\u001B[0m \u001B[1;33m\u001B[0m\u001B[0m\n\u001B[0;32m   1155\u001B[0m                 \u001B[0mself\u001B[0m\u001B[1;33m.\u001B[0m\u001B[0mprocess_internal_commands\u001B[0m\u001B[1;33m(\u001B[0m\u001B[1;33m)\u001B[0m\u001B[1;33m\u001B[0m\u001B[1;33m\u001B[0m\u001B[0m\n\u001B[1;32m-> 1156\u001B[1;33m                 \u001B[0mtime\u001B[0m\u001B[1;33m.\u001B[0m\u001B[0msleep\u001B[0m\u001B[1;33m(\u001B[0m\u001B[1;36m0.01\u001B[0m\u001B[1;33m)\u001B[0m\u001B[1;33m\u001B[0m\u001B[1;33m\u001B[0m\u001B[0m\n\u001B[0m\u001B[0;32m   1157\u001B[0m \u001B[1;33m\u001B[0m\u001B[0m\n\u001B[0;32m   1158\u001B[0m         \u001B[0mself\u001B[0m\u001B[1;33m.\u001B[0m\u001B[0mcancel_async_evaluation\u001B[0m\u001B[1;33m(\u001B[0m\u001B[0mget_current_thread_id\u001B[0m\u001B[1;33m(\u001B[0m\u001B[0mthread\u001B[0m\u001B[1;33m)\u001B[0m\u001B[1;33m,\u001B[0m \u001B[0mstr\u001B[0m\u001B[1;33m(\u001B[0m\u001B[0mid\u001B[0m\u001B[1;33m(\u001B[0m\u001B[0mframe\u001B[0m\u001B[1;33m)\u001B[0m\u001B[1;33m)\u001B[0m\u001B[1;33m)\u001B[0m\u001B[1;33m\u001B[0m\u001B[1;33m\u001B[0m\u001B[0m\n",
      "\u001B[1;31mKeyboardInterrupt\u001B[0m: "
     ]
    }
   ],
   "source": [
    "from torch.utils.data import Dataset\n",
    "\n",
    "\n",
    "class ElDataset(Dataset):\n",
    "    \"\"\"Electricity dataset.\"\"\"\n",
    "\n",
    "    def __init__(self, df, samples):\n",
    "        \"\"\"\n",
    "        Args:\n",
    "            df: original electricity data (see HW intro for details).\n",
    "            samples (int): number of sample to take per household.\n",
    "        \"\"\"\n",
    "        df = df.resample('H',on='timestamp').mean().reset_index()\n",
    "        self.raw_data = df.set_index('timestamp').asfreq('H')\n",
    "        self._freq = self.raw_data.index.freq\n",
    "\n",
    "        self._n_households = self.raw_data.shape[1]\n",
    "        self._n_frames_per_house = self.raw_data.shape[0]\n",
    "\n",
    "        self._max_allowed_timestamp_index = self._n_frames_per_house - 24 * (7 + 1)\n",
    "        if self._max_allowed_timestamp_index < samples:\n",
    "            print(\"warning, too many samples required!\")\n",
    "            samples = self._max_allowed_timestamp_index\n",
    "        self._samples = samples\n",
    "        self._time_stride = self._max_allowed_timestamp_index // self._samples\n",
    "\n",
    "    def __len__(self):\n",
    "        return self._samples * (self.raw_data.shape[1])\n",
    "\n",
    "    def __getitem__(self, idx):\n",
    "        if len(self) < idx:\n",
    "            print(f\"WARNING index {idx} out of bounds ({len(self)}\")\n",
    "        household, start_ts = self.get_mapping(idx)\n",
    "        house_data = self.raw_data[household]\n",
    "        hist_data = house_data.loc[start_ts:start_ts + (168 - 1) * self._freq]\n",
    "        future_data = house_data.loc[start_ts + 168 * self._freq:start_ts + (168 + 24 - 1) * self._freq]\n",
    "        return hist_data, future_data\n",
    "\n",
    "    def get_mapping(self, idx):\n",
    "        household_ind = idx % self._n_households\n",
    "        time_sample_idx = idx // self._n_households\n",
    "        start_ts_ind = time_sample_idx * self._time_stride\n",
    "\n",
    "        household = self.raw_data.columns[household_ind]\n",
    "        start_ts = self.raw_data.index[start_ts_ind]\n",
    "        return household, start_ts\n",
    "        \n",
    "if not TEST:\n",
    "    samples = 5\n",
    "    dataset = ElDataset(orig_df.copy(), samples)\n",
    "\n",
    "    for idx in range(len(dataset)):\n",
    "        household, start_ts = dataset.get_mapping(idx)\n",
    "\n",
    "        tested_past = dataset.raw_data[household][start_ts:start_ts+167*dataset._freq]\n",
    "        tested_future = dataset.raw_data[household][start_ts+168*dataset._freq:start_ts+(168+23)*dataset._freq]\n",
    "        my_past, my_future = dataset[idx]\n",
    "\n",
    "        diff1 = my_past - tested_past\n",
    "        diff2 = my_future - tested_future\n",
    "\n",
    "        assert np.count_nonzero(diff1) == 0\n",
    "        assert np.count_nonzero(diff2) == 0\n",
    "\n",
    "    print(f\"passed the assersions for all inds\")"
   ]
  },
  {
   "cell_type": "code",
   "execution_count": null,
   "metadata": {
    "ExecuteTime": {
     "end_time": "2019-10-30T22:26:09.716713Z",
     "start_time": "2019-10-30T22:26:09.707934Z"
    },
    "tags": [
     "validation"
    ]
   },
   "outputs": [],
   "source": [
    "PROBLEM_ID = 4\n",
    "\n",
    "if TEST:\n",
    "    total_grade += solutions.check(STUDENT, PROBLEM_ID, ElDataset)"
   ]
  },
  {
   "cell_type": "markdown",
   "metadata": {},
   "source": [
    "# Your grade"
   ]
  },
  {
   "cell_type": "code",
   "execution_count": null,
   "metadata": {
    "ExecuteTime": {
     "end_time": "2019-10-30T22:39:26.661611Z",
     "start_time": "2019-10-30T22:39:26.654545Z"
    }
   },
   "outputs": [],
   "source": [
    "if TEST:\n",
    "    print(f\"{STUDENT}: {total_grade}\")"
   ]
  },
  {
   "cell_type": "code",
   "execution_count": null,
   "metadata": {},
   "outputs": [],
   "source": []
  }
 ],
 "metadata": {
  "@webio": {
   "lastCommId": null,
   "lastKernelId": null
  },
  "celltoolbar": "Tags",
  "kernelspec": {
   "display_name": "Python 3",
   "language": "python",
   "name": "python3"
  },
  "language_info": {
   "codemirror_mode": {
    "name": "ipython",
    "version": 3
   },
   "file_extension": ".py",
   "mimetype": "text/x-python",
   "name": "python",
   "nbconvert_exporter": "python",
   "pygments_lexer": "ipython3",
   "version": "3.7.5"
  }
 },
 "nbformat": 4,
 "nbformat_minor": 2
}