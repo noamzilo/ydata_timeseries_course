{
 "cells": [
  {
   "cell_type": "markdown",
   "metadata": {
    "tags": [
     "intro"
    ]
   },
   "source": [
    "# Grading process\n",
    "\n",
    "\n",
    "The submission notebook will be autovalidated with `papermill`. The exact command is the following:\n",
    "\n",
    "```bash\n",
    "papermill <notebook-name>.ipynb <notebook-name>-run.ipynb .ipynb -p TEST True\n",
    "```\n",
    "\n",
    "Papermill will inject new cell after each cell tagged as `parameters` (see `View > Cell toolbar > Tags`). Notebook will be executed from top to bottom in a linear order. `solutions.py` contains correct implementations used to validate your solutions.\n",
    "\n",
    "Please, **fill `STUDENT` variable with the name of submitting student**, so that we can collect the results automatically. Please, **do not change `TEST` variable** and `validation` cells. If you need to inject your own code for testing, wrap it into\n",
    "\n",
    "```python\n",
    "if not TEST:\n",
    "    ...\n",
    "```\n",
    "\n",
    "Different problems give different number of points. All problems in the basic section give 1 point, while all problems in intermediate section give 2 points.\n",
    "\n",
    "Each problem contains specific validation details. You need to fill each cell tagged `solution` with your code. Note, that solution function must self-contained, i.e. it must not use any state from the notebook itself.\n",
    "\n",
    "# Dataset\n",
    "\n",
    "All problems in the assignment use [electricity load dataset](https://archive.ics.uci.edu/ml/datasets/ElectricityLoadDiagrams20112014). Some functions/methods accept data itself, and in that case it's a Pandas dataframe as obtained by\n",
    "\n",
    "```python\n",
    "df = pd.read_csv(\"LD2011_2014.txt\",\n",
    "                 parse_dates=[0],\n",
    "                 delimiter=\";\",\n",
    "                 decimal=\",\")\n",
    "df.rename({\"Unnamed: 0\": \"timestamp\"}, axis=1, inplace=True)\n",
    "```\n",
    "\n",
    "In contrast, whenever a function/method accepts a filename, it's the filename of **unzipped** data file (i.e. `LD2011_2014.txt`). When testing, do not rely on any specific location of the dataset, as validation environment will most certainly different from your local one. Hence, calls like\n",
    "\n",
    "```python\n",
    "df = pd.read_csv(\"<your-local-directory>/LD2011_2014.txt\")\n",
    "```\n",
    "\n",
    "will fail."
   ]
  },
  {
   "cell_type": "code",
   "execution_count": 2,
   "metadata": {
    "ExecuteTime": {
     "end_time": "2019-10-30T22:26:04.111972Z",
     "start_time": "2019-10-30T22:26:04.107385Z"
    }
   },
   "outputs": [],
   "source": [
    "import numpy as np\n",
    "import pandas as pd\n",
    "import torch"
   ]
  },
  {
   "cell_type": "code",
   "execution_count": 3,
   "metadata": {
    "ExecuteTime": {
     "end_time": "2019-10-30T22:26:04.372936Z",
     "start_time": "2019-10-30T22:26:04.364608Z"
    }
   },
   "outputs": [],
   "source": [
    "STUDENT = \"Noam Salomonski\""
   ]
  },
  {
   "cell_type": "code",
   "execution_count": 4,
   "metadata": {
    "tags": [
     "parameters"
    ]
   },
   "outputs": [],
   "source": [
    "ASSIGNMENT = 1\n",
    "TEST = False"
   ]
  },
  {
   "cell_type": "code",
   "execution_count": 5,
   "metadata": {
    "ExecuteTime": {
     "end_time": "2019-10-30T22:39:38.188583Z",
     "start_time": "2019-10-30T22:39:38.182534Z"
    },
    "tags": [
     "validation"
    ]
   },
   "outputs": [],
   "source": [
    "if TEST:\n",
    "    import solutions\n",
    "    total_grade = 0\n",
    "    MAX_POINTS = 12"
   ]
  },
  {
   "cell_type": "markdown",
   "metadata": {},
   "source": [
    "# Pandas"
   ]
  },
  {
   "cell_type": "markdown",
   "metadata": {
    "tags": [
     "problem"
    ]
   },
   "source": [
    "### 1. Resample the dataset (1 point)\n",
    "\n",
    "Resample the dataset to 1-hour resolution. Use `mean` as an aggregation function. Your function must output a dataframe, with the same structure as the original one (i.e. not indexed by datetime)."
   ]
  },
  {
   "cell_type": "code",
   "execution_count": 28,
   "metadata": {},
   "outputs": [
    {
     "name": "stdout",
     "output_type": "stream",
     "text": [
      "            timestamp  MT_001  MT_002  MT_003  MT_004  MT_005  MT_006  MT_007  \\\n",
      "0 2011-01-01 00:15:00     0.0     0.0     0.0     0.0     0.0     0.0     0.0   \n",
      "1 2011-01-01 00:30:00     0.0     0.0     0.0     0.0     0.0     0.0     0.0   \n",
      "2 2011-01-01 00:45:00     0.0     0.0     0.0     0.0     0.0     0.0     0.0   \n",
      "3 2011-01-01 01:00:00     0.0     0.0     0.0     0.0     0.0     0.0     0.0   \n",
      "4 2011-01-01 01:15:00     0.0     0.0     0.0     0.0     0.0     0.0     0.0   \n",
      "\n",
      "   MT_008  MT_009  ...  MT_361  MT_362  MT_363  MT_364  MT_365  MT_366  \\\n",
      "0     0.0     0.0  ...     0.0     0.0     0.0     0.0     0.0     0.0   \n",
      "1     0.0     0.0  ...     0.0     0.0     0.0     0.0     0.0     0.0   \n",
      "2     0.0     0.0  ...     0.0     0.0     0.0     0.0     0.0     0.0   \n",
      "3     0.0     0.0  ...     0.0     0.0     0.0     0.0     0.0     0.0   \n",
      "4     0.0     0.0  ...     0.0     0.0     0.0     0.0     0.0     0.0   \n",
      "\n",
      "   MT_367  MT_368  MT_369  MT_370  \n",
      "0     0.0     0.0     0.0     0.0  \n",
      "1     0.0     0.0     0.0     0.0  \n",
      "2     0.0     0.0     0.0     0.0  \n",
      "3     0.0     0.0     0.0     0.0  \n",
      "4     0.0     0.0     0.0     0.0  \n",
      "\n",
      "[5 rows x 371 columns]\n"
     ]
    }
   ],
   "source": [
    "if not TEST:\n",
    "    orig_df = pd.read_csv(\"LD2011_2014.txt\",\n",
    "                 parse_dates=[0],\n",
    "                 delimiter=\";\",\n",
    "                 decimal=\",\")\n",
    "    orig_df.rename({\"Unnamed: 0\": \"timestamp\"}, axis=1, inplace=True)\n",
    "    print(orig_df.head())"
   ]
  },
  {
   "cell_type": "code",
   "execution_count": 44,
   "metadata": {
    "ExecuteTime": {
     "end_time": "2019-10-30T22:26:07.100307Z",
     "start_time": "2019-10-30T22:26:07.092132Z"
    },
    "tags": [
     "solution"
    ]
   },
   "outputs": [],
   "source": [
    "def el_resample(df):\n",
    "    # your code goes here\n",
    "    #print(df.head())\n",
    "    #print(df.index)\n",
    "    #print(df[\"timestamp\"].dtype)\n",
    "    df = df.resample('H',on='timestamp').mean().reset_index()\n",
    "    #print(df.head())\n",
    "    #print(df.index)\n",
    "    return df\n",
    "\n",
    "if not TEST:\n",
    "    el_resample(orig_df.copy())"
   ]
  },
  {
   "cell_type": "code",
   "execution_count": null,
   "metadata": {
    "ExecuteTime": {
     "end_time": "2019-10-30T22:26:07.334174Z",
     "start_time": "2019-10-30T22:26:07.322103Z"
    },
    "tags": [
     "validation"
    ]
   },
   "outputs": [],
   "source": [
    "PROBLEM_ID = 1\n",
    "\n",
    "if TEST:\n",
    "    total_grade += solutions.check(STUDENT, PROBLEM_ID, el_resample)"
   ]
  },
  {
   "cell_type": "markdown",
   "metadata": {
    "tags": [
     "problem"
    ]
   },
   "source": [
    "### 2. Consumption peaks (1 point)\n",
    "\n",
    "For each household, calculate, which month in 2014 had the highest consumption. Your function must output series, indexed by household ID (e.g., `MT_XXX`), and containing month as an integer (`1-12`)."
   ]
  },
  {
   "cell_type": "code",
   "execution_count": 91,
   "metadata": {
    "ExecuteTime": {
     "end_time": "2019-10-30T22:26:08.274476Z",
     "start_time": "2019-10-30T22:26:08.268426Z"
    },
    "tags": [
     "solution"
    ]
   },
   "outputs": [
    {
     "data": {
      "text/plain": "<Figure size 432x288 with 1 Axes>",
      "image/png": "[encoded data removed]"
     },
     "metadata": {
      "needs_background": "light"
     },
     "output_type": "display_data"
    }
   ],
   "source": [
    "def cons_peak(df):\n",
    "    #print(df.head())\n",
    "    #print(df.index)\n",
    "    df2014 = df[df[\"timestamp\"].dt.year == 2014]\n",
    "    months2014 = df2014.resample('M',on='timestamp').mean().reset_index()\n",
    "    #print(months2014)\n",
    "    #print(f\"len = {len(months2014)}\")\n",
    "    max_month = months2014.drop([\"timestamp\"], axis=1).idxmax(axis=0)\n",
    "    #print(\"max_month:\")\n",
    "    #print(max_month)\n",
    "    max_month.hist(bins=12)\n",
    "    return max_month\n",
    "\n",
    "if not TEST:\n",
    "    cons_peak(orig_df.copy())"
   ]
  },
  {
   "cell_type": "code",
   "execution_count": null,
   "metadata": {
    "ExecuteTime": {
     "end_time": "2019-10-30T22:26:08.554208Z",
     "start_time": "2019-10-30T22:26:08.542546Z"
    },
    "tags": [
     "validation"
    ]
   },
   "outputs": [],
   "source": [
    "PROBLEM_ID = 2\n",
    "\n",
    "if TEST:\n",
    "    total_grade += solutions.check(STUDENT, PROBLEM_ID, cons_peak)"
   ]
  },
  {
   "cell_type": "markdown",
   "metadata": {},
   "source": [
    "# PyTorch"
   ]
  },
  {
   "cell_type": "markdown",
   "metadata": {
    "tags": [
     "problem"
    ]
   },
   "source": [
    "### 3. Find minimum (2 points)\n",
    "\n",
    "Consider the following scalar function:\n",
    "\n",
    "$$\n",
    "f(x) = ax^2 + bx + c\n",
    "$$\n",
    "\n",
    "Given $a,b,c$, find $x$, which minimizes $f(x)$, and minimum value of $f(x)$. Note this:\n",
    "\n",
    "- $a,b,c$ are fixed, and generated in such a way, that minimum always exists ($f(x)$ is convex),\n",
    "- $x$ is a scalar value, i.e. 0-dimensional tensor.\n",
    "\n",
    "For reference, see `generate_coef` function, which is used to generate coefficients. Note, that since optimization process is not completely deterministic, the output is considered correct, if it falls within `1e-3` of actual values.\n",
    "\n",
    "This problem must be solved as an optimization one using gradient descent.\n",
    "\n",
    "For that, use only PyTorch functionality, `SciPy` (or alike) optimization routines are not allowed, neither is direct calculation using coefficients."
   ]
  },
  {
   "cell_type": "code",
   "execution_count": 82,
   "metadata": {},
   "outputs": [],
   "source": [
    "def generate_coeffs():\n",
    "    a = torch.rand(size=()) * 10\n",
    "    b = -10 + torch.rand(size=()) * 10\n",
    "    c = -10 + torch.rand(size=()) * 10\n",
    "    return a, b, c\n",
    "\n",
    "def func(x, a, b, c):\n",
    "    return x.pow(2) * a + x * b + c"
   ]
  },
  {
   "cell_type": "code",
   "execution_count": 87,
   "metadata": {
    "ExecuteTime": {
     "end_time": "2019-10-30T22:26:08.950073Z",
     "start_time": "2019-10-30T22:26:08.944541Z"
    },
    "tags": [
     "solution"
    ]
   },
   "outputs": [
    {
     "name": "stdout",
     "output_type": "stream",
     "text": [
      "a=0.5875647068023682, b=-9.817789077758789, c=-7.35923957824707, x_min=8.354645729064941, val_min=-48.371307373046875\n",
      "a=6.748786449432373, b=-8.677584648132324, c=-1.2855167388916016, x_min=0.6428996324539185, val_min=-4.074924468994141\n",
      "a=1.8893516063690186, b=-1.5858879089355469, c=-1.0647010803222656, x_min=0.4196910262107849, val_min=-1.397492527961731\n",
      "a=9.494210243225098, b=-9.516326904296875, c=-2.1832008361816406, x_min=0.5011647343635559, val_min=-4.567824363708496\n",
      "a=6.883310317993164, b=-0.33545684814453125, c=-1.0558242797851562, x_min=0.024367405101656914, val_min=-1.0599113702774048\n",
      "a=3.7001967430114746, b=-0.0676736831665039, c=-4.648956775665283, x_min=0.009144606068730354, val_min=-4.649266242980957\n",
      "a=0.2163463830947876, b=-8.440464973449707, c=-5.623283863067627, x_min=19.506834030151367, val_min=-87.94664001464844\n",
      "a=0.3179818391799927, b=-4.701390266418457, c=-5.881476879119873, x_min=7.392545223236084, val_min=-23.25909996032715\n",
      "a=8.128913879394531, b=-2.558631420135498, c=-7.027429580688477, x_min=0.1573784351348877, val_min=-7.228766441345215\n",
      "a=5.247283935546875, b=-5.17618465423584, c=-0.17367935180664062, x_min=0.4932251274585724, val_min=-1.4501914978027344\n",
      "a=4.108011722564697, b=-0.9075250625610352, c=-8.927669525146484, x_min=0.11045794188976288, val_min=-8.977790832519531\n",
      "a=5.762589454650879, b=-2.633305072784424, c=-5.887704372406006, x_min=0.22848279774188995, val_min=-6.188536643981934\n",
      "a=4.440625190734863, b=-4.655544757843018, c=-3.0798192024230957, x_min=0.5241992473602295, val_min=-4.30003547668457\n",
      "a=7.9041428565979, b=-7.488288402557373, c=-6.650618553161621, x_min=0.4736939072608948, val_min=-8.42419719696045\n",
      "a=1.8883615732192993, b=-4.3543806076049805, c=-9.843305587768555, x_min=1.152951955795288, val_min=-12.353501319885254\n",
      "a=8.373878479003906, b=-0.39220237731933594, c=-2.143299102783203, x_min=0.023418202996253967, val_min=-2.1478915214538574\n",
      "a=4.2360639572143555, b=-1.2680740356445312, c=-3.109752655029297, x_min=0.14967598021030426, val_min=-3.204652786254883\n",
      "a=8.563061714172363, b=-6.7244110107421875, c=-0.8466062545776367, x_min=0.3926405906677246, val_min=-2.1667444705963135\n",
      "a=5.089740753173828, b=-3.441107749938965, c=-6.698729991912842, x_min=0.3380435109138489, val_min=-7.2803521156311035\n",
      "a=5.621882438659668, b=-6.047642230987549, c=-2.063133716583252, x_min=0.5378662943840027, val_min=-3.689545154571533\n",
      "a=7.507068634033203, b=-3.426013946533203, c=-4.464588165283203, x_min=0.22818586230278015, val_min=-4.855472087860107\n",
      "a=8.217430114746094, b=-1.6500749588012695, c=-8.2383451461792, x_min=0.1004009023308754, val_min=-8.321179389953613\n",
      "a=1.2054669857025146, b=-0.23024368286132812, c=-7.351612091064453, x_min=0.09549977630376816, val_min=-7.362606048583984\n",
      "a=3.2912416458129883, b=-6.285849571228027, c=-3.4480481147766113, x_min=0.9549359083175659, val_min=-6.449339866638184\n",
      "a=5.103992938995361, b=-3.6492466926574707, c=-8.920467376708984, x_min=0.35748937726020813, val_min=-9.57275104522705\n",
      "a=3.0295162200927734, b=-8.754158973693848, c=-7.783379077911377, x_min=1.4448113441467285, val_min=-14.107433319091797\n",
      "a=7.473587512969971, b=-6.227856636047363, c=-3.1243114471435547, x_min=0.41665777564048767, val_min=-4.421753883361816\n",
      "a=8.738739013671875, b=-2.6198220252990723, c=-7.896036624908447, x_min=0.1498970091342926, val_min=-8.092388153076172\n",
      "a=5.868992328643799, b=-4.936104774475098, c=-7.484249114990234, x_min=0.4205240309238434, val_min=-8.522124290466309\n",
      "a=1.6532719135284424, b=-7.362820625305176, c=-9.13784408569336, x_min=2.2267422676086426, val_min=-17.33539581298828\n",
      "a=8.268082618713379, b=-3.1374268531799316, c=-7.2815141677856445, x_min=0.18973121047019958, val_min=-7.579148292541504\n",
      "a=9.527823448181152, b=-6.9642791748046875, c=-3.3303728103637695, x_min=0.36547061800956726, val_min=-4.602992534637451\n",
      "a=1.3579344749450684, b=-0.007605552673339844, c=-8.599206924438477, x_min=0.0028004124760627747, val_min=-8.599217414855957\n",
      "a=0.5810636281967163, b=-4.337418079376221, c=-7.0676679611206055, x_min=3.7323098182678223, val_min=-15.161959648132324\n",
      "a=8.430739402770996, b=-5.817409515380859, c=-5.453662872314453, x_min=0.345011830329895, val_min=-6.457200050354004\n",
      "a=9.743244171142578, b=-5.522442817687988, c=-5.864738941192627, x_min=0.2833985686302185, val_min=-6.6472649574279785\n",
      "a=0.97068190574646, b=-1.625319480895996, c=-2.6765542030334473, x_min=0.8372049331665039, val_min=-3.356916904449463\n",
      "a=0.43717265129089355, b=-1.2126712799072266, c=-3.986382484436035, x_min=1.3869484663009644, val_min=-4.827338218688965\n",
      "a=1.942763328552246, b=-1.6189260482788086, c=-2.8851866722106934, x_min=0.4166555106639862, val_min=-3.2224538326263428\n",
      "a=5.082964897155762, b=-4.878407001495361, c=-0.2784109115600586, x_min=0.47987809777259827, val_min=-1.448931097984314\n",
      "a=9.314212799072266, b=-5.665717124938965, c=-6.040897369384766, x_min=0.30414363741874695, val_min=-6.902493476867676\n",
      "a=8.700750350952148, b=-9.943060874938965, c=-1.2242307662963867, x_min=0.5713909864425659, val_min=-4.064918518066406\n",
      "a=8.746476173400879, b=-3.772458553314209, c=-2.9589242935180664, x_min=0.21565590798854828, val_min=-3.3657007217407227\n",
      "a=3.449538230895996, b=-1.5835685729980469, c=-8.032502174377441, x_min=0.22953341901302338, val_min=-8.214242935180664\n",
      "a=1.776157021522522, b=-7.432257652282715, c=-8.168402671813965, x_min=2.0922300815582275, val_min=-15.943397521972656\n",
      "a=3.8837850093841553, b=-4.383806228637695, c=-7.557411193847656, x_min=0.5643729567527771, val_min=-8.794462203979492\n",
      "a=5.410491943359375, b=-9.226457595825195, c=-5.309165954589844, x_min=0.8526449799537659, val_min=-9.242612838745117\n",
      "a=1.4371460676193237, b=-2.783475875854492, c=-0.5755100250244141, x_min=0.9684039354324341, val_min=-1.9232745170593262\n",
      "a=3.7109131813049316, b=-1.3537921905517578, c=-5.2788615226745605, x_min=0.18240687251091003, val_min=-5.402331829071045\n",
      "a=1.5845578908920288, b=-6.528586387634277, c=-9.299649238586426, x_min=2.060065507888794, val_min=-16.024307250976562\n",
      "a=1.0347986221313477, b=-0.39444828033447266, c=-9.16059398651123, x_min=0.19059182703495026, val_min=-9.198183059692383\n",
      "a=8.877518653869629, b=-5.468216419219971, c=-2.191676616668701, x_min=0.30798110365867615, val_min=-3.0337302684783936\n",
      "a=3.867732286453247, b=-3.3354978561401367, c=-8.17753791809082, x_min=0.43119555711746216, val_min=-8.896663665771484\n",
      "a=0.9498906135559082, b=-4.870151996612549, c=-9.965460777282715, x_min=2.563532590866089, val_min=-16.20785903930664\n",
      "a=3.8329601287841797, b=-5.129923343658447, c=-0.7505884170532227, x_min=0.6691855788230896, val_min=-2.4670238494873047\n",
      "a=7.170605659484863, b=-2.7412424087524414, c=-9.217618942260742, x_min=0.1911444067955017, val_min=-9.479605674743652\n",
      "a=8.845369338989258, b=-0.5687084197998047, c=-3.804492473602295, x_min=0.03214723616838455, val_min=-3.813633680343628\n",
      "a=3.3454298973083496, b=-6.587166786193848, c=-0.28415489196777344, x_min=0.9845022559165955, val_min=-3.5266952514648438\n",
      "a=5.866772651672363, b=-0.6863842010498047, c=-7.8853864669799805, x_min=0.0584975965321064, val_min=-7.905462265014648\n",
      "a=1.7986047267913818, b=-9.263433456420898, c=-6.024655818939209, x_min=2.575172185897827, val_min=-17.952123641967773\n",
      "a=9.573026657104492, b=-9.571321487426758, c=-0.05471324920654297, x_min=0.49991095066070557, val_min=-2.447117567062378\n",
      "a=5.036911487579346, b=-7.5993452072143555, c=-9.626575469970703, x_min=0.7543655633926392, val_min=-12.49291706085205\n",
      "a=2.4714202880859375, b=-8.50531005859375, c=-9.773378372192383, x_min=1.7207332849502563, val_min=-17.091064453125\n",
      "a=7.138980865478516, b=-7.4573774337768555, c=-5.951976776123047, x_min=0.5222998857498169, val_min=-7.899470329284668\n",
      "a=4.923696517944336, b=-9.074834823608398, c=-4.237593650817871, x_min=0.921546995639801, val_min=-8.419036865234375\n",
      "a=5.608020782470703, b=-5.226528644561768, c=-5.993408679962158, x_min=0.4659869074821472, val_min=-7.211155891418457\n",
      "a=0.14597654342651367, b=-7.537475109100342, c=-3.03676700592041, x_min=25.817428588867188, val_min=-100.3358383178711\n",
      "a=2.1605467796325684, b=-5.291604042053223, c=-7.214323997497559, x_min=1.2245982885360718, val_min=-10.454368591308594\n",
      "a=8.491972923278809, b=-8.073163986206055, c=-4.045025825500488, x_min=0.47534090280532837, val_min=-5.963778495788574\n",
      "a=2.6175732612609863, b=-5.173549175262451, c=-8.512869834899902, x_min=0.9882338643074036, val_min=-11.069208145141602\n",
      "a=5.874516487121582, b=-5.778810501098633, c=-5.822607040405273, x_min=0.49185413122177124, val_min=-7.243772983551025\n",
      "a=6.662125587463379, b=-7.908640384674072, c=-5.918101787567139, x_min=0.5935523509979248, val_min=-8.26519775390625\n",
      "a=5.370382308959961, b=-3.3596315383911133, c=-1.2243680953979492, x_min=0.3127925992012024, val_min=-1.7498021125793457\n",
      "a=5.035414218902588, b=-7.658163070678711, c=-9.452187538146973, x_min=0.7604302763938904, val_min=-12.363937377929688\n",
      "a=6.063530445098877, b=-8.707169532775879, c=-6.801207065582275, x_min=0.7179950475692749, val_min=-9.927059173583984\n",
      "a=9.08110523223877, b=-7.43408203125, c=-5.6173319816589355, x_min=0.40931591391563416, val_min=-7.138775825500488\n",
      "a=6.729132652282715, b=-5.6303815841674805, c=-1.7666025161743164, x_min=0.4183586537837982, val_min=-2.944361925125122\n",
      "a=9.782740592956543, b=-7.880835056304932, c=-4.505624771118164, x_min=0.4027927815914154, val_min=-6.092796802520752\n",
      "a=6.178025245666504, b=-1.0326871871948242, c=-6.256532669067383, x_min=0.08357744663953781, val_min=-6.299687385559082\n",
      "a=3.9078755378723145, b=-0.24216747283935547, c=-1.7383604049682617, x_min=0.0309845432639122, val_min=-1.742112159729004\n",
      "a=6.898703575134277, b=-7.350396633148193, c=-8.08346939086914, x_min=0.5327375531196594, val_min=-10.041385650634766\n",
      "a=0.25315940380096436, b=-7.511387348175049, c=-6.699926376342773, x_min=14.83528995513916, val_min=-62.41674041748047\n",
      "a=8.211897850036621, b=-4.105525493621826, c=-4.17663049697876, x_min=0.24997420608997345, val_min=-4.689768314361572\n",
      "a=4.567968845367432, b=-2.694230556488037, c=-3.813290596008301, x_min=0.2949046492576599, val_min=-4.210561275482178\n",
      "a=6.1478271484375, b=-9.827376365661621, c=-0.16896533966064453, x_min=0.7992560267448425, val_min=-4.0962605476379395\n",
      "a=5.644989967346191, b=-9.287577629089355, c=-6.786677837371826, x_min=0.822638988494873, val_min=-10.606840133666992\n",
      "a=5.79307746887207, b=-9.584845542907715, c=-0.16924762725830078, x_min=0.8272671699523926, val_min=-4.133861541748047\n",
      "a=1.9465583562850952, b=-3.4225006103515625, c=-4.795076370239258, x_min=0.879115879535675, val_min=-6.299463272094727\n",
      "a=7.9937214851379395, b=-1.456404685974121, c=-0.2245626449584961, x_min=0.09109678119421005, val_min=-0.2908995449542999\n",
      "a=2.703949213027954, b=-5.017902374267578, c=-3.878659248352051, x_min=0.9278839826583862, val_min=-6.206674575805664\n",
      "a=7.245669841766357, b=-9.165250778198242, c=-8.586600303649902, x_min=0.6324639916419983, val_min=-11.484945297241211\n",
      "a=2.555875301361084, b=-4.128283977508545, c=-6.736721992492676, x_min=0.8076066970825195, val_min=-8.40373706817627\n",
      "a=8.865209579467773, b=-6.473198890686035, c=-0.22990703582763672, x_min=0.365090012550354, val_min=-1.4115571975708008\n",
      "a=6.81525993347168, b=-4.932855606079102, c=-9.219886779785156, x_min=0.3618978261947632, val_min=-10.112482070922852\n",
      "a=9.63865852355957, b=-6.709508895874023, c=-4.764232158660889, x_min=0.3480520248413086, val_min=-5.931861400604248\n",
      "a=6.657611846923828, b=-4.90516471862793, c=-7.715902328491211, x_min=0.36838769912719727, val_min=-8.619403839111328\n",
      "a=0.8385896682739258, b=-2.2990102767944336, c=-2.419255256652832, x_min=1.370760202407837, val_min=-3.994950771331787\n",
      "a=5.183541297912598, b=-5.321723937988281, c=-3.020583152770996, x_min=0.5133289694786072, val_min=-4.386480808258057\n",
      "a=6.331658840179443, b=-8.442530632019043, c=-0.696807861328125, x_min=0.6666918992996216, val_min=-3.5110909938812256\n",
      "a=1.575893759727478, b=-1.9069032669067383, c=-9.215696334838867, x_min=0.6050227284431458, val_min=-9.792555809020996\n"
     ]
    },
    {
     "name": "stderr",
     "output_type": "stream",
     "text": [
      "c:\\noam\\ydata_timeseries_course\\venv\\lib\\site-packages\\ipykernel_launcher.py:25: UserWarning: To copy construct from a tensor, it is recommended to use sourceTensor.clone().detach() or sourceTensor.clone().detach().requires_grad_(True), rather than torch.tensor(sourceTensor).\n"
     ]
    }
   ],
   "source": [
    "def find_min(a, b, c):\n",
    "    param = torch.zeros(size=(), requires_grad=True)\n",
    "    value_function = lambda x :func(x, a, b, c)\n",
    "    loss_function = lambda val: val\n",
    "\n",
    "    optimizer = torch.optim.SGD([param], lr=0.01, momentum=0.9)\n",
    "    for _ in range(10000):\n",
    "        optimizer.zero_grad()\n",
    "        value = value_function(param)\n",
    "        loss = loss_function(value)\n",
    "        loss.backward()\n",
    "        optimizer.step()\n",
    "\n",
    "    x_min = param\n",
    "    val_min = value_function(x_min)\n",
    "\n",
    "    return x_min, val_min\n",
    "\n",
    "if not TEST:\n",
    "    for _ in range(100):\n",
    "        a, b, c = generate_coeffs()\n",
    "        x_min, val_min = find_min(a, b, c)\n",
    "        print(f\"a={a}, b={b}, c={c}, x_min={x_min}, val_min={val_min}\")\n",
    "\n",
    "        analytic_solution_x = torch.tensor(-b / (2*a))\n",
    "        analytic_solution_val = func(analytic_solution_x, a, b, c)\n",
    "\n",
    "        np.testing.assert_almost_equal(analytic_solution_x, x_min.detach().numpy(), decimal=4),\n",
    "        np.testing.assert_almost_equal(analytic_solution_val, val_min.detach().numpy(), decimal=4)"
   ]
  },
  {
   "cell_type": "code",
   "execution_count": null,
   "metadata": {
    "ExecuteTime": {
     "end_time": "2019-10-30T22:26:09.170219Z",
     "start_time": "2019-10-30T22:26:09.158251Z"
    },
    "tags": [
     "validation"
    ]
   },
   "outputs": [],
   "source": [
    "PROBLEM_ID = 3\n",
    "\n",
    "if TEST:\n",
    "    total_grade += solutions.check(STUDENT, PROBLEM_ID, find_min)"
   ]
  },
  {
   "cell_type": "markdown",
   "metadata": {
    "tags": [
     "problem"
    ]
   },
   "source": [
    "### 4. PyTorch `Dataset` (3 points)\n",
    "\n",
    "Implement a `torch.utils.data.Dataset` sub-class for the electricity consumption data. Individual training instances must be week-long univarite series of hourly consumption (input, 168 values), followed by 24-hours long series of hourly consumption (output, 24 values) for a single household. Such a class can be used when training a consumption forecast model, which uses 7 days of historical consumption to forecast next 24 hours of consumption.\n",
    "\n",
    "`__getitem__(self, idx)` must return a tuple of 1D tensors, `in_data` and `out_data`. `in_data` contains 168 hours of consumption (hourly), starting from some `start_ts`, while `out_data` must contain 24 hourly consumption values starting from `start_ts + 168 hours` for some household. `start_ts` should be sampled randomly.\n",
    "\n",
    "Also, you need to implement a `get_mapping(self, idx)` method, which allows to calculate `(household, starting time) -> idx` correspondence.\n",
    "\n",
    "This class will be validated as the following:\n",
    "\n",
    "- dataset object is created with some random `samples`: `dataset = ElDataset(df, samples)` ,\n",
    "- validator fetches random `idx` (between `0` and `len(dataset)`) from the dataset:\n",
    "```python\n",
    "household, start_ts = dataset.get_mapping(idx)\n",
    "hist_data, future_data = dataset[idx]\n",
    "```\n",
    "- then, `hist_data` and `future_data` are compared with the data, obtained directly from `df` using `household, start_ts`."
   ]
  },
  {
   "cell_type": "code",
   "execution_count": null,
   "metadata": {
    "ExecuteTime": {
     "end_time": "2019-10-30T22:26:09.531869Z",
     "start_time": "2019-10-30T22:26:09.523705Z"
    },
    "tags": [
     "solution"
    ]
   },
   "outputs": [],
   "source": [
    "from torch.utils.data import Dataset\n",
    "\n",
    "\n",
    "class ElDataset(Dataset):\n",
    "    \"\"\"Electricity dataset.\"\"\"\n",
    "\n",
    "    def __init__(self, df, samples):\n",
    "        \"\"\"\n",
    "        Args:\n",
    "            df: original electricity data (see HW intro for details).\n",
    "            samples (int): number of sample to take per household.\n",
    "        \"\"\"\n",
    "        self.raw_data = df.set_index(\"\")\n",
    "        self.samples = samples\n",
    "\n",
    "    def __len__(self):\n",
    "        return self.samples * (self.raw_data.shape[1] - 1)\n",
    "\n",
    "    def __getitem__(self, idx):\n",
    "        # your code goes here\n",
    "        # return hist_data, future_data\n",
    "        raise NotImplementedError\n",
    "\n",
    "    def get_mapping(self, idx):\n",
    "        # your code goes here\n",
    "        # return household, start_ts\n",
    "        raise NotImplementedError"
   ]
  },
  {
   "cell_type": "code",
   "execution_count": null,
   "metadata": {
    "ExecuteTime": {
     "end_time": "2019-10-30T22:26:09.716713Z",
     "start_time": "2019-10-30T22:26:09.707934Z"
    },
    "tags": [
     "validation"
    ]
   },
   "outputs": [],
   "source": [
    "PROBLEM_ID = 4\n",
    "\n",
    "if TEST:\n",
    "    total_grade += solutions.check(STUDENT, PROBLEM_ID, ElDataset)"
   ]
  },
  {
   "cell_type": "markdown",
   "metadata": {},
   "source": [
    "# Your grade"
   ]
  },
  {
   "cell_type": "code",
   "execution_count": null,
   "metadata": {
    "ExecuteTime": {
     "end_time": "2019-10-30T22:39:26.661611Z",
     "start_time": "2019-10-30T22:39:26.654545Z"
    }
   },
   "outputs": [],
   "source": [
    "if TEST:\n",
    "    print(f\"{STUDENT}: {total_grade}\")"
   ]
  },
  {
   "cell_type": "code",
   "execution_count": null,
   "metadata": {},
   "outputs": [],
   "source": []
  }
 ],
 "metadata": {
  "@webio": {
   "lastCommId": null,
   "lastKernelId": null
  },
  "celltoolbar": "Tags",
  "kernelspec": {
   "display_name": "Python 3",
   "language": "python",
   "name": "python3"
  },
  "language_info": {
   "codemirror_mode": {
    "name": "ipython",
    "version": 3
   },
   "file_extension": ".py",
   "mimetype": "text/x-python",
   "name": "python",
   "nbconvert_exporter": "python",
   "pygments_lexer": "ipython3",
   "version": "3.7.5"
  }
 },
 "nbformat": 4,
 "nbformat_minor": 2
}