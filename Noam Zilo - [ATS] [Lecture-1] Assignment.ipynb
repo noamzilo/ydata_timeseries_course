{
 "cells": [
  {
   "cell_type": "markdown",
   "metadata": {
    "tags": [
     "intro"
    ]
   },
   "source": [
    "# Grading process\n",
    "\n",
    "\n",
    "The submission notebook will be autovalidated with `papermill`. The exact command is the following:\n",
    "\n",
    "```bash\n",
    "papermill <notebook-name>.ipynb <notebook-name>-run.ipynb .ipynb -p TEST True\n",
    "```\n",
    "\n",
    "Papermill will inject new cell after each cell tagged as `parameters` (see `View > Cell toolbar > Tags`). Notebook will be executed from top to bottom in a linear order. `solutions.py` contains correct implementations used to validate your solutions.\n",
    "\n",
    "Please, **fill `STUDENT` variable with the name of submitting student**, so that we can collect the results automatically. Please, **do not change `TEST` variable** and `validation` cells. If you need to inject your own code for testing, wrap it into\n",
    "\n",
    "```python\n",
    "if not TEST:\n",
    "    ...\n",
    "```\n",
    "\n",
    "Different problems give different number of points. All problems in the basic section give 1 point, while all problems in intermediate section give 2 points.\n",
    "\n",
    "Each problem contains specific validation details. You need to fill each cell tagged `solution` with your code. Note, that solution function must self-contained, i.e. it must not use any state from the notebook itself.\n",
    "\n",
    "# Dataset\n",
    "\n",
    "All problems in the assignment use [electricity load dataset](https://archive.ics.uci.edu/ml/datasets/ElectricityLoadDiagrams20112014). Some functions/methods accept data itself, and in that case it's a Pandas dataframe as obtained by\n",
    "\n",
    "```python\n",
    "df = pd.read_csv(\"LD2011_2014.txt\",\n",
    "                 parse_dates=[0],\n",
    "                 delimiter=\";\",\n",
    "                 decimal=\",\")\n",
    "df.rename({\"Unnamed: 0\": \"timestamp\"}, axis=1, inplace=True)\n",
    "```\n",
    "\n",
    "In contrast, whenever a function/method accepts a filename, it's the filename of **unzipped** data file (i.e. `LD2011_2014.txt`). When testing, do not rely on any specific location of the dataset, as validation environment will most certainly different from your local one. Hence, calls like\n",
    "\n",
    "```python\n",
    "df = pd.read_csv(\"<your-local-directory>/LD2011_2014.txt\")\n",
    "```\n",
    "\n",
    "will fail."
   ]
  },
  {
   "cell_type": "code",
   "execution_count": 129,
   "metadata": {
    "ExecuteTime": {
     "end_time": "2019-10-30T22:26:04.111972Z",
     "start_time": "2019-10-30T22:26:04.107385Z"
    }
   },
   "outputs": [],
   "source": [
    "import numpy as np\n",
    "import pandas as pd\n",
    "import torch"
   ]
  },
  {
   "cell_type": "code",
   "execution_count": 130,
   "metadata": {
    "ExecuteTime": {
     "end_time": "2019-10-30T22:26:04.372936Z",
     "start_time": "2019-10-30T22:26:04.364608Z"
    }
   },
   "outputs": [],
   "source": [
    "STUDENT = \"Noam Salomonski\""
   ]
  },
  {
   "cell_type": "code",
   "execution_count": 131,
   "metadata": {
    "tags": [
     "parameters"
    ]
   },
   "outputs": [],
   "source": [
    "ASSIGNMENT = 1\n",
    "TEST = False"
   ]
  },
  {
   "cell_type": "code",
   "execution_count": 132,
   "metadata": {
    "ExecuteTime": {
     "end_time": "2019-10-30T22:39:38.188583Z",
     "start_time": "2019-10-30T22:39:38.182534Z"
    },
    "tags": [
     "validation"
    ]
   },
   "outputs": [],
   "source": [
    "if TEST:\n",
    "    import solutions\n",
    "    total_grade = 0\n",
    "    MAX_POINTS = 12"
   ]
  },
  {
   "cell_type": "markdown",
   "metadata": {},
   "source": [
    "# Pandas"
   ]
  },
  {
   "cell_type": "markdown",
   "metadata": {
    "tags": [
     "problem"
    ]
   },
   "source": [
    "### 1. Resample the dataset (1 point)\n",
    "\n",
    "Resample the dataset to 1-hour resolution. Use `mean` as an aggregation function. Your function must output a dataframe, with the same structure as the original one (i.e. not indexed by datetime)."
   ]
  },
  {
   "cell_type": "code",
   "execution_count": 147,
   "metadata": {},
   "outputs": [
    {
     "name": "stdout",
     "output_type": "stream",
     "text": [
      "            timestamp  MT_001  MT_002  MT_003  MT_004  MT_005  MT_006  MT_007  \\\n",
      "0 2011-01-01 00:15:00     0.0     0.0     0.0     0.0     0.0     0.0     0.0   \n",
      "1 2011-01-01 00:30:00     0.0     0.0     0.0     0.0     0.0     0.0     0.0   \n",
      "2 2011-01-01 00:45:00     0.0     0.0     0.0     0.0     0.0     0.0     0.0   \n",
      "3 2011-01-01 01:00:00     0.0     0.0     0.0     0.0     0.0     0.0     0.0   \n",
      "4 2011-01-01 01:15:00     0.0     0.0     0.0     0.0     0.0     0.0     0.0   \n",
      "\n",
      "   MT_008  MT_009  ...  MT_361  MT_362  MT_363  MT_364  MT_365  MT_366  \\\n",
      "0     0.0     0.0  ...     0.0     0.0     0.0     0.0     0.0     0.0   \n",
      "1     0.0     0.0  ...     0.0     0.0     0.0     0.0     0.0     0.0   \n",
      "2     0.0     0.0  ...     0.0     0.0     0.0     0.0     0.0     0.0   \n",
      "3     0.0     0.0  ...     0.0     0.0     0.0     0.0     0.0     0.0   \n",
      "4     0.0     0.0  ...     0.0     0.0     0.0     0.0     0.0     0.0   \n",
      "\n",
      "   MT_367  MT_368  MT_369  MT_370  \n",
      "0     0.0     0.0     0.0     0.0  \n",
      "1     0.0     0.0     0.0     0.0  \n",
      "2     0.0     0.0     0.0     0.0  \n",
      "3     0.0     0.0     0.0     0.0  \n",
      "4     0.0     0.0     0.0     0.0  \n",
      "\n",
      "[5 rows x 371 columns]\n"
     ]
    }
   ],
   "source": [
    "if not TEST:\n",
    "    orig_df = pd.read_csv(\"LD2011_2014.txt\",\n",
    "                 parse_dates=[0],\n",
    "                 delimiter=\";\",\n",
    "                 decimal=\",\")\n",
    "    orig_df.rename({\"Unnamed: 0\": \"timestamp\"}, axis=1, inplace=True)\n",
    "    print(orig_df.head())"
   ]
  },
  {
   "cell_type": "code",
   "execution_count": 134,
   "metadata": {
    "ExecuteTime": {
     "end_time": "2019-10-30T22:26:07.100307Z",
     "start_time": "2019-10-30T22:26:07.092132Z"
    },
    "tags": [
     "solution"
    ]
   },
   "outputs": [],
   "source": [
    "def el_resample(df):\n",
    "    # your code goes here\n",
    "    #print(df.head())\n",
    "    #print(df.index)\n",
    "    #print(df[\"timestamp\"].dtype)\n",
    "    df = df.resample('H',on='timestamp').mean().reset_index()\n",
    "    #print(df.head())\n",
    "    #print(df.index)\n",
    "    return df\n",
    "\n",
    "if not TEST:\n",
    "    el_resample(orig_df.copy())"
   ]
  },
  {
   "cell_type": "code",
   "execution_count": 135,
   "metadata": {
    "ExecuteTime": {
     "end_time": "2019-10-30T22:26:07.334174Z",
     "start_time": "2019-10-30T22:26:07.322103Z"
    },
    "tags": [
     "validation"
    ]
   },
   "outputs": [],
   "source": [
    "PROBLEM_ID = 1\n",
    "\n",
    "if TEST:\n",
    "    total_grade += solutions.check(STUDENT, PROBLEM_ID, el_resample)"
   ]
  },
  {
   "cell_type": "markdown",
   "metadata": {
    "tags": [
     "problem"
    ]
   },
   "source": [
    "### 2. Consumption peaks (1 point)\n",
    "\n",
    "For each household, calculate, which month in 2014 had the highest consumption. Your function must output series, indexed by household ID (e.g., `MT_XXX`), and containing month as an integer (`1-12`)."
   ]
  },
  {
   "cell_type": "code",
   "execution_count": 136,
   "metadata": {
    "ExecuteTime": {
     "end_time": "2019-10-30T22:26:08.274476Z",
     "start_time": "2019-10-30T22:26:08.268426Z"
    },
    "tags": [
     "solution"
    ]
   },
   "outputs": [],
   "source": [
    "def cons_peak(df):\n",
    "    #print(df.head())\n",
    "    #print(df.index)\n",
    "    df2014 = df[df[\"timestamp\"].dt.year == 2014]\n",
    "    months2014 = df2014.resample('M',on='timestamp').mean().reset_index()\n",
    "    #print(months2014)\n",
    "    #print(f\"len = {len(months2014)}\")\n",
    "    max_month = months2014.drop([\"timestamp\"], axis=1).idxmax(axis=0)\n",
    "    #print(\"max_month:\")\n",
    "    #print(max_month)\n",
    "    #max_month.hist(bins=12)\n",
    "    return max_month\n",
    "\n",
    "if not TEST:\n",
    "    cons_peak(orig_df.copy())"
   ]
  },
  {
   "cell_type": "code",
   "execution_count": 137,
   "metadata": {
    "ExecuteTime": {
     "end_time": "2019-10-30T22:26:08.554208Z",
     "start_time": "2019-10-30T22:26:08.542546Z"
    },
    "tags": [
     "validation"
    ]
   },
   "outputs": [],
   "source": [
    "PROBLEM_ID = 2\n",
    "\n",
    "if TEST:\n",
    "    total_grade += solutions.check(STUDENT, PROBLEM_ID, cons_peak)"
   ]
  },
  {
   "cell_type": "markdown",
   "metadata": {},
   "source": [
    "# PyTorch"
   ]
  },
  {
   "cell_type": "markdown",
   "metadata": {
    "tags": [
     "problem"
    ]
   },
   "source": [
    "### 3. Find minimum (2 points)\n",
    "\n",
    "Consider the following scalar function:\n",
    "\n",
    "$$\n",
    "f(x) = ax^2 + bx + c\n",
    "$$\n",
    "\n",
    "Given $a,b,c$, find $x$, which minimizes $f(x)$, and minimum value of $f(x)$. Note this:\n",
    "\n",
    "- $a,b,c$ are fixed, and generated in such a way, that minimum always exists ($f(x)$ is convex),\n",
    "- $x$ is a scalar value, i.e. 0-dimensional tensor.\n",
    "\n",
    "For reference, see `generate_coef` function, which is used to generate coefficients. Note, that since optimization process is not completely deterministic, the output is considered correct, if it falls within `1e-3` of actual values.\n",
    "\n",
    "This problem must be solved as an optimization one using gradient descent.\n",
    "\n",
    "For that, use only PyTorch functionality, `SciPy` (or alike) optimization routines are not allowed, neither is direct calculation using coefficients."
   ]
  },
  {
   "cell_type": "code",
   "execution_count": 138,
   "metadata": {},
   "outputs": [],
   "source": [
    "def generate_coeffs():\n",
    "    a = torch.rand(size=()) * 10\n",
    "    b = -10 + torch.rand(size=()) * 10\n",
    "    c = -10 + torch.rand(size=()) * 10\n",
    "    return a, b, c\n",
    "\n",
    "def func(x, a, b, c):\n",
    "    return x.pow(2) * a + x * b + c"
   ]
  },
  {
   "cell_type": "code",
   "execution_count": 139,
   "metadata": {
    "ExecuteTime": {
     "end_time": "2019-10-30T22:26:08.950073Z",
     "start_time": "2019-10-30T22:26:08.944541Z"
    },
    "tags": [
     "solution"
    ]
   },
   "outputs": [
    {
     "name": "stdout",
     "output_type": "stream",
     "text": [
      "a=9.213847160339355, b=-3.39463472366333, c=-2.5029540061950684, x_min=0.1842137575149536, val_min=-2.8156232833862305\n",
      "a=5.280479431152344, b=-8.70773983001709, c=-5.104738235473633, x_min=0.8245217204093933, val_min=-8.694598197937012\n",
      "a=5.847260475158691, b=-4.1056084632873535, c=-5.18547248840332, x_min=0.3510711193084717, val_min=-5.906152725219727\n",
      "a=7.703855037689209, b=-9.997659683227539, c=-4.011970520019531, x_min=0.6488738059997559, val_min=-7.255579948425293\n",
      "a=6.156232833862305, b=-3.287487030029297, c=-3.5877585411071777, x_min=0.26700475811958313, val_min=-4.026645660400391\n",
      "a=5.748408317565918, b=-3.1265621185302734, c=-8.166890144348145, x_min=0.27195024490356445, val_min=-8.592024803161621\n",
      "a=1.9382578134536743, b=-4.737168312072754, c=-2.3040151596069336, x_min=1.2220169305801392, val_min=-5.198465347290039\n",
      "a=5.830537796020508, b=-0.21920299530029297, c=-6.205697536468506, x_min=0.01879783719778061, val_min=-6.207757949829102\n",
      "a=9.461716651916504, b=-0.3579063415527344, c=-0.058563232421875, x_min=0.01891339384019375, val_min=-0.06194784492254257\n",
      "a=4.281319618225098, b=-6.993725776672363, c=-2.947934150695801, x_min=0.8167722225189209, val_min=-5.804074287414551\n",
      "a=3.120120048522949, b=-3.4801487922668457, c=-3.7467737197875977, x_min=0.557694673538208, val_min=-4.7172040939331055\n",
      "a=6.331077575683594, b=-5.451963424682617, c=-7.873721599578857, x_min=0.4305715262889862, val_min=-9.047451972961426\n",
      "a=5.738959312438965, b=-2.6009249687194824, c=-1.942941665649414, x_min=0.2266024947166443, val_min=-2.2376296520233154\n",
      "a=7.175291061401367, b=-2.7864723205566406, c=-4.459295272827148, x_min=0.19417138397693634, val_min=-4.729821681976318\n",
      "a=4.6538519859313965, b=-5.545554161071777, c=-1.7279090881347656, x_min=0.5958026051521301, val_min=-3.379936933517456\n",
      "a=7.489997863769531, b=-1.8728961944580078, c=-4.981762886047363, x_min=0.12502649426460266, val_min=-5.098843574523926\n",
      "a=0.44203877449035645, b=-9.218147277832031, c=-9.50299072265625, x_min=10.426857948303223, val_min=-57.56112289428711\n",
      "a=2.267551898956299, b=-0.05224323272705078, c=-9.28361988067627, x_min=0.011519743129611015, val_min=-9.283921241760254\n",
      "a=1.9692248106002808, b=-3.634922504425049, c=-2.842607021331787, x_min=0.9229323863983154, val_min=-4.520000457763672\n",
      "a=7.297002792358398, b=-1.6319646835327148, c=-8.038421630859375, x_min=0.11182431876659393, val_min=-8.129668235778809\n",
      "a=2.8117127418518066, b=-7.476485252380371, c=-6.8361334800720215, x_min=1.329525113105774, val_min=-11.806221008300781\n",
      "a=3.016538143157959, b=-6.078169822692871, c=-4.505558490753174, x_min=1.0074743032455444, val_min=-7.56735897064209\n",
      "a=4.362476348876953, b=-1.3564395904541016, c=-1.9848403930664062, x_min=0.1554667055606842, val_min=-2.0902810096740723\n",
      "a=7.170551300048828, b=-6.10291862487793, c=-0.20005130767822266, x_min=0.4255543649196625, val_min=-1.4986129999160767\n",
      "a=1.9229459762573242, b=-8.368548393249512, c=-2.0964698791503906, x_min=2.1759707927703857, val_min=-11.20132827758789\n",
      "a=4.299859523773193, b=-4.9661407470703125, c=-7.750946998596191, x_min=0.5774770975112915, val_min=-9.184863090515137\n",
      "a=7.0672149658203125, b=-7.079983234405518, c=-6.751028060913086, x_min=0.500903308391571, val_min=-8.524221420288086\n",
      "a=5.858249664306641, b=-7.654717445373535, c=-0.017826080322265625, x_min=0.6533280611038208, val_min=-2.5183470249176025\n",
      "a=9.544018745422363, b=-3.250380039215088, c=-7.9144816398620605, x_min=0.17028361558914185, val_min=-8.191225051879883\n",
      "a=0.8130073547363281, b=-2.860386371612549, c=-1.0495529174804688, x_min=1.7591396570205688, val_min=-3.5654616355895996\n",
      "a=4.776363372802734, b=-2.917207717895508, c=-9.024688720703125, x_min=0.30537959933280945, val_min=-9.47011661529541\n",
      "a=6.257223129272461, b=-9.160058975219727, c=-3.0281028747558594, x_min=0.7319588661193848, val_min=-6.380495548248291\n",
      "a=3.684497356414795, b=-5.502504825592041, c=-0.1320352554321289, x_min=0.7467103600502014, val_min=-2.1864242553710938\n",
      "a=0.9561365842819214, b=-6.38840389251709, c=-3.3574986457824707, x_min=3.3407375812530518, val_min=-14.028491973876953\n",
      "a=3.1682581901550293, b=-3.126331329345703, c=-2.782670021057129, x_min=0.4933832883834839, val_min=-3.5539097785949707\n",
      "a=6.264918327331543, b=-0.6912631988525391, c=-3.910667896270752, x_min=0.05516937002539635, val_min=-3.9297361373901367\n",
      "a=6.242851257324219, b=-5.413541316986084, c=-7.552265167236328, x_min=0.4335792362689972, val_min=-8.72586441040039\n",
      "a=2.7487778663635254, b=-9.81643295288086, c=-8.935410499572754, x_min=1.7855995893478394, val_min=-17.699520111083984\n",
      "a=2.701096534729004, b=-9.055607795715332, c=-8.722936630249023, x_min=1.676283597946167, val_min=-16.312820434570312\n",
      "a=6.743447780609131, b=-6.766777515411377, c=-3.9313721656799316, x_min=0.5017298460006714, val_min=-5.6289191246032715\n",
      "a=2.4569244384765625, b=-8.234933853149414, c=-0.5500402450561523, x_min=1.675862193107605, val_min=-7.450347423553467\n",
      "a=1.3049513101577759, b=-4.007742881774902, c=-7.161002159118652, x_min=1.5355910062789917, val_min=-10.238128662109375\n",
      "a=7.096591472625732, b=-1.010361671447754, c=-7.434276580810547, x_min=0.07118640840053558, val_min=-7.47023868560791\n",
      "a=6.370029926300049, b=-8.901582717895508, c=-3.6318464279174805, x_min=0.6987081170082092, val_min=-6.741650581359863\n",
      "a=6.03828239440918, b=-0.2886781692504883, c=-9.947306632995605, x_min=0.023903997614979744, val_min=-9.950757026672363\n",
      "a=2.265383720397949, b=-4.104958534240723, c=-7.716856956481934, x_min=0.9060183763504028, val_min=-9.576440811157227\n",
      "a=4.615939140319824, b=-3.6928582191467285, c=-8.474207878112793, x_min=0.4000115692615509, val_min=-9.212800979614258\n",
      "a=2.606292963027954, b=-4.767873287200928, c=-5.157556533813477, x_min=0.9146848320960999, val_min=-7.338107109069824\n",
      "a=3.285334587097168, b=-4.709646224975586, c=-2.682138442993164, x_min=0.7167681455612183, val_min=-4.37000036239624\n",
      "a=3.593384027481079, b=-8.140684127807617, c=-6.954482078552246, x_min=1.1327322721481323, val_min=-11.56509017944336\n",
      "a=4.802548885345459, b=-1.339818000793457, c=-4.532719135284424, x_min=0.1394903063774109, val_min=-4.62616491317749\n",
      "a=1.8795758485794067, b=-0.9166479110717773, c=-1.1349658966064453, x_min=0.24384433031082153, val_min=-1.2467255592346191\n",
      "a=9.57871150970459, b=-8.694714546203613, c=-7.044229507446289, x_min=0.4538561701774597, val_min=-9.017304420471191\n",
      "a=4.8178510665893555, b=-0.6131448745727539, c=-0.6156044006347656, x_min=0.06363260746002197, val_min=-0.6351124048233032\n",
      "a=7.652602195739746, b=-8.165852546691895, c=-5.297868728637695, x_min=0.5335343480110168, val_min=-7.476250171661377\n",
      "a=8.5018310546875, b=-1.4150075912475586, c=-4.570286273956299, x_min=0.0832178145647049, val_min=-4.6291632652282715\n",
      "a=1.2587225437164307, b=-8.705435752868652, c=-8.228741645812988, x_min=3.4580438137054443, val_min=-23.28063201904297\n",
      "a=8.25662612915039, b=-9.146478652954102, c=-5.308333396911621, x_min=0.553887128829956, val_min=-7.8413920402526855\n",
      "a=9.36935806274414, b=-6.735835552215576, c=-8.173095703125, x_min=0.35946089029312134, val_min=-9.383729934692383\n",
      "a=8.651288986206055, b=-9.82788372039795, c=-7.263638496398926, x_min=0.5680010318756104, val_min=-10.054763793945312\n",
      "a=3.8011419773101807, b=-9.307843208312988, c=-6.713079929351807, x_min=1.2243483066558838, val_min=-12.411100387573242\n",
      "a=2.6221518516540527, b=-7.311728477478027, c=-0.6366844177246094, x_min=1.3942228555679321, val_min=-5.733774185180664\n",
      "a=0.3273874521255493, b=-9.632598876953125, c=-8.335651397705078, x_min=14.711312294006348, val_min=-79.18974304199219\n",
      "a=9.055692672729492, b=-7.437862396240234, c=-6.97890567779541, x_min=0.4106732904911041, val_min=-8.506171226501465\n",
      "a=8.873128890991211, b=-0.18011856079101562, c=-9.125056266784668, x_min=0.010149664245545864, val_min=-9.125969886779785\n",
      "a=7.66876745223999, b=-6.569957733154297, c=-9.627379417419434, x_min=0.42835816740989685, val_min=-11.034526824951172\n",
      "a=6.148346900939941, b=-3.692211627960205, c=-5.148627758026123, x_min=0.3002605140209198, val_min=-5.702940464019775\n",
      "a=4.464108467102051, b=-8.307744026184082, c=-4.9431376457214355, x_min=0.9305042624473572, val_min=-8.808333396911621\n",
      "a=2.6568026542663574, b=-4.949199676513672, c=-5.66526985168457, x_min=0.9314202666282654, val_min=-7.970162391662598\n",
      "a=4.308736324310303, b=-2.991166591644287, c=-1.335158348083496, x_min=0.34710484743118286, val_min=-1.8542826175689697\n",
      "a=3.854182243347168, b=-6.86415433883667, c=-1.1716136932373047, x_min=0.8904812932014465, val_min=-4.227814197540283\n",
      "a=4.365900039672852, b=-5.734491348266602, c=-2.4882736206054688, x_min=0.656736433506012, val_min=-4.371298313140869\n",
      "a=4.793484210968018, b=-6.573637008666992, c=-3.571493148803711, x_min=0.6856846213340759, val_min=-5.825214385986328\n",
      "a=5.659580230712891, b=-5.700965881347656, c=-3.8972277641296387, x_min=0.503656268119812, val_min=-5.332891464233398\n",
      "a=6.434080600738525, b=-9.680798530578613, c=-7.590187072753906, x_min=0.7523062825202942, val_min=-11.231649398803711\n",
      "a=5.640287399291992, b=-3.5313949584960938, c=-5.0503950119018555, x_min=0.3130509853363037, val_min=-5.603148460388184\n",
      "a=0.33746302127838135, b=-3.160470962524414, c=-0.6977386474609375, x_min=4.68269157409668, val_min=-8.097495079040527\n",
      "a=9.224136352539062, b=-6.395496368408203, c=-2.9972305297851562, x_min=0.34667184948921204, val_min=-4.105799674987793\n",
      "a=2.272010326385498, b=-8.195181846618652, c=-9.65218734741211, x_min=1.8035088777542114, val_min=-17.04222869873047\n",
      "a=5.001298904418945, b=-4.89708948135376, c=-1.9952507019042969, x_min=0.48958176374435425, val_min=-3.1940135955810547\n",
      "a=9.104057312011719, b=-2.9840211868286133, c=-7.324226379394531, x_min=0.16388413310050964, val_min=-7.5687432289123535\n",
      "a=0.5566328763961792, b=-6.044595718383789, c=-3.60150146484375, x_min=5.429606914520264, val_min=-20.011390686035156\n",
      "a=7.153170585632324, b=-4.734277725219727, c=-4.152596473693848, x_min=0.33092162013053894, val_min=-4.935934066772461\n",
      "a=8.467744827270508, b=-8.844949722290039, c=-5.969043731689453, x_min=0.522273063659668, val_min=-8.278783798217773\n",
      "a=6.69944953918457, b=-1.8546199798583984, c=-7.618095874786377, x_min=0.1384158581495285, val_min=-7.746450424194336\n",
      "a=7.060111045837402, b=-6.944827556610107, c=-8.379657745361328, x_min=0.4918355941772461, val_min=-10.08751392364502\n",
      "a=4.036089897155762, b=-3.8889575004577637, c=-3.8576979637145996, x_min=0.48177289962768555, val_min=-4.794495105743408\n",
      "a=1.7813533544540405, b=-4.592419624328613, c=-9.880128860473633, x_min=1.2890254259109497, val_min=-12.840002059936523\n",
      "a=2.5665526390075684, b=-0.28220558166503906, c=-4.900640964508057, x_min=0.05497755482792854, val_min=-4.908398628234863\n",
      "a=8.756038665771484, b=-1.0236177444458008, c=-5.822556018829346, x_min=0.058452095836400986, val_min=-5.852472305297852\n",
      "a=0.012666583061218262, b=-2.59305477142334, c=-2.364025115966797, x_min=102.3566665649414, val_min=-135.07411193847656\n"
     ]
    },
    {
     "name": "stderr",
     "output_type": "stream",
     "text": [
      "c:\\noam\\ydata_timeseries_course\\venv\\lib\\site-packages\\ipykernel_launcher.py:25: UserWarning: To copy construct from a tensor, it is recommended to use sourceTensor.clone().detach() or sourceTensor.clone().detach().requires_grad_(True), rather than torch.tensor(sourceTensor).\n"
     ]
    },
    {
     "ename": "AssertionError",
     "evalue": "\nArrays are not almost equal to 4 decimals\n\nMismatched elements: 1 / 1 (100%)\nMax absolute difference: 0.00143433\nMax relative difference: 1.4013021e-05\n x: array(102.3581, dtype=float32)\n y: array(102.3567, dtype=float32)",
     "output_type": "error",
     "traceback": [
      "\u001B[1;31m---------------------------------------------------------------------------\u001B[0m",
      "\u001B[1;31mAssertionError\u001B[0m                            Traceback (most recent call last)",
      "\u001B[1;32m<ipython-input-139-74e08ddfd27c>\u001B[0m in \u001B[0;36m<module>\u001B[1;34m\u001B[0m\n\u001B[0;32m     26\u001B[0m         \u001B[0manalytic_solution_val\u001B[0m \u001B[1;33m=\u001B[0m \u001B[0mfunc\u001B[0m\u001B[1;33m(\u001B[0m\u001B[0manalytic_solution_x\u001B[0m\u001B[1;33m,\u001B[0m \u001B[0ma\u001B[0m\u001B[1;33m,\u001B[0m \u001B[0mb\u001B[0m\u001B[1;33m,\u001B[0m \u001B[0mc\u001B[0m\u001B[1;33m)\u001B[0m\u001B[1;33m\u001B[0m\u001B[1;33m\u001B[0m\u001B[0m\n\u001B[0;32m     27\u001B[0m \u001B[1;33m\u001B[0m\u001B[0m\n\u001B[1;32m---> 28\u001B[1;33m         \u001B[0mnp\u001B[0m\u001B[1;33m.\u001B[0m\u001B[0mtesting\u001B[0m\u001B[1;33m.\u001B[0m\u001B[0massert_almost_equal\u001B[0m\u001B[1;33m(\u001B[0m\u001B[0manalytic_solution_x\u001B[0m\u001B[1;33m,\u001B[0m \u001B[0mx_min\u001B[0m\u001B[1;33m.\u001B[0m\u001B[0mdetach\u001B[0m\u001B[1;33m(\u001B[0m\u001B[1;33m)\u001B[0m\u001B[1;33m.\u001B[0m\u001B[0mnumpy\u001B[0m\u001B[1;33m(\u001B[0m\u001B[1;33m)\u001B[0m\u001B[1;33m,\u001B[0m \u001B[0mdecimal\u001B[0m\u001B[1;33m=\u001B[0m\u001B[1;36m4\u001B[0m\u001B[1;33m)\u001B[0m\u001B[1;33m,\u001B[0m\u001B[1;33m\u001B[0m\u001B[1;33m\u001B[0m\u001B[0m\n\u001B[0m\u001B[0;32m     29\u001B[0m         \u001B[0mnp\u001B[0m\u001B[1;33m.\u001B[0m\u001B[0mtesting\u001B[0m\u001B[1;33m.\u001B[0m\u001B[0massert_almost_equal\u001B[0m\u001B[1;33m(\u001B[0m\u001B[0manalytic_solution_val\u001B[0m\u001B[1;33m,\u001B[0m \u001B[0mval_min\u001B[0m\u001B[1;33m.\u001B[0m\u001B[0mdetach\u001B[0m\u001B[1;33m(\u001B[0m\u001B[1;33m)\u001B[0m\u001B[1;33m.\u001B[0m\u001B[0mnumpy\u001B[0m\u001B[1;33m(\u001B[0m\u001B[1;33m)\u001B[0m\u001B[1;33m,\u001B[0m \u001B[0mdecimal\u001B[0m\u001B[1;33m=\u001B[0m\u001B[1;36m4\u001B[0m\u001B[1;33m)\u001B[0m\u001B[1;33m\u001B[0m\u001B[1;33m\u001B[0m\u001B[0m\n\u001B[0;32m     30\u001B[0m \u001B[1;33m\u001B[0m\u001B[0m\n",
      "    \u001B[1;31m[... skipping hidden 2 frame]\u001B[0m\n",
      "\u001B[1;32mc:\\noam\\ydata_timeseries_course\\venv\\lib\\site-packages\\numpy\\testing\\_private\\utils.py\u001B[0m in \u001B[0;36massert_array_compare\u001B[1;34m(comparison, x, y, err_msg, verbose, header, precision, equal_nan, equal_inf)\u001B[0m\n\u001B[0;32m    840\u001B[0m                                 \u001B[0mverbose\u001B[0m\u001B[1;33m=\u001B[0m\u001B[0mverbose\u001B[0m\u001B[1;33m,\u001B[0m \u001B[0mheader\u001B[0m\u001B[1;33m=\u001B[0m\u001B[0mheader\u001B[0m\u001B[1;33m,\u001B[0m\u001B[1;33m\u001B[0m\u001B[1;33m\u001B[0m\u001B[0m\n\u001B[0;32m    841\u001B[0m                                 names=('x', 'y'), precision=precision)\n\u001B[1;32m--> 842\u001B[1;33m             \u001B[1;32mraise\u001B[0m \u001B[0mAssertionError\u001B[0m\u001B[1;33m(\u001B[0m\u001B[0mmsg\u001B[0m\u001B[1;33m)\u001B[0m\u001B[1;33m\u001B[0m\u001B[1;33m\u001B[0m\u001B[0m\n\u001B[0m\u001B[0;32m    843\u001B[0m     \u001B[1;32mexcept\u001B[0m \u001B[0mValueError\u001B[0m\u001B[1;33m:\u001B[0m\u001B[1;33m\u001B[0m\u001B[1;33m\u001B[0m\u001B[0m\n\u001B[0;32m    844\u001B[0m         \u001B[1;32mimport\u001B[0m \u001B[0mtraceback\u001B[0m\u001B[1;33m\u001B[0m\u001B[1;33m\u001B[0m\u001B[0m\n",
      "\u001B[1;31mAssertionError\u001B[0m: \nArrays are not almost equal to 4 decimals\n\nMismatched elements: 1 / 1 (100%)\nMax absolute difference: 0.00143433\nMax relative difference: 1.4013021e-05\n x: array(102.3581, dtype=float32)\n y: array(102.3567, dtype=float32)"
     ]
    }
   ],
   "source": [
    "def find_min(a, b, c):\n",
    "    param = torch.zeros(size=(), requires_grad=True)\n",
    "    value_function = lambda x :func(x, a, b, c)\n",
    "    loss_function = lambda val: val\n",
    "\n",
    "    optimizer = torch.optim.SGD([param], lr=0.01, momentum=0.9)\n",
    "    for _ in range(10000):\n",
    "        optimizer.zero_grad()\n",
    "        value = value_function(param)\n",
    "        loss = loss_function(value)\n",
    "        loss.backward()\n",
    "        optimizer.step()\n",
    "\n",
    "    x_min = param\n",
    "    val_min = value_function(x_min)\n",
    "\n",
    "    return x_min, val_min\n",
    "\n",
    "if not TEST:\n",
    "    for _ in range(100):\n",
    "        a, b, c = generate_coeffs()\n",
    "        x_min, val_min = find_min(a, b, c)\n",
    "        print(f\"a={a}, b={b}, c={c}, x_min={x_min}, val_min={val_min}\")\n",
    "\n",
    "        analytic_solution_x = torch.tensor(-b / (2*a))\n",
    "        analytic_solution_val = func(analytic_solution_x, a, b, c)\n",
    "\n",
    "        np.testing.assert_almost_equal(analytic_solution_x, x_min.detach().numpy(), decimal=4),\n",
    "        np.testing.assert_almost_equal(analytic_solution_val, val_min.detach().numpy(), decimal=4)"
   ]
  },
  {
   "cell_type": "code",
   "execution_count": null,
   "metadata": {
    "ExecuteTime": {
     "end_time": "2019-10-30T22:26:09.170219Z",
     "start_time": "2019-10-30T22:26:09.158251Z"
    },
    "tags": [
     "validation"
    ]
   },
   "outputs": [],
   "source": [
    "PROBLEM_ID = 3\n",
    "\n",
    "if TEST:\n",
    "    total_grade += solutions.check(STUDENT, PROBLEM_ID, find_min)"
   ]
  },
  {
   "cell_type": "markdown",
   "metadata": {
    "tags": [
     "problem"
    ]
   },
   "source": [
    "### 4. PyTorch `Dataset` (3 points)\n",
    "\n",
    "Implement a `torch.utils.data.Dataset` sub-class for the electricity consumption data. Individual training instances must be week-long univarite series of hourly consumption (input, 168 values), followed by 24-hours long series of hourly consumption (output, 24 values) for a single household. Such a class can be used when training a consumption forecast model, which uses 7 days of historical consumption to forecast next 24 hours of consumption.\n",
    "\n",
    "`__getitem__(self, idx)` must return a tuple of 1D tensors, `in_data` and `out_data`. `in_data` contains 168 hours of consumption (hourly), starting from some `start_ts`, while `out_data` must contain 24 hourly consumption values starting from `start_ts + 168 hours` for some household. `start_ts` should be sampled randomly.\n",
    "\n",
    "Also, you need to implement a `get_mapping(self, idx)` method, which allows to calculate `(household, starting time) -> idx` correspondence.\n",
    "\n",
    "This class will be validated as the following:\n",
    "\n",
    "- dataset object is created with some random `samples`: `dataset = ElDataset(df, samples)` ,\n",
    "- validator fetches random `idx` (between `0` and `len(dataset)`) from the dataset:\n",
    "```python\n",
    "household, start_ts = dataset.get_mapping(idx)\n",
    "hist_data, future_data = dataset[idx]\n",
    "```\n",
    "- then, `hist_data` and `future_data` are compared with the data, obtained directly from `df` using `household, start_ts`."
   ]
  },
  {
   "cell_type": "code",
   "execution_count": 158,
   "metadata": {
    "ExecuteTime": {
     "end_time": "2019-10-30T22:26:09.531869Z",
     "start_time": "2019-10-30T22:26:09.523705Z"
    },
    "tags": [
     "solution"
    ]
   },
   "outputs": [
    {
     "name": "stdout",
     "output_type": "stream",
     "text": [
      "hist: 168, future: 24\n",
      "len: 1850\n"
     ]
    }
   ],
   "source": [
    "from torch.utils.data import Dataset\n",
    "\n",
    "\n",
    "class ElDataset(Dataset):\n",
    "    \"\"\"Electricity dataset.\"\"\"\n",
    "\n",
    "    def __init__(self, df, samples):\n",
    "        \"\"\"\n",
    "        Args:\n",
    "            df: original electricity data (see HW intro for details).\n",
    "            samples (int): number of sample to take per household.\n",
    "        \"\"\"\n",
    "        #self.raw_data = df.set_index(\"\") # TODO why doesnt this work?\n",
    "        df = df.resample('H',on='timestamp').mean().reset_index()\n",
    "        self.raw_data = df\n",
    "        self.samples = samples\n",
    "\n",
    "\n",
    "    def __len__(self):\n",
    "        return self.samples * (self.raw_data.shape[1] - 1)\n",
    "\n",
    "    def __getitem__(self, idx):\n",
    "        household, start_ts = self.get_mapping(idx)\n",
    "        house_name = f\"MT_{str(household).zfill(3)}\"\n",
    "        house_data = self.raw_data[house_name][start_ts:start_ts + 168 + 24]\n",
    "        hist_data = house_data[start_ts:start_ts+168]\n",
    "        future_data = house_data[start_ts+168:start_ts+168+24]\n",
    "        return hist_data, future_data\n",
    "\n",
    "    def get_mapping(self, idx):\n",
    "        # your code goes here\n",
    "        start_ts = 0\n",
    "        household = 1\n",
    "        return household, start_ts\n",
    "        \n",
    "if not TEST:\n",
    "    samples = 5\n",
    "    dataset = ElDataset(orig_df.copy(), samples)\n",
    "    hist, future = dataset[5]\n",
    "    print(f\"hist: {len(hist)}, future: {len(future)}\")\n",
    "    print(f\"len: {len(dataset)}\")"
   ]
  },
  {
   "cell_type": "code",
   "execution_count": null,
   "metadata": {
    "ExecuteTime": {
     "end_time": "2019-10-30T22:26:09.716713Z",
     "start_time": "2019-10-30T22:26:09.707934Z"
    },
    "tags": [
     "validation"
    ]
   },
   "outputs": [],
   "source": [
    "PROBLEM_ID = 4\n",
    "\n",
    "if TEST:\n",
    "    total_grade += solutions.check(STUDENT, PROBLEM_ID, ElDataset)"
   ]
  },
  {
   "cell_type": "markdown",
   "metadata": {},
   "source": [
    "# Your grade"
   ]
  },
  {
   "cell_type": "code",
   "execution_count": null,
   "metadata": {
    "ExecuteTime": {
     "end_time": "2019-10-30T22:39:26.661611Z",
     "start_time": "2019-10-30T22:39:26.654545Z"
    }
   },
   "outputs": [],
   "source": [
    "if TEST:\n",
    "    print(f\"{STUDENT}: {total_grade}\")"
   ]
  },
  {
   "cell_type": "code",
   "execution_count": null,
   "metadata": {},
   "outputs": [],
   "source": []
  }
 ],
 "metadata": {
  "@webio": {
   "lastCommId": null,
   "lastKernelId": null
  },
  "celltoolbar": "Tags",
  "kernelspec": {
   "display_name": "Python 3",
   "language": "python",
   "name": "python3"
  },
  "language_info": {
   "codemirror_mode": {
    "name": "ipython",
    "version": 3
   },
   "file_extension": ".py",
   "mimetype": "text/x-python",
   "name": "python",
   "nbconvert_exporter": "python",
   "pygments_lexer": "ipython3",
   "version": "3.7.5"
  }
 },
 "nbformat": 4,
 "nbformat_minor": 2
}