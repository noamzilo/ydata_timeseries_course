{
 "cells": [
  {
   "cell_type": "markdown",
   "metadata": {
    "tags": [
     "intro"
    ]
   },
   "source": [
    "# Grading process\n",
    "\n",
    "\n",
    "The submission notebook will be autovalidated with `papermill`. The exact command is the following:\n",
    "\n",
    "```bash\n",
    "papermill <notebook-name>.ipynb <notebook-name>-run.ipynb .ipynb -p TEST True\n",
    "```\n",
    "\n",
    "Papermill will inject new cell after each cell tagged as `parameters` (see `View > Cell toolbar > Tags`). Notebook will be executed from top to bottom in a linear order. `solutions.py` contains correct implementations used to validate your solutions.\n",
    "\n",
    "Please, **fill `STUDENT` variable with the name of submitting student**, so that we can collect the results automatically. Please, **do not change `TEST` variable** and `validation` cells. If you need to inject your own code for testing, wrap it into\n",
    "\n",
    "```python\n",
    "if not TEST:\n",
    "    ...\n",
    "```\n",
    "\n",
    "Different problems give different number of points. All problems in the basic section give 1 point, while all problems in intermediate section give 2 points.\n",
    "\n",
    "Each problem contains specific validation details. You need to fill each cell tagged `solution` with your code. Note, that solution function must self-contained, i.e. it must not use any state from the notebook itself.\n",
    "\n",
    "# Dataset\n",
    "\n",
    "All problems in the assignment use [electricity load dataset](https://archive.ics.uci.edu/ml/datasets/ElectricityLoadDiagrams20112014). Some functions/methods accept data itself, and in that case it's a Pandas dataframe as obtained by\n",
    "\n",
    "```python\n",
    "df = pd.read_csv(\"LD2011_2014.txt\",\n",
    "                 parse_dates=[0],\n",
    "                 delimiter=\";\",\n",
    "                 decimal=\",\")\n",
    "df.rename({\"Unnamed: 0\": \"timestamp\"}, axis=1, inplace=True)\n",
    "```\n",
    "\n",
    "In contrast, whenever a function/method accepts a filename, it's the filename of **unzipped** data file (i.e. `LD2011_2014.txt`). When testing, do not rely on any specific location of the dataset, as validation environment will most certainly different from your local one. Hence, calls like\n",
    "\n",
    "```python\n",
    "df = pd.read_csv(\"<your-local-directory>/LD2011_2014.txt\")\n",
    "```\n",
    "\n",
    "will fail."
   ]
  },
  {
   "cell_type": "code",
   "execution_count": 29,
   "metadata": {
    "ExecuteTime": {
     "end_time": "2019-10-30T22:26:04.111972Z",
     "start_time": "2019-10-30T22:26:04.107385Z"
    }
   },
   "outputs": [],
   "source": [
    "import numpy as np\n",
    "import pandas as pd\n",
    "import torch"
   ]
  },
  {
   "cell_type": "code",
   "execution_count": 30,
   "metadata": {
    "ExecuteTime": {
     "end_time": "2019-10-30T22:26:04.372936Z",
     "start_time": "2019-10-30T22:26:04.364608Z"
    }
   },
   "outputs": [],
   "source": [
    "STUDENT = \"Noam Salomonski\""
   ]
  },
  {
   "cell_type": "code",
   "execution_count": 31,
   "metadata": {
    "tags": [
     "parameters"
    ]
   },
   "outputs": [],
   "source": [
    "ASSIGNMENT = 1\n",
    "TEST = False"
   ]
  },
  {
   "cell_type": "code",
   "execution_count": 32,
   "metadata": {
    "ExecuteTime": {
     "end_time": "2019-10-30T22:39:38.188583Z",
     "start_time": "2019-10-30T22:39:38.182534Z"
    },
    "tags": [
     "validation"
    ]
   },
   "outputs": [],
   "source": [
    "if TEST:\n",
    "    import solutions\n",
    "    total_grade = 0\n",
    "    MAX_POINTS = 12"
   ]
  },
  {
   "cell_type": "markdown",
   "metadata": {},
   "source": [
    "# Pandas"
   ]
  },
  {
   "cell_type": "markdown",
   "metadata": {
    "tags": [
     "problem"
    ]
   },
   "source": [
    "### 1. Resample the dataset (1 point)\n",
    "\n",
    "Resample the dataset to 1-hour resolution. Use `mean` as an aggregation function. Your function must output a dataframe, with the same structure as the original one (i.e. not indexed by datetime)."
   ]
  },
  {
   "cell_type": "code",
   "execution_count": 33,
   "metadata": {},
   "outputs": [
    {
     "name": "stdout",
     "output_type": "stream",
     "text": [
      "            timestamp  MT_001  MT_002  MT_003  MT_004  MT_005  MT_006  MT_007  \\\n",
      "0 2011-01-01 00:15:00     0.0     0.0     0.0     0.0     0.0     0.0     0.0   \n",
      "1 2011-01-01 00:30:00     0.0     0.0     0.0     0.0     0.0     0.0     0.0   \n",
      "2 2011-01-01 00:45:00     0.0     0.0     0.0     0.0     0.0     0.0     0.0   \n",
      "3 2011-01-01 01:00:00     0.0     0.0     0.0     0.0     0.0     0.0     0.0   \n",
      "4 2011-01-01 01:15:00     0.0     0.0     0.0     0.0     0.0     0.0     0.0   \n",
      "\n",
      "   MT_008  MT_009  ...  MT_361  MT_362  MT_363  MT_364  MT_365  MT_366  \\\n",
      "0     0.0     0.0  ...     0.0     0.0     0.0     0.0     0.0     0.0   \n",
      "1     0.0     0.0  ...     0.0     0.0     0.0     0.0     0.0     0.0   \n",
      "2     0.0     0.0  ...     0.0     0.0     0.0     0.0     0.0     0.0   \n",
      "3     0.0     0.0  ...     0.0     0.0     0.0     0.0     0.0     0.0   \n",
      "4     0.0     0.0  ...     0.0     0.0     0.0     0.0     0.0     0.0   \n",
      "\n",
      "   MT_367  MT_368  MT_369  MT_370  \n",
      "0     0.0     0.0     0.0     0.0  \n",
      "1     0.0     0.0     0.0     0.0  \n",
      "2     0.0     0.0     0.0     0.0  \n",
      "3     0.0     0.0     0.0     0.0  \n",
      "4     0.0     0.0     0.0     0.0  \n",
      "\n",
      "[5 rows x 371 columns]\n"
     ]
    }
   ],
   "source": [
    "if not TEST:\n",
    "    orig_df = pd.read_csv(\"LD2011_2014.txt\",\n",
    "                 parse_dates=[0],\n",
    "                 delimiter=\";\",\n",
    "                 decimal=\",\")\n",
    "    orig_df.rename({\"Unnamed: 0\": \"timestamp\"}, axis=1, inplace=True)\n",
    "    print(orig_df.head())"
   ]
  },
  {
   "cell_type": "code",
   "execution_count": 34,
   "metadata": {
    "ExecuteTime": {
     "end_time": "2019-10-30T22:26:07.100307Z",
     "start_time": "2019-10-30T22:26:07.092132Z"
    },
    "tags": [
     "solution"
    ]
   },
   "outputs": [],
   "source": [
    "def el_resample(df):\n",
    "    # your code goes here\n",
    "    #print(df.head())\n",
    "    #print(df.index)\n",
    "    #print(df[\"timestamp\"].dtype)\n",
    "    df = df.resample('H',on='timestamp').mean().reset_index()\n",
    "    #print(df.head())\n",
    "    #print(df.index)\n",
    "    return df\n",
    "\n",
    "if not TEST:\n",
    "    el_resample(orig_df.copy())"
   ]
  },
  {
   "cell_type": "code",
   "execution_count": 35,
   "metadata": {
    "ExecuteTime": {
     "end_time": "2019-10-30T22:26:07.334174Z",
     "start_time": "2019-10-30T22:26:07.322103Z"
    },
    "tags": [
     "validation"
    ]
   },
   "outputs": [],
   "source": [
    "PROBLEM_ID = 1\n",
    "\n",
    "if TEST:\n",
    "    total_grade += solutions.check(STUDENT, PROBLEM_ID, el_resample)"
   ]
  },
  {
   "cell_type": "markdown",
   "metadata": {
    "tags": [
     "problem"
    ]
   },
   "source": [
    "### 2. Consumption peaks (1 point)\n",
    "\n",
    "For each household, calculate, which month in 2014 had the highest consumption. Your function must output series, indexed by household ID (e.g., `MT_XXX`), and containing month as an integer (`1-12`)."
   ]
  },
  {
   "cell_type": "code",
   "execution_count": 36,
   "metadata": {
    "ExecuteTime": {
     "end_time": "2019-10-30T22:26:08.274476Z",
     "start_time": "2019-10-30T22:26:08.268426Z"
    },
    "tags": [
     "solution"
    ]
   },
   "outputs": [],
   "source": [
    "def cons_peak(df):\n",
    "    #print(df.head())\n",
    "    #print(df.index)\n",
    "    df2014 = df[df[\"timestamp\"].dt.year == 2014]\n",
    "    months2014 = df2014.resample('M',on='timestamp').mean().reset_index()\n",
    "    #print(months2014)\n",
    "    #print(f\"len = {len(months2014)}\")\n",
    "    max_month = months2014.drop([\"timestamp\"], axis=1).idxmax(axis=0)\n",
    "    #print(\"max_month:\")\n",
    "    #print(max_month)\n",
    "    # max_month.hist(bins=12)\n",
    "    return max_month\n",
    "\n",
    "if not TEST:\n",
    "    cons_peak(orig_df.copy())"
   ]
  },
  {
   "cell_type": "code",
   "execution_count": 37,
   "metadata": {
    "ExecuteTime": {
     "end_time": "2019-10-30T22:26:08.554208Z",
     "start_time": "2019-10-30T22:26:08.542546Z"
    },
    "tags": [
     "validation"
    ]
   },
   "outputs": [],
   "source": [
    "PROBLEM_ID = 2\n",
    "\n",
    "if TEST:\n",
    "    total_grade += solutions.check(STUDENT, PROBLEM_ID, cons_peak)"
   ]
  },
  {
   "cell_type": "markdown",
   "metadata": {},
   "source": [
    "# PyTorch"
   ]
  },
  {
   "cell_type": "markdown",
   "metadata": {
    "tags": [
     "problem"
    ]
   },
   "source": [
    "### 3. Find minimum (2 points)\n",
    "\n",
    "Consider the following scalar function:\n",
    "\n",
    "$$\n",
    "f(x) = ax^2 + bx + c\n",
    "$$\n",
    "\n",
    "Given $a,b,c$, find $x$, which minimizes $f(x)$, and minimum value of $f(x)$. Note this:\n",
    "\n",
    "- $a,b,c$ are fixed, and generated in such a way, that minimum always exists ($f(x)$ is convex),\n",
    "- $x$ is a scalar value, i.e. 0-dimensional tensor.\n",
    "\n",
    "For reference, see `generate_coef` function, which is used to generate coefficients. Note, that since optimization process is not completely deterministic, the output is considered correct, if it falls within `1e-3` of actual values.\n",
    "\n",
    "This problem must be solved as an optimization one using gradient descent.\n",
    "\n",
    "For that, use only PyTorch functionality, `SciPy` (or alike) optimization routines are not allowed, neither is direct calculation using coefficients."
   ]
  },
  {
   "cell_type": "code",
   "execution_count": 38,
   "metadata": {},
   "outputs": [],
   "source": [
    "def generate_coeffs():\n",
    "    a = torch.rand(size=()) * 10\n",
    "    b = -10 + torch.rand(size=()) * 10\n",
    "    c = -10 + torch.rand(size=()) * 10\n",
    "    return a, b, c\n",
    "\n",
    "def func(x, a, b, c):\n",
    "    return x.pow(2) * a + x * b + c"
   ]
  },
  {
   "cell_type": "code",
   "execution_count": 39,
   "metadata": {
    "ExecuteTime": {
     "end_time": "2019-10-30T22:26:08.950073Z",
     "start_time": "2019-10-30T22:26:08.944541Z"
    },
    "tags": [
     "solution"
    ]
   },
   "outputs": [
    {
     "name": "stdout",
     "output_type": "stream",
     "text": [
      "a=8.916454315185547, b=-9.982269287109375, c=-0.3536653518676758, x_min=0.5597667694091797, val_min=-3.1475367546081543\n",
      "a=7.601210594177246, b=-9.452287673950195, c=-1.8281373977661133, x_min=0.6217619776725769, val_min=-4.766674041748047\n",
      "a=5.993886947631836, b=-4.756303310394287, c=-1.8476505279541016, x_min=0.3967628479003906, val_min=-2.791212797164917\n",
      "a=5.5619425773620605, b=-7.792810916900635, c=-9.123739242553711, x_min=0.7005475759506226, val_min=-11.85335636138916\n",
      "a=5.402934551239014, b=-1.7299737930297852, c=-9.596677780151367, x_min=0.16009576618671417, val_min=-9.735158920288086\n",
      "a=5.280937194824219, b=-1.6814212799072266, c=-1.803633689880371, x_min=0.15919724106788635, val_min=-1.9374725818634033\n",
      "a=3.42252779006958, b=-3.802021026611328, c=-8.032363891601562, x_min=0.5554404854774475, val_min=-9.088262557983398\n",
      "a=1.5077871084213257, b=-6.238071918487549, c=-0.5452337265014648, x_min=2.0686182975769043, val_min=-6.997329235076904\n",
      "a=1.5859794616699219, b=-2.7433066368103027, c=-8.58650016784668, x_min=0.8648620247840881, val_min=-9.772790908813477\n",
      "a=0.16306579113006592, b=-8.907919883728027, c=-3.263723850250244, x_min=27.31386947631836, val_min=-124.91865539550781\n",
      "a=8.541192054748535, b=-3.9020328521728516, c=-1.2813329696655273, x_min=0.22842437028884888, val_min=-1.7269926071166992\n",
      "a=6.955134868621826, b=-3.5311031341552734, c=-7.549449920654297, x_min=0.2538486421108246, val_min=-7.99763298034668\n",
      "a=5.666506290435791, b=-3.6384730339050293, c=-9.21151065826416, x_min=0.32105082273483276, val_min=-9.795578002929688\n",
      "a=9.869285583496094, b=-3.2886338233947754, c=-7.525298118591309, x_min=0.166609525680542, val_min=-7.799256801605225\n",
      "a=1.4655077457427979, b=-7.242077827453613, c=-1.3029518127441406, x_min=2.4708425998687744, val_min=-10.249970436096191\n",
      "a=6.251620292663574, b=-7.675848007202148, c=-5.959494113922119, x_min=0.6139086484909058, val_min=-8.315629005432129\n",
      "a=0.964692234992981, b=-0.4837150573730469, c=-6.536285400390625, x_min=0.2507094740867615, val_min=-6.596921443939209\n",
      "a=6.076627254486084, b=-7.2251458168029785, c=-7.415271759033203, x_min=0.5945029854774475, val_min=-9.562956809997559\n",
      "a=2.9286842346191406, b=-8.815496444702148, c=-7.7393035888671875, x_min=1.5050268173217773, val_min=-14.373082160949707\n",
      "a=4.666003227233887, b=-8.701841354370117, c=-6.814422607421875, x_min=0.9324727058410645, val_min=-10.871537208557129\n",
      "a=3.107633113861084, b=-7.729156017303467, c=-4.453465938568115, x_min=1.2435760498046875, val_min=-9.259363174438477\n",
      "a=2.796273708343506, b=-9.306800842285156, c=-6.473049640655518, x_min=1.6641433238983154, val_min=-14.216975212097168\n",
      "a=7.661908149719238, b=-9.715085983276367, c=-1.5256328582763672, x_min=0.6339860558509827, val_min=-4.605247497558594\n",
      "a=9.182271003723145, b=-6.314769744873047, c=-4.880732536315918, x_min=0.3438566327095032, val_min=-5.9664201736450195\n",
      "a=7.079943656921387, b=-4.411694526672363, c=-6.332797050476074, x_min=0.31156283617019653, val_min=-7.020057201385498\n",
      "a=2.1657943725585938, b=-4.394174575805664, c=-4.138216018676758, x_min=1.0144487619400024, val_min=-6.367048263549805\n",
      "a=9.210959434509277, b=-4.546432018280029, c=-7.155873775482178, x_min=0.2467947006225586, val_min=-7.716891288757324\n",
      "a=4.705292701721191, b=-7.841466903686523, c=-3.7779717445373535, x_min=0.8332602977752686, val_min=-7.044963359832764\n",
      "a=9.677218437194824, b=-8.562251091003418, c=-1.3087587356567383, x_min=0.44239211082458496, val_min=-3.20269513130188\n",
      "a=7.929374694824219, b=-2.9957427978515625, c=-9.0990571975708, x_min=0.18890157341957092, val_min=-9.382007598876953\n",
      "a=7.095489501953125, b=-7.3677897453308105, c=-7.578564167022705, x_min=0.5191882252693176, val_min=-9.491199493408203\n",
      "a=4.874207496643066, b=-0.3109159469604492, c=-8.725353240966797, x_min=0.031894002109766006, val_min=-8.730311393737793\n",
      "a=7.689785957336426, b=-4.492826461791992, c=-2.551631450653076, x_min=0.2921294867992401, val_min=-3.2078750133514404\n",
      "a=1.2310320138931274, b=-4.084171295166016, c=-3.2612838745117188, x_min=1.6588401794433594, val_min=-6.648777961730957\n",
      "a=3.895096778869629, b=-7.5732879638671875, c=-5.576117038726807, x_min=0.9721565842628479, val_min=-9.257328033447266\n",
      "a=0.22575020790100098, b=-6.388223648071289, c=-9.707751274108887, x_min=14.148872375488281, val_min=-54.900848388671875\n",
      "a=5.136460304260254, b=-1.3577957153320312, c=-5.444276332855225, x_min=0.13217231631278992, val_min=-5.534008026123047\n",
      "a=2.716970920562744, b=-5.884246826171875, c=-5.889317989349365, x_min=1.0828688144683838, val_min=-9.075251579284668\n",
      "a=2.0477981567382812, b=-9.766077995300293, c=-3.463711738586426, x_min=2.3845317363739014, val_min=-15.107471466064453\n",
      "a=0.7798820734024048, b=-4.275605201721191, c=-5.48272705078125, x_min=2.7411868572235107, val_min=-11.342844009399414\n",
      "a=6.844081401824951, b=-0.1844348907470703, c=-3.475736618041992, x_min=0.01347404345870018, val_min=-3.4769792556762695\n",
      "a=2.9756479263305664, b=-6.84554386138916, c=-1.597879409790039, x_min=1.1502610445022583, val_min=-5.534960746765137\n",
      "a=4.366572380065918, b=-2.9165077209472656, c=-2.4418134689331055, x_min=0.3339584767818451, val_min=-2.928809642791748\n",
      "a=5.773580074310303, b=-3.97202205657959, c=-0.2386770248413086, x_min=0.3439825773239136, val_min=-0.9218302965164185\n",
      "a=3.806488037109375, b=-9.295286178588867, c=-7.670015335083008, x_min=1.2209793329238892, val_min=-13.344691276550293\n",
      "a=7.481593608856201, b=-6.650149345397949, c=-8.931449890136719, x_min=0.4444340169429779, val_min=-10.409226417541504\n",
      "a=3.066842555999756, b=-0.8761138916015625, c=-5.573740005493164, x_min=0.14283646643161774, val_min=-5.636310577392578\n",
      "a=8.815208435058594, b=-1.5908727645874023, c=-3.194613456726074, x_min=0.09023454040288925, val_min=-3.2663893699645996\n",
      "a=1.3074123859405518, b=-1.1062994003295898, c=-1.278879165649414, x_min=0.4230874180793762, val_min=-1.5129098892211914\n",
      "a=9.19556999206543, b=-6.620266437530518, c=-2.2539806365966797, x_min=0.35997042059898376, val_min=-3.445530414581299\n",
      "a=3.445167064666748, b=-3.6922812461853027, c=-0.07410049438476562, x_min=0.5358639359474182, val_min=-1.0633805990219116\n",
      "a=4.528336524963379, b=-6.792702674865723, c=-7.165046691894531, x_min=0.7500218749046326, val_min=-9.712384223937988\n",
      "a=6.3506293296813965, b=-6.688242435455322, c=-2.4064736366271973, x_min=0.5265811085700989, val_min=-4.16742467880249\n",
      "a=7.541074752807617, b=-1.4711742401123047, c=-2.9166574478149414, x_min=0.09754406660795212, val_min=-2.9884095191955566\n",
      "a=3.7890501022338867, b=-9.201791763305664, c=-1.3489265441894531, x_min=1.2142610549926758, val_min=-6.935614585876465\n",
      "a=7.850149154663086, b=-4.582663536071777, c=-6.933069229125977, x_min=0.2918838560581207, val_min=-7.601871967315674\n",
      "a=9.762186050415039, b=-8.72959041595459, c=-0.06140613555908203, x_min=0.447112500667572, val_min=-2.01296067237854\n",
      "a=5.2741217613220215, b=-4.956326484680176, c=-0.9521703720092773, x_min=0.46987220644950867, val_min=-2.1165904998779297\n",
      "a=9.858614921569824, b=-6.92415189743042, c=-9.062496185302734, x_min=0.35117262601852417, val_min=-10.278282165527344\n",
      "a=8.782369613647461, b=-4.917191505432129, c=-0.13741493225097656, x_min=0.27994677424430847, val_min=-0.825690746307373\n",
      "a=9.26140308380127, b=-2.2889842987060547, c=-6.004709720611572, x_min=0.12357653677463531, val_min=-6.14614200592041\n",
      "a=1.043112874031067, b=-6.906225681304932, c=-8.667469024658203, x_min=3.3103928565979004, val_min=-20.0986270904541\n",
      "a=8.873330116271973, b=-6.417875289916992, c=-6.162577152252197, x_min=0.36163845658302307, val_min=-7.323052406311035\n",
      "a=8.350102424621582, b=-8.159074783325195, c=-3.9472312927246094, x_min=0.48856136202812195, val_min=-5.940335750579834\n",
      "a=2.317295551300049, b=-3.8112049102783203, c=-0.7889852523803711, x_min=0.8223389983177185, val_min=-2.3560361862182617\n",
      "a=3.2793850898742676, b=-7.995100975036621, c=-7.786072731018066, x_min=1.2189940214157104, val_min=-12.659062385559082\n",
      "a=9.455769538879395, b=-9.174272537231445, c=-5.979841232299805, x_min=0.48511508107185364, val_min=-8.205129623413086\n",
      "a=2.0152807235717773, b=-7.761997699737549, c=-3.05206298828125, x_min=1.925785779953003, val_min=-10.52603530883789\n",
      "a=4.172082424163818, b=-0.033145904541015625, c=-3.7908592224121094, x_min=0.003972345497459173, val_min=-3.7909250259399414\n",
      "a=3.0495595932006836, b=-7.9213457107543945, c=-5.179864883422852, x_min=1.2987687587738037, val_min=-10.323863983154297\n",
      "a=5.689763069152832, b=-0.8649997711181641, c=-6.667697429656982, x_min=0.07601369172334671, val_min=-6.700573444366455\n",
      "a=9.065835952758789, b=-0.38121795654296875, c=-5.281479835510254, x_min=0.021024975925683975, val_min=-5.285487174987793\n",
      "a=6.388605117797852, b=-2.774801731109619, c=-1.8741817474365234, x_min=0.21716804802417755, val_min=-2.175480842590332\n",
      "a=6.99194860458374, b=-3.7662672996520996, c=-6.922426700592041, x_min=0.26932889223098755, val_min=-7.4296088218688965\n",
      "a=0.32509803771972656, b=-1.596003532409668, c=-6.197262763977051, x_min=2.4546496868133545, val_min=-8.15607738494873\n",
      "a=0.9497290849685669, b=-7.8545331954956055, c=-9.484089851379395, x_min=4.135143280029297, val_min=-25.723907470703125\n",
      "a=3.527329444885254, b=-6.106881618499756, c=-8.608772277832031, x_min=0.865652322769165, val_min=-11.25199031829834\n",
      "a=9.808151245117188, b=-6.335451126098633, c=-4.258904457092285, x_min=0.32296866178512573, val_min=-5.281980514526367\n",
      "a=7.443584442138672, b=-5.041753768920898, c=-7.1310811042785645, x_min=0.33866438269615173, val_min=-7.984812259674072\n",
      "a=8.109686851501465, b=-8.930235862731934, c=-0.4724416732788086, x_min=0.5505906343460083, val_min=-2.930894136428833\n",
      "a=8.544618606567383, b=-0.881098747253418, c=-0.40606117248535156, x_min=0.05155869200825691, val_min=-0.4287753105163574\n",
      "a=3.363619327545166, b=-0.7273540496826172, c=-0.2657327651977539, x_min=0.10812074691057205, val_min=-0.30505380034446716\n",
      "a=7.689692974090576, b=-6.593179225921631, c=-6.689547538757324, x_min=0.42870238423347473, val_min=-8.102803230285645\n",
      "a=7.5214996337890625, b=-9.849078178405762, c=-4.602985858917236, x_min=0.654728353023529, val_min=-7.827220916748047\n",
      "a=1.8608665466308594, b=-0.5553503036499023, c=-0.3000755310058594, x_min=0.14921818673610687, val_min=-0.34150972962379456\n",
      "a=0.6020188331604004, b=-7.441036701202393, c=-1.7270288467407227, x_min=6.1800713539123535, val_min=-24.720088958740234\n",
      "a=0.7363992929458618, b=-1.3859233856201172, c=-6.716014862060547, x_min=0.941013514995575, val_min=-7.368101119995117\n",
      "a=9.665410041809082, b=-3.8735132217407227, c=-3.0752744674682617, x_min=0.20038017630577087, val_min=-3.463362216949463\n",
      "a=8.642560005187988, b=-3.3617215156555176, c=-9.992512702941895, x_min=0.19448643922805786, val_min=-10.319416999816895\n",
      "a=5.75322151184082, b=-3.806391716003418, c=-6.813521385192871, x_min=0.330805242061615, val_min=-7.443108558654785\n",
      "a=2.1034293174743652, b=-7.944417953491211, c=-8.521247863769531, x_min=1.888444185256958, val_min=-16.02254295349121\n",
      "a=7.140486717224121, b=-3.502986431121826, c=-2.4100656509399414, x_min=0.24529045820236206, val_min=-2.8396902084350586\n",
      "a=2.2652177810668945, b=-8.638161659240723, c=-6.984333515167236, x_min=1.9066956043243408, val_min=-15.219505310058594\n",
      "a=0.3695809841156006, b=-1.7360506057739258, c=-9.264756202697754, x_min=2.34867262840271, val_min=-11.303464889526367\n",
      "a=5.436854362487793, b=-3.546499252319336, c=-1.208724021911621, x_min=0.32615360617637634, val_min=-1.7870757579803467\n",
      "a=8.493532180786133, b=-2.079496383666992, c=-9.160252571105957, x_min=0.12241645902395248, val_min=-9.287534713745117\n",
      "a=9.49658203125, b=-6.540862083435059, c=-9.823036193847656, x_min=0.34437981247901917, val_min=-10.94930648803711\n",
      "a=5.294382095336914, b=-1.149271011352539, c=-9.465093612670898, x_min=0.10853683948516846, val_min=-9.52746295928955\n",
      "a=6.296963214874268, b=-4.1916937828063965, c=-8.720458984375, x_min=0.33283454179763794, val_min=-9.41802978515625\n",
      "a=0.9687620401382446, b=-4.230556011199951, c=-8.732311248779297, x_min=2.183485269546509, val_min=-13.350991249084473\n"
     ]
    },
    {
     "name": "stderr",
     "output_type": "stream",
     "text": [
      "c:\\noam\\ydata_timeseries_course\\venv\\lib\\site-packages\\ipykernel_launcher.py:25: UserWarning: To copy construct from a tensor, it is recommended to use sourceTensor.clone().detach() or sourceTensor.clone().detach().requires_grad_(True), rather than torch.tensor(sourceTensor).\n"
     ]
    }
   ],
   "source": [
    "def find_min(a, b, c):\n",
    "    param = torch.zeros(size=(), requires_grad=True)\n",
    "    value_function = lambda x :func(x, a, b, c)\n",
    "    loss_function = lambda val: val\n",
    "\n",
    "    optimizer = torch.optim.SGD([param], lr=0.01, momentum=0.9)\n",
    "    for _ in range(10000):\n",
    "        optimizer.zero_grad()\n",
    "        value = value_function(param)\n",
    "        loss = loss_function(value)\n",
    "        loss.backward()\n",
    "        optimizer.step()\n",
    "\n",
    "    x_min = param\n",
    "    val_min = value_function(x_min)\n",
    "\n",
    "    return x_min, val_min\n",
    "\n",
    "if not TEST:\n",
    "    for _ in range(100):\n",
    "        a, b, c = generate_coeffs()\n",
    "        x_min, val_min = find_min(a, b, c)\n",
    "        print(f\"a={a}, b={b}, c={c}, x_min={x_min}, val_min={val_min}\")\n",
    "\n",
    "        analytic_solution_x = torch.tensor(-b / (2*a))\n",
    "        analytic_solution_val = func(analytic_solution_x, a, b, c)\n",
    "\n",
    "        np.testing.assert_almost_equal(analytic_solution_x, x_min.detach().numpy(), decimal=4),\n",
    "        np.testing.assert_almost_equal(analytic_solution_val, val_min.detach().numpy(), decimal=4)"
   ]
  },
  {
   "cell_type": "code",
   "execution_count": 40,
   "metadata": {
    "ExecuteTime": {
     "end_time": "2019-10-30T22:26:09.170219Z",
     "start_time": "2019-10-30T22:26:09.158251Z"
    },
    "tags": [
     "validation"
    ]
   },
   "outputs": [],
   "source": [
    "PROBLEM_ID = 3\n",
    "\n",
    "if TEST:\n",
    "    total_grade += solutions.check(STUDENT, PROBLEM_ID, find_min)"
   ]
  },
  {
   "cell_type": "markdown",
   "metadata": {
    "tags": [
     "problem"
    ]
   },
   "source": [
    "### 4. PyTorch `Dataset` (3 points)\n",
    "\n",
    "Implement a `torch.utils.data.Dataset` sub-class for the electricity consumption data. Individual training instances must be week-long univarite series of hourly consumption (input, 168 values), followed by 24-hours long series of hourly consumption (output, 24 values) for a single household. Such a class can be used when training a consumption forecast model, which uses 7 days of historical consumption to forecast next 24 hours of consumption.\n",
    "\n",
    "`__getitem__(self, idx)` must return a tuple of 1D tensors, `in_data` and `out_data`. `in_data` contains 168 hours of consumption (hourly), starting from some `start_ts`, while `out_data` must contain 24 hourly consumption values starting from `start_ts + 168 hours` for some household. `start_ts` should be sampled randomly.\n",
    "\n",
    "Also, you need to implement a `get_mapping(self, idx)` method, which allows to calculate `(household, starting time) -> idx` correspondence.\n",
    "\n",
    "This class will be validated as the following:\n",
    "\n",
    "- dataset object is created with some random `samples`: `dataset = ElDataset(df, samples)` ,\n",
    "- validator fetches random `idx` (between `0` and `len(dataset)`) from the dataset:\n",
    "```python\n",
    "household, start_ts = dataset.get_mapping(idx)\n",
    "hist_data, future_data = dataset[idx]\n",
    "```\n",
    "- then, `hist_data` and `future_data` are compared with the data, obtained directly from `df` using `household, start_ts`."
   ]
  },
  {
   "cell_type": "code",
   "execution_count": 41,
   "metadata": {
    "ExecuteTime": {
     "end_time": "2019-10-30T22:26:09.531869Z",
     "start_time": "2019-10-30T22:26:09.523705Z"
    },
    "tags": [
     "solution"
    ]
   },
   "outputs": [
    {
     "name": "stdout",
     "output_type": "stream",
     "text": [
      "passed the assersions for all inds\n"
     ]
    }
   ],
   "source": [
    "from torch.utils.data import Dataset\n",
    "\n",
    "\n",
    "class ElDataset(Dataset):\n",
    "    \"\"\"Electricity dataset.\"\"\"\n",
    "\n",
    "    def __init__(self, df, samples):\n",
    "        \"\"\"\n",
    "        Args:\n",
    "            df: original electricity data (see HW intro for details).\n",
    "            samples (int): number of sample to take per household.\n",
    "        \"\"\"\n",
    "        df = df.resample('H',on='timestamp').mean().reset_index()\n",
    "        self.raw_data = df.set_index('timestamp').asfreq('H')\n",
    "        self._freq = self.raw_data.index.freq\n",
    "\n",
    "        self._n_households = self.raw_data.shape[1]\n",
    "        self._n_frames_per_house = self.raw_data.shape[0]\n",
    "\n",
    "        self._max_allowed_timestamp_index = self._n_frames_per_house - 24 * (7 + 1)\n",
    "        if self._max_allowed_timestamp_index < samples:\n",
    "            print(\"warning, too many samples required!\")\n",
    "            samples = self._max_allowed_timestamp_index\n",
    "        self._samples = samples\n",
    "        self._time_stride = self._max_allowed_timestamp_index // self._samples\n",
    "\n",
    "    def __len__(self):\n",
    "        return self._samples * (self.raw_data.shape[1])\n",
    "\n",
    "    def __getitem__(self, idx):\n",
    "        if len(self) < idx:\n",
    "            print(f\"WARNING index {idx} out of bounds ({len(self)}\")\n",
    "        household, start_ts = self.get_mapping(idx)\n",
    "        house_data = self.raw_data[household]\n",
    "        hist_data = house_data.loc[start_ts:start_ts + (168 - 1) * self._freq]\n",
    "        future_data = house_data.loc[start_ts + 168 * self._freq:start_ts + (168 + 24 - 1) * self._freq]\n",
    "        return hist_data, future_data\n",
    "\n",
    "    def get_mapping(self, idx):\n",
    "        household_ind = idx % self._n_households\n",
    "        time_sample_idx = idx // self._n_households\n",
    "        start_ts_ind = time_sample_idx * self._time_stride\n",
    "\n",
    "        household = self.raw_data.columns[household_ind]\n",
    "        start_ts = self.raw_data.index[start_ts_ind]\n",
    "        return household, start_ts\n",
    "        \n",
    "if not TEST:\n",
    "    samples = 5\n",
    "    dataset = ElDataset(orig_df.copy(), samples)\n",
    "\n",
    "    for idx in range(len(dataset)):\n",
    "        household, start_ts = dataset.get_mapping(idx)\n",
    "\n",
    "        tested_past = dataset.raw_data[household][start_ts:start_ts+167*dataset._freq]\n",
    "        tested_future = dataset.raw_data[household][start_ts+168*dataset._freq:start_ts+(168+23)*dataset._freq]\n",
    "        my_past, my_future = dataset[idx]\n",
    "\n",
    "        diff1 = my_past - tested_past\n",
    "        diff2 = my_future - tested_future\n",
    "\n",
    "        assert np.count_nonzero(diff1) == 0\n",
    "        assert np.count_nonzero(diff2) == 0\n",
    "\n",
    "    print(f\"passed the assersions for all inds\")"
   ]
  },
  {
   "cell_type": "code",
   "execution_count": 42,
   "metadata": {
    "ExecuteTime": {
     "end_time": "2019-10-30T22:26:09.716713Z",
     "start_time": "2019-10-30T22:26:09.707934Z"
    },
    "tags": [
     "validation"
    ]
   },
   "outputs": [],
   "source": [
    "PROBLEM_ID = 4\n",
    "\n",
    "if TEST:\n",
    "    total_grade += solutions.check(STUDENT, PROBLEM_ID, ElDataset)"
   ]
  },
  {
   "cell_type": "markdown",
   "metadata": {},
   "source": [
    "# Your grade"
   ]
  },
  {
   "cell_type": "code",
   "execution_count": 43,
   "metadata": {
    "ExecuteTime": {
     "end_time": "2019-10-30T22:39:26.661611Z",
     "start_time": "2019-10-30T22:39:26.654545Z"
    }
   },
   "outputs": [],
   "source": [
    "if TEST:\n",
    "    print(f\"{STUDENT}: {total_grade}\")"
   ]
  },
  {
   "cell_type": "code",
   "execution_count": 43,
   "metadata": {},
   "outputs": [],
   "source": []
  }
 ],
 "metadata": {
  "@webio": {
   "lastCommId": null,
   "lastKernelId": null
  },
  "celltoolbar": "Tags",
  "kernelspec": {
   "display_name": "Python 3",
   "language": "python",
   "name": "python3"
  },
  "language_info": {
   "codemirror_mode": {
    "name": "ipython",
    "version": 3
   },
   "file_extension": ".py",
   "mimetype": "text/x-python",
   "name": "python",
   "nbconvert_exporter": "python",
   "pygments_lexer": "ipython3",
   "version": "3.7.5"
  }
 },
 "nbformat": 4,
 "nbformat_minor": 2
}