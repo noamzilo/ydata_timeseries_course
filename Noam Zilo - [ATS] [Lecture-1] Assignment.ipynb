{
 "cells": [
  {
   "cell_type": "markdown",
   "metadata": {
    "tags": [
     "intro"
    ]
   },
   "source": [
    "# Grading process\n",
    "\n",
    "\n",
    "The submission notebook will be autovalidated with `papermill`. The exact command is the following:\n",
    "\n",
    "```bash\n",
    "papermill <notebook-name>.ipynb <notebook-name>-run.ipynb .ipynb -p TEST True\n",
    "```\n",
    "\n",
    "Papermill will inject new cell after each cell tagged as `parameters` (see `View > Cell toolbar > Tags`). Notebook will be executed from top to bottom in a linear order. `solutions.py` contains correct implementations used to validate your solutions.\n",
    "\n",
    "Please, **fill `STUDENT` variable with the name of submitting student**, so that we can collect the results automatically. Please, **do not change `TEST` variable** and `validation` cells. If you need to inject your own code for testing, wrap it into\n",
    "\n",
    "```python\n",
    "if not TEST:\n",
    "    ...\n",
    "```\n",
    "\n",
    "Different problems give different number of points. All problems in the basic section give 1 point, while all problems in intermediate section give 2 points.\n",
    "\n",
    "Each problem contains specific validation details. You need to fill each cell tagged `solution` with your code. Note, that solution function must self-contained, i.e. it must not use any state from the notebook itself.\n",
    "\n",
    "# Dataset\n",
    "\n",
    "All problems in the assignment use [electricity load dataset](https://archive.ics.uci.edu/ml/datasets/ElectricityLoadDiagrams20112014). Some functions/methods accept data itself, and in that case it's a Pandas dataframe as obtained by\n",
    "\n",
    "```python\n",
    "df = pd.read_csv(\"LD2011_2014.txt\",\n",
    "                 parse_dates=[0],\n",
    "                 delimiter=\";\",\n",
    "                 decimal=\",\")\n",
    "df.rename({\"Unnamed: 0\": \"timestamp\"}, axis=1, inplace=True)\n",
    "```\n",
    "\n",
    "In contrast, whenever a function/method accepts a filename, it's the filename of **unzipped** data file (i.e. `LD2011_2014.txt`). When testing, do not rely on any specific location of the dataset, as validation environment will most certainly different from your local one. Hence, calls like\n",
    "\n",
    "```python\n",
    "df = pd.read_csv(\"<your-local-directory>/LD2011_2014.txt\")\n",
    "```\n",
    "\n",
    "will fail."
   ]
  },
  {
   "cell_type": "code",
   "execution_count": 1,
   "metadata": {
    "ExecuteTime": {
     "end_time": "2019-10-30T22:26:04.111972Z",
     "start_time": "2019-10-30T22:26:04.107385Z"
    }
   },
   "outputs": [],
   "source": [
    "import numpy as np\n",
    "import pandas as pd\n",
    "import torch"
   ]
  },
  {
   "cell_type": "code",
   "execution_count": 2,
   "metadata": {
    "ExecuteTime": {
     "end_time": "2019-10-30T22:26:04.372936Z",
     "start_time": "2019-10-30T22:26:04.364608Z"
    }
   },
   "outputs": [],
   "source": [
    "STUDENT = \"Noam Salomonski\""
   ]
  },
  {
   "cell_type": "code",
   "execution_count": 3,
   "metadata": {
    "tags": [
     "parameters"
    ]
   },
   "outputs": [],
   "source": [
    "ASSIGNMENT = 1\n",
    "TEST = False"
   ]
  },
  {
   "cell_type": "code",
   "execution_count": 4,
   "metadata": {
    "ExecuteTime": {
     "end_time": "2019-10-30T22:39:38.188583Z",
     "start_time": "2019-10-30T22:39:38.182534Z"
    },
    "tags": [
     "validation"
    ]
   },
   "outputs": [],
   "source": [
    "if TEST:\n",
    "    import solutions\n",
    "    total_grade = 0\n",
    "    MAX_POINTS = 12"
   ]
  },
  {
   "cell_type": "markdown",
   "metadata": {},
   "source": [
    "# Pandas"
   ]
  },
  {
   "cell_type": "markdown",
   "metadata": {
    "tags": [
     "problem"
    ]
   },
   "source": [
    "### 1. Resample the dataset (1 point)\n",
    "\n",
    "Resample the dataset to 1-hour resolution. Use `mean` as an aggregation function. Your function must output a dataframe, with the same structure as the original one (i.e. not indexed by datetime)."
   ]
  },
  {
   "cell_type": "code",
   "execution_count": 5,
   "metadata": {},
   "outputs": [
    {
     "name": "stdout",
     "output_type": "stream",
     "text": [
      "            timestamp  MT_001  MT_002  MT_003  MT_004  MT_005  MT_006  MT_007  \\\n",
      "0 2011-01-01 00:15:00     0.0     0.0     0.0     0.0     0.0     0.0     0.0   \n",
      "1 2011-01-01 00:30:00     0.0     0.0     0.0     0.0     0.0     0.0     0.0   \n",
      "2 2011-01-01 00:45:00     0.0     0.0     0.0     0.0     0.0     0.0     0.0   \n",
      "3 2011-01-01 01:00:00     0.0     0.0     0.0     0.0     0.0     0.0     0.0   \n",
      "4 2011-01-01 01:15:00     0.0     0.0     0.0     0.0     0.0     0.0     0.0   \n",
      "\n",
      "   MT_008  MT_009  ...  MT_361  MT_362  MT_363  MT_364  MT_365  MT_366  \\\n",
      "0     0.0     0.0  ...     0.0     0.0     0.0     0.0     0.0     0.0   \n",
      "1     0.0     0.0  ...     0.0     0.0     0.0     0.0     0.0     0.0   \n",
      "2     0.0     0.0  ...     0.0     0.0     0.0     0.0     0.0     0.0   \n",
      "3     0.0     0.0  ...     0.0     0.0     0.0     0.0     0.0     0.0   \n",
      "4     0.0     0.0  ...     0.0     0.0     0.0     0.0     0.0     0.0   \n",
      "\n",
      "   MT_367  MT_368  MT_369  MT_370  \n",
      "0     0.0     0.0     0.0     0.0  \n",
      "1     0.0     0.0     0.0     0.0  \n",
      "2     0.0     0.0     0.0     0.0  \n",
      "3     0.0     0.0     0.0     0.0  \n",
      "4     0.0     0.0     0.0     0.0  \n",
      "\n",
      "[5 rows x 371 columns]\n"
     ]
    }
   ],
   "source": [
    "if not TEST:\n",
    "    orig_df = pd.read_csv(\"LD2011_2014.txt\",\n",
    "                 parse_dates=[0],\n",
    "                 delimiter=\";\",\n",
    "                 decimal=\",\")\n",
    "    orig_df.rename({\"Unnamed: 0\": \"timestamp\"}, axis=1, inplace=True)\n",
    "    print(orig_df.head())"
   ]
  },
  {
   "cell_type": "code",
   "execution_count": 6,
   "metadata": {
    "ExecuteTime": {
     "end_time": "2019-10-30T22:26:07.100307Z",
     "start_time": "2019-10-30T22:26:07.092132Z"
    },
    "tags": [
     "solution"
    ]
   },
   "outputs": [],
   "source": [
    "def el_resample(df):\n",
    "    # your code goes here\n",
    "    #print(df.head())\n",
    "    #print(df.index)\n",
    "    #print(df[\"timestamp\"].dtype)\n",
    "    df = df.resample('H',on='timestamp').mean().reset_index()\n",
    "    #print(df.head())\n",
    "    #print(df.index)\n",
    "    return df\n",
    "\n",
    "if not TEST:\n",
    "    el_resample(orig_df.copy())"
   ]
  },
  {
   "cell_type": "code",
   "execution_count": 7,
   "metadata": {
    "ExecuteTime": {
     "end_time": "2019-10-30T22:26:07.334174Z",
     "start_time": "2019-10-30T22:26:07.322103Z"
    },
    "tags": [
     "validation"
    ]
   },
   "outputs": [],
   "source": [
    "PROBLEM_ID = 1\n",
    "\n",
    "if TEST:\n",
    "    total_grade += solutions.check(STUDENT, PROBLEM_ID, el_resample)"
   ]
  },
  {
   "cell_type": "markdown",
   "metadata": {
    "tags": [
     "problem"
    ]
   },
   "source": [
    "### 2. Consumption peaks (1 point)\n",
    "\n",
    "For each household, calculate, which month in 2014 had the highest consumption. Your function must output series, indexed by household ID (e.g., `MT_XXX`), and containing month as an integer (`1-12`)."
   ]
  },
  {
   "cell_type": "code",
   "execution_count": 8,
   "metadata": {
    "ExecuteTime": {
     "end_time": "2019-10-30T22:26:08.274476Z",
     "start_time": "2019-10-30T22:26:08.268426Z"
    },
    "tags": [
     "solution"
    ]
   },
   "outputs": [],
   "source": [
    "def cons_peak(df):\n",
    "    #print(df.head())\n",
    "    #print(df.index)\n",
    "    df2014 = df[df[\"timestamp\"].dt.year == 2014]\n",
    "    months2014 = df2014.resample('M',on='timestamp').mean().reset_index()\n",
    "    #print(months2014)\n",
    "    #print(f\"len = {len(months2014)}\")\n",
    "    max_month = months2014.drop([\"timestamp\"], axis=1).idxmax(axis=0)\n",
    "    #print(\"max_month:\")\n",
    "    #print(max_month)\n",
    "    #max_month.hist(bins=12)\n",
    "    return max_month\n",
    "\n",
    "if not TEST:\n",
    "    cons_peak(orig_df.copy())"
   ]
  },
  {
   "cell_type": "code",
   "execution_count": 9,
   "metadata": {
    "ExecuteTime": {
     "end_time": "2019-10-30T22:26:08.554208Z",
     "start_time": "2019-10-30T22:26:08.542546Z"
    },
    "tags": [
     "validation"
    ]
   },
   "outputs": [],
   "source": [
    "PROBLEM_ID = 2\n",
    "\n",
    "if TEST:\n",
    "    total_grade += solutions.check(STUDENT, PROBLEM_ID, cons_peak)"
   ]
  },
  {
   "cell_type": "markdown",
   "metadata": {},
   "source": [
    "# PyTorch"
   ]
  },
  {
   "cell_type": "markdown",
   "metadata": {
    "tags": [
     "problem"
    ]
   },
   "source": [
    "### 3. Find minimum (2 points)\n",
    "\n",
    "Consider the following scalar function:\n",
    "\n",
    "$$\n",
    "f(x) = ax^2 + bx + c\n",
    "$$\n",
    "\n",
    "Given $a,b,c$, find $x$, which minimizes $f(x)$, and minimum value of $f(x)$. Note this:\n",
    "\n",
    "- $a,b,c$ are fixed, and generated in such a way, that minimum always exists ($f(x)$ is convex),\n",
    "- $x$ is a scalar value, i.e. 0-dimensional tensor.\n",
    "\n",
    "For reference, see `generate_coef` function, which is used to generate coefficients. Note, that since optimization process is not completely deterministic, the output is considered correct, if it falls within `1e-3` of actual values.\n",
    "\n",
    "This problem must be solved as an optimization one using gradient descent.\n",
    "\n",
    "For that, use only PyTorch functionality, `SciPy` (or alike) optimization routines are not allowed, neither is direct calculation using coefficients."
   ]
  },
  {
   "cell_type": "code",
   "execution_count": 10,
   "metadata": {},
   "outputs": [],
   "source": [
    "def generate_coeffs():\n",
    "    a = torch.rand(size=()) * 10\n",
    "    b = -10 + torch.rand(size=()) * 10\n",
    "    c = -10 + torch.rand(size=()) * 10\n",
    "    return a, b, c\n",
    "\n",
    "def func(x, a, b, c):\n",
    "    return x.pow(2) * a + x * b + c"
   ]
  },
  {
   "cell_type": "code",
   "execution_count": 11,
   "metadata": {
    "ExecuteTime": {
     "end_time": "2019-10-30T22:26:08.950073Z",
     "start_time": "2019-10-30T22:26:08.944541Z"
    },
    "tags": [
     "solution"
    ]
   },
   "outputs": [
    {
     "name": "stdout",
     "output_type": "stream",
     "text": [
      "a=0.5775004625320435, b=-1.6436710357666016, c=-5.416696071624756, x_min=1.4230908155441284, val_min=-6.58624267578125\n",
      "a=3.18483829498291, b=-6.9510650634765625, c=-3.4636788368225098, x_min=1.091274380683899, val_min=-7.256438255310059\n",
      "a=9.740724563598633, b=-4.7058939933776855, c=-8.453173637390137, x_min=0.24155767261981964, val_min=-9.021546363830566\n",
      "a=5.575559139251709, b=-3.188587188720703, c=-9.4719877243042, x_min=0.28594326972961426, val_min=-9.927865028381348\n",
      "a=8.176003456115723, b=-7.5644941329956055, c=-5.421421527862549, x_min=0.4626034200191498, val_min=-7.1711015701293945\n",
      "a=2.0038437843322754, b=-0.41909027099609375, c=-7.927860736846924, x_min=0.10457159578800201, val_min=-7.94977331161499\n",
      "a=2.9687881469726562, b=-4.592647552490234, c=-6.167239665985107, x_min=0.7734885811805725, val_min=-7.943419933319092\n",
      "a=3.999666690826416, b=-4.192836761474609, c=-1.156327247619629, x_min=0.5241482853889465, val_min=-2.2551612854003906\n",
      "a=9.922456741333008, b=-2.0750832557678223, c=-2.5049705505371094, x_min=0.10456499457359314, val_min=-2.6134610176086426\n",
      "a=4.54971981048584, b=-8.551885604858398, c=-0.9036483764648438, x_min=0.9398255348205566, val_min=-4.922287940979004\n",
      "a=0.18676161766052246, b=-2.1161818504333496, c=-0.67431640625, x_min=5.665464401245117, val_min=-6.668890476226807\n",
      "a=1.0534417629241943, b=-2.897249221801758, c=-2.8072142601013184, x_min=1.375135064125061, val_min=-4.79926872253418\n",
      "a=0.07869124412536621, b=-4.294586181640625, c=-1.434701919555664, x_min=27.28753089904785, val_min=-60.02912139892578\n",
      "a=8.39303207397461, b=-9.84383773803711, c=-6.447535514831543, x_min=0.5864291787147522, val_min=-9.333892822265625\n",
      "a=4.626486301422119, b=-8.710877418518066, c=-4.705908298492432, x_min=0.9414138793945312, val_min=-8.80617904663086\n",
      "a=1.5878725051879883, b=-5.615119934082031, c=-8.438078880310059, x_min=1.7681268453598022, val_min=-13.402201652526855\n",
      "a=3.0715460777282715, b=-7.067856788635254, c=-9.72481632232666, x_min=1.1505372524261475, val_min=-13.790732383728027\n",
      "a=7.282841205596924, b=-3.016633987426758, c=-7.579893589019775, x_min=0.2071055769920349, val_min=-7.892274379730225\n",
      "a=6.284759044647217, b=-7.410884857177734, c=-7.889339447021484, x_min=0.5895918011665344, val_min=-10.0740385055542\n",
      "a=7.556151390075684, b=-7.079713821411133, c=-7.017677307128906, x_min=0.46847352385520935, val_min=-8.676006317138672\n",
      "a=3.0041396617889404, b=-7.527011871337891, c=-7.538483142852783, x_min=1.2527732849121094, val_min=-12.253303527832031\n",
      "a=3.585116386413574, b=-4.215110778808594, c=-4.366220951080322, x_min=0.587862491607666, val_min=-5.605173587799072\n",
      "a=0.15671193599700928, b=-5.700520992279053, c=-8.009003639221191, x_min=18.187891006469727, val_min=-59.84925079345703\n",
      "a=4.4129438400268555, b=-2.068796157836914, c=-0.04975128173828125, x_min=0.2344009280204773, val_min=-0.29221513867378235\n",
      "a=4.955416679382324, b=-4.309429168701172, c=-5.096420764923096, x_min=0.4348200857639313, val_min=-6.033333778381348\n",
      "a=6.117734432220459, b=-2.138713836669922, c=-8.393949508666992, x_min=0.1747962385416031, val_min=-8.5808687210083\n",
      "a=5.107203483581543, b=-0.6025018692016602, c=-5.988910675048828, x_min=0.058985497802495956, val_min=-6.006680011749268\n",
      "a=1.6348785161972046, b=-0.7362556457519531, c=-6.592327117919922, x_min=0.22517138719558716, val_min=-6.6752190589904785\n",
      "a=9.322477340698242, b=-4.140708923339844, c=-8.173596382141113, x_min=0.2220819890499115, val_min=-8.633384704589844\n",
      "a=7.418966293334961, b=-7.898162841796875, c=-6.803354263305664, x_min=0.532295286655426, val_min=-8.905431747436523\n",
      "a=6.7545084953308105, b=-9.260229110717773, c=-6.954338550567627, x_min=0.6854850649833679, val_min=-10.128212928771973\n",
      "a=0.10352194309234619, b=-4.11241340637207, c=-7.288247108459473, x_min=19.86249351501465, val_min=-48.129695892333984\n",
      "a=3.3069634437561035, b=-1.8168392181396484, c=-0.015424728393554688, x_min=0.27469903230667114, val_min=-0.2649667263031006\n",
      "a=0.0347369909286499, b=-0.13567638397216797, c=-2.8648910522460938, x_min=1.952901840209961, val_min=-2.99737286567688\n",
      "a=0.32745301723480225, b=-0.6554708480834961, c=-1.7282562255859375, x_min=1.0008624792099, val_min=-2.0562744140625\n",
      "a=3.7514960765838623, b=-9.777128219604492, c=-3.637722969055176, x_min=1.3030972480773926, val_min=-10.007997512817383\n",
      "a=7.4117112159729, b=-9.51961612701416, c=-6.887026786804199, x_min=0.6422009468078613, val_min=-9.943779945373535\n",
      "a=8.841727256774902, b=-3.040797710418701, c=-0.2910194396972656, x_min=0.17195722460746765, val_min=-0.5524629950523376\n",
      "a=6.097236156463623, b=-5.9419636726379395, c=-2.357672691345215, x_min=0.48726701736450195, val_min=-3.8053340911865234\n",
      "a=0.9966832399368286, b=-9.920522689819336, c=-5.475559234619141, x_min=4.976767539978027, val_min=-30.16162872314453\n",
      "a=7.917182922363281, b=-6.847500801086426, c=-8.177756309509277, x_min=0.4324455261230469, val_min=-9.658342361450195\n",
      "a=9.611505508422852, b=-4.266298294067383, c=-8.038419723510742, x_min=0.22193706035614014, val_min=-8.511844635009766\n",
      "a=2.9135358333587646, b=-1.0194215774536133, c=-1.7492713928222656, x_min=0.17494578659534454, val_min=-1.8384431600570679\n",
      "a=5.106844902038574, b=-9.00342082977295, c=-1.2426490783691406, x_min=0.8815051913261414, val_min=-5.210929870605469\n",
      "a=9.76913070678711, b=-9.281100273132324, c=-9.215900421142578, x_min=0.4750218391418457, val_min=-11.420263290405273\n",
      "a=8.513959884643555, b=-9.495038032531738, c=-9.671070098876953, x_min=0.5576158761978149, val_min=-12.318361282348633\n",
      "a=7.096717834472656, b=-6.0971598625183105, c=-7.5912675857543945, x_min=0.42957603931427, val_min=-8.900864601135254\n",
      "a=6.583013534545898, b=-6.3087921142578125, c=-4.7808685302734375, x_min=0.4791720509529114, val_min=-6.292366981506348\n",
      "a=5.479807376861572, b=-3.8262720108032227, c=-6.620974540710449, x_min=0.3491246998310089, val_min=-7.288897514343262\n",
      "a=5.970070838928223, b=-6.480755805969238, c=-8.773531913757324, x_min=0.5427704453468323, val_min=-10.532313346862793\n",
      "a=2.781956195831299, b=-8.181278228759766, c=-1.0543441772460938, x_min=1.4704182147979736, val_min=-7.0692949295043945\n",
      "a=9.915806770324707, b=-6.908965587615967, c=-8.778897285461426, x_min=0.3483814299106598, val_min=-9.982375144958496\n",
      "a=4.136557102203369, b=-4.7187371253967285, c=-0.05568695068359375, x_min=0.5703701376914978, val_min=-1.4014003276824951\n",
      "a=6.2537360191345215, b=-7.840848445892334, c=-1.1952247619628906, x_min=0.626893162727356, val_min=-3.652911901473999\n",
      "a=6.016080856323242, b=-2.5819802284240723, c=-3.2724266052246094, x_min=0.2145898938179016, val_min=-3.549459934234619\n",
      "a=0.01584649085998535, b=-8.772768020629883, c=-4.3346076011657715, x_min=276.80023193359375, val_min=-1218.506591796875\n"
     ]
    },
    {
     "name": "stderr",
     "output_type": "stream",
     "text": [
      "c:\\noam\\ydata_timeseries_course\\venv\\lib\\site-packages\\ipykernel_launcher.py:25: UserWarning: To copy construct from a tensor, it is recommended to use sourceTensor.clone().detach() or sourceTensor.clone().detach().requires_grad_(True), rather than torch.tensor(sourceTensor).\n"
     ]
    },
    {
     "ename": "AssertionError",
     "evalue": "\nArrays are not almost equal to 4 decimals\n\nMismatched elements: 1 / 1 (100%)\nMax absolute difference: 0.0045166\nMax relative difference: 1.6317188e-05\n x: array(276.8047, dtype=float32)\n y: array(276.8002, dtype=float32)",
     "output_type": "error",
     "traceback": [
      "\u001B[1;31m---------------------------------------------------------------------------\u001B[0m",
      "\u001B[1;31mAssertionError\u001B[0m                            Traceback (most recent call last)",
      "\u001B[1;32m<ipython-input-11-74e08ddfd27c>\u001B[0m in \u001B[0;36m<module>\u001B[1;34m\u001B[0m\n\u001B[0;32m     26\u001B[0m         \u001B[0manalytic_solution_val\u001B[0m \u001B[1;33m=\u001B[0m \u001B[0mfunc\u001B[0m\u001B[1;33m(\u001B[0m\u001B[0manalytic_solution_x\u001B[0m\u001B[1;33m,\u001B[0m \u001B[0ma\u001B[0m\u001B[1;33m,\u001B[0m \u001B[0mb\u001B[0m\u001B[1;33m,\u001B[0m \u001B[0mc\u001B[0m\u001B[1;33m)\u001B[0m\u001B[1;33m\u001B[0m\u001B[1;33m\u001B[0m\u001B[0m\n\u001B[0;32m     27\u001B[0m \u001B[1;33m\u001B[0m\u001B[0m\n\u001B[1;32m---> 28\u001B[1;33m         \u001B[0mnp\u001B[0m\u001B[1;33m.\u001B[0m\u001B[0mtesting\u001B[0m\u001B[1;33m.\u001B[0m\u001B[0massert_almost_equal\u001B[0m\u001B[1;33m(\u001B[0m\u001B[0manalytic_solution_x\u001B[0m\u001B[1;33m,\u001B[0m \u001B[0mx_min\u001B[0m\u001B[1;33m.\u001B[0m\u001B[0mdetach\u001B[0m\u001B[1;33m(\u001B[0m\u001B[1;33m)\u001B[0m\u001B[1;33m.\u001B[0m\u001B[0mnumpy\u001B[0m\u001B[1;33m(\u001B[0m\u001B[1;33m)\u001B[0m\u001B[1;33m,\u001B[0m \u001B[0mdecimal\u001B[0m\u001B[1;33m=\u001B[0m\u001B[1;36m4\u001B[0m\u001B[1;33m)\u001B[0m\u001B[1;33m,\u001B[0m\u001B[1;33m\u001B[0m\u001B[1;33m\u001B[0m\u001B[0m\n\u001B[0m\u001B[0;32m     29\u001B[0m         \u001B[0mnp\u001B[0m\u001B[1;33m.\u001B[0m\u001B[0mtesting\u001B[0m\u001B[1;33m.\u001B[0m\u001B[0massert_almost_equal\u001B[0m\u001B[1;33m(\u001B[0m\u001B[0manalytic_solution_val\u001B[0m\u001B[1;33m,\u001B[0m \u001B[0mval_min\u001B[0m\u001B[1;33m.\u001B[0m\u001B[0mdetach\u001B[0m\u001B[1;33m(\u001B[0m\u001B[1;33m)\u001B[0m\u001B[1;33m.\u001B[0m\u001B[0mnumpy\u001B[0m\u001B[1;33m(\u001B[0m\u001B[1;33m)\u001B[0m\u001B[1;33m,\u001B[0m \u001B[0mdecimal\u001B[0m\u001B[1;33m=\u001B[0m\u001B[1;36m4\u001B[0m\u001B[1;33m)\u001B[0m\u001B[1;33m\u001B[0m\u001B[1;33m\u001B[0m\u001B[0m\n\u001B[0;32m     30\u001B[0m \u001B[1;33m\u001B[0m\u001B[0m\n",
      "    \u001B[1;31m[... skipping hidden 2 frame]\u001B[0m\n",
      "\u001B[1;32mc:\\noam\\ydata_timeseries_course\\venv\\lib\\site-packages\\numpy\\testing\\_private\\utils.py\u001B[0m in \u001B[0;36massert_array_compare\u001B[1;34m(comparison, x, y, err_msg, verbose, header, precision, equal_nan, equal_inf)\u001B[0m\n\u001B[0;32m    840\u001B[0m                                 \u001B[0mverbose\u001B[0m\u001B[1;33m=\u001B[0m\u001B[0mverbose\u001B[0m\u001B[1;33m,\u001B[0m \u001B[0mheader\u001B[0m\u001B[1;33m=\u001B[0m\u001B[0mheader\u001B[0m\u001B[1;33m,\u001B[0m\u001B[1;33m\u001B[0m\u001B[1;33m\u001B[0m\u001B[0m\n\u001B[0;32m    841\u001B[0m                                 names=('x', 'y'), precision=precision)\n\u001B[1;32m--> 842\u001B[1;33m             \u001B[1;32mraise\u001B[0m \u001B[0mAssertionError\u001B[0m\u001B[1;33m(\u001B[0m\u001B[0mmsg\u001B[0m\u001B[1;33m)\u001B[0m\u001B[1;33m\u001B[0m\u001B[1;33m\u001B[0m\u001B[0m\n\u001B[0m\u001B[0;32m    843\u001B[0m     \u001B[1;32mexcept\u001B[0m \u001B[0mValueError\u001B[0m\u001B[1;33m:\u001B[0m\u001B[1;33m\u001B[0m\u001B[1;33m\u001B[0m\u001B[0m\n\u001B[0;32m    844\u001B[0m         \u001B[1;32mimport\u001B[0m \u001B[0mtraceback\u001B[0m\u001B[1;33m\u001B[0m\u001B[1;33m\u001B[0m\u001B[0m\n",
      "\u001B[1;31mAssertionError\u001B[0m: \nArrays are not almost equal to 4 decimals\n\nMismatched elements: 1 / 1 (100%)\nMax absolute difference: 0.0045166\nMax relative difference: 1.6317188e-05\n x: array(276.8047, dtype=float32)\n y: array(276.8002, dtype=float32)"
     ]
    }
   ],
   "source": [
    "def find_min(a, b, c):\n",
    "    param = torch.zeros(size=(), requires_grad=True)\n",
    "    value_function = lambda x :func(x, a, b, c)\n",
    "    loss_function = lambda val: val\n",
    "\n",
    "    optimizer = torch.optim.SGD([param], lr=0.01, momentum=0.9)\n",
    "    for _ in range(10000):\n",
    "        optimizer.zero_grad()\n",
    "        value = value_function(param)\n",
    "        loss = loss_function(value)\n",
    "        loss.backward()\n",
    "        optimizer.step()\n",
    "\n",
    "    x_min = param\n",
    "    val_min = value_function(x_min)\n",
    "\n",
    "    return x_min, val_min\n",
    "\n",
    "if not TEST:\n",
    "    for _ in range(100):\n",
    "        a, b, c = generate_coeffs()\n",
    "        x_min, val_min = find_min(a, b, c)\n",
    "        print(f\"a={a}, b={b}, c={c}, x_min={x_min}, val_min={val_min}\")\n",
    "\n",
    "        analytic_solution_x = torch.tensor(-b / (2*a))\n",
    "        analytic_solution_val = func(analytic_solution_x, a, b, c)\n",
    "\n",
    "        np.testing.assert_almost_equal(analytic_solution_x, x_min.detach().numpy(), decimal=3),\n",
    "        np.testing.assert_almost_equal(analytic_solution_val, val_min.detach().numpy(), decimal=3)"
   ]
  },
  {
   "cell_type": "code",
   "execution_count": null,
   "metadata": {
    "ExecuteTime": {
     "end_time": "2019-10-30T22:26:09.170219Z",
     "start_time": "2019-10-30T22:26:09.158251Z"
    },
    "tags": [
     "validation"
    ]
   },
   "outputs": [],
   "source": [
    "PROBLEM_ID = 3\n",
    "\n",
    "if TEST:\n",
    "    total_grade += solutions.check(STUDENT, PROBLEM_ID, find_min)"
   ]
  },
  {
   "cell_type": "markdown",
   "metadata": {
    "tags": [
     "problem"
    ]
   },
   "source": [
    "### 4. PyTorch `Dataset` (3 points)\n",
    "\n",
    "Implement a `torch.utils.data.Dataset` sub-class for the electricity consumption data. Individual training instances must be week-long univarite series of hourly consumption (input, 168 values), followed by 24-hours long series of hourly consumption (output, 24 values) for a single household. Such a class can be used when training a consumption forecast model, which uses 7 days of historical consumption to forecast next 24 hours of consumption.\n",
    "\n",
    "`__getitem__(self, idx)` must return a tuple of 1D tensors, `in_data` and `out_data`. `in_data` contains 168 hours of consumption (hourly), starting from some `start_ts`, while `out_data` must contain 24 hourly consumption values starting from `start_ts + 168 hours` for some household. `start_ts` should be sampled randomly.\n",
    "\n",
    "Also, you need to implement a `get_mapping(self, idx)` method, which allows to calculate `(household, starting time) -> idx` correspondence.\n",
    "\n",
    "This class will be validated as the following:\n",
    "\n",
    "- dataset object is created with some random `samples`: `dataset = ElDataset(df, samples)` ,\n",
    "- validator fetches random `idx` (between `0` and `len(dataset)`) from the dataset:\n",
    "```python\n",
    "household, start_ts = dataset.get_mapping(idx)\n",
    "hist_data, future_data = dataset[idx]\n",
    "```\n",
    "- then, `hist_data` and `future_data` are compared with the data, obtained directly from `df` using `household, start_ts`."
   ]
  },
  {
   "cell_type": "code",
   "execution_count": 30,
   "metadata": {
    "ExecuteTime": {
     "end_time": "2019-10-30T22:26:09.531869Z",
     "start_time": "2019-10-30T22:26:09.523705Z"
    },
    "tags": [
     "solution"
    ]
   },
   "outputs": [
    {
     "name": "stderr",
     "output_type": "stream",
     "text": [
      "Traceback (most recent call last):\n",
      "  File \"_pydevd_bundle\\pydevd_cython_win32_37_64.pyx\", line 1589, in _pydevd_bundle.pydevd_cython_win32_37_64.ThreadTracer.__call__\n",
      "  File \"_pydevd_bundle\\pydevd_cython_win32_37_64.pyx\", line 756, in _pydevd_bundle.pydevd_cython_win32_37_64.PyDBFrame.trace_dispatch\n",
      "  File \"C:\\Program Files\\JetBrains\\PyCharm 2020.1.1\\plugins\\python\\helpers-pro\\jupyter_debug\\pydev_jupyter_plugin.py\", line 92, in can_not_skip\n",
      "    if step_cmd == 108 and _is_equals(frame, _get_stop_frame(info)):\n",
      "  File \"C:\\Program Files\\JetBrains\\PyCharm 2020.1.1\\plugins\\python\\helpers-pro\\jupyter_debug\\pydev_jupyter_plugin.py\", line 124, in _is_equals\n",
      "    return frame.f_code.co_filename == other_frame.f_code.co_filename and \\\n",
      "AttributeError: 'NoneType' object has no attribute 'f_code'\n",
      "Traceback (most recent call last):\n",
      "  File \"_pydevd_bundle\\pydevd_cython_win32_37_64.pyx\", line 1589, in _pydevd_bundle.pydevd_cython_win32_37_64.ThreadTracer.__call__\n",
      "  File \"_pydevd_bundle\\pydevd_cython_win32_37_64.pyx\", line 756, in _pydevd_bundle.pydevd_cython_win32_37_64.PyDBFrame.trace_dispatch\n",
      "  File \"C:\\Program Files\\JetBrains\\PyCharm 2020.1.1\\plugins\\python\\helpers-pro\\jupyter_debug\\pydev_jupyter_plugin.py\", line 92, in can_not_skip\n",
      "    if step_cmd == 108 and _is_equals(frame, _get_stop_frame(info)):\n",
      "  File \"C:\\Program Files\\JetBrains\\PyCharm 2020.1.1\\plugins\\python\\helpers-pro\\jupyter_debug\\pydev_jupyter_plugin.py\", line 124, in _is_equals\n",
      "    return frame.f_code.co_filename == other_frame.f_code.co_filename and \\\n",
      "AttributeError: 'NoneType' object has no attribute 'f_code'\n",
      "Traceback (most recent call last):\n",
      "  File \"_pydevd_bundle\\pydevd_cython_win32_37_64.pyx\", line 1589, in _pydevd_bundle.pydevd_cython_win32_37_64.ThreadTracer.__call__\n",
      "  File \"_pydevd_bundle\\pydevd_cython_win32_37_64.pyx\", line 756, in _pydevd_bundle.pydevd_cython_win32_37_64.PyDBFrame.trace_dispatch\n",
      "  File \"C:\\Program Files\\JetBrains\\PyCharm 2020.1.1\\plugins\\python\\helpers-pro\\jupyter_debug\\pydev_jupyter_plugin.py\", line 92, in can_not_skip\n",
      "    if step_cmd == 108 and _is_equals(frame, _get_stop_frame(info)):\n",
      "  File \"C:\\Program Files\\JetBrains\\PyCharm 2020.1.1\\plugins\\python\\helpers-pro\\jupyter_debug\\pydev_jupyter_plugin.py\", line 124, in _is_equals\n",
      "    return frame.f_code.co_filename == other_frame.f_code.co_filename and \\\n",
      "AttributeError: 'NoneType' object has no attribute 'f_code'\n",
      "Traceback (most recent call last):\n",
      "  File \"_pydevd_bundle\\pydevd_cython_win32_37_64.pyx\", line 1589, in _pydevd_bundle.pydevd_cython_win32_37_64.ThreadTracer.__call__\n",
      "  File \"_pydevd_bundle\\pydevd_cython_win32_37_64.pyx\", line 756, in _pydevd_bundle.pydevd_cython_win32_37_64.PyDBFrame.trace_dispatch\n",
      "  File \"C:\\Program Files\\JetBrains\\PyCharm 2020.1.1\\plugins\\python\\helpers-pro\\jupyter_debug\\pydev_jupyter_plugin.py\", line 92, in can_not_skip\n",
      "    if step_cmd == 108 and _is_equals(frame, _get_stop_frame(info)):\n",
      "  File \"C:\\Program Files\\JetBrains\\PyCharm 2020.1.1\\plugins\\python\\helpers-pro\\jupyter_debug\\pydev_jupyter_plugin.py\", line 124, in _is_equals\n",
      "    return frame.f_code.co_filename == other_frame.f_code.co_filename and \\\n",
      "AttributeError: 'NoneType' object has no attribute 'f_code'\n",
      "Traceback (most recent call last):\n",
      "  File \"_pydevd_bundle\\pydevd_cython_win32_37_64.pyx\", line 1589, in _pydevd_bundle.pydevd_cython_win32_37_64.ThreadTracer.__call__\n",
      "  File \"_pydevd_bundle\\pydevd_cython_win32_37_64.pyx\", line 756, in _pydevd_bundle.pydevd_cython_win32_37_64.PyDBFrame.trace_dispatch\n",
      "  File \"C:\\Program Files\\JetBrains\\PyCharm 2020.1.1\\plugins\\python\\helpers-pro\\jupyter_debug\\pydev_jupyter_plugin.py\", line 92, in can_not_skip\n",
      "    if step_cmd == 108 and _is_equals(frame, _get_stop_frame(info)):\n",
      "  File \"C:\\Program Files\\JetBrains\\PyCharm 2020.1.1\\plugins\\python\\helpers-pro\\jupyter_debug\\pydev_jupyter_plugin.py\", line 124, in _is_equals\n",
      "    return frame.f_code.co_filename == other_frame.f_code.co_filename and \\\n",
      "AttributeError: 'NoneType' object has no attribute 'f_code'\n",
      "Traceback (most recent call last):\n",
      "  File \"_pydevd_bundle\\pydevd_cython_win32_37_64.pyx\", line 1589, in _pydevd_bundle.pydevd_cython_win32_37_64.ThreadTracer.__call__\n",
      "  File \"_pydevd_bundle\\pydevd_cython_win32_37_64.pyx\", line 756, in _pydevd_bundle.pydevd_cython_win32_37_64.PyDBFrame.trace_dispatch\n",
      "  File \"C:\\Program Files\\JetBrains\\PyCharm 2020.1.1\\plugins\\python\\helpers-pro\\jupyter_debug\\pydev_jupyter_plugin.py\", line 92, in can_not_skip\n",
      "    if step_cmd == 108 and _is_equals(frame, _get_stop_frame(info)):\n",
      "  File \"C:\\Program Files\\JetBrains\\PyCharm 2020.1.1\\plugins\\python\\helpers-pro\\jupyter_debug\\pydev_jupyter_plugin.py\", line 124, in _is_equals\n",
      "    return frame.f_code.co_filename == other_frame.f_code.co_filename and \\\n",
      "AttributeError: 'NoneType' object has no attribute 'f_code'\n"
     ]
    },
    {
     "ename": "AttributeError",
     "evalue": "'NoneType' object has no attribute 'f_code'",
     "output_type": "error",
     "traceback": [
      "\u001B[1;31m---------------------------------------------------------------------------\u001B[0m",
      "\u001B[1;31mAttributeError\u001B[0m                            Traceback (most recent call last)",
      "\u001B[1;32mC:\\Program Files\\Python37\\lib\\contextlib.py\u001B[0m in \u001B[0;36m__enter__\u001B[1;34m(self)\u001B[0m\n\u001B[0;32m    110\u001B[0m         \u001B[1;32mdel\u001B[0m \u001B[0mself\u001B[0m\u001B[1;33m.\u001B[0m\u001B[0margs\u001B[0m\u001B[1;33m,\u001B[0m \u001B[0mself\u001B[0m\u001B[1;33m.\u001B[0m\u001B[0mkwds\u001B[0m\u001B[1;33m,\u001B[0m \u001B[0mself\u001B[0m\u001B[1;33m.\u001B[0m\u001B[0mfunc\u001B[0m\u001B[1;33m\u001B[0m\u001B[1;33m\u001B[0m\u001B[0m\n\u001B[0;32m    111\u001B[0m         \u001B[1;32mtry\u001B[0m\u001B[1;33m:\u001B[0m\u001B[1;33m\u001B[0m\u001B[1;33m\u001B[0m\u001B[0m\n\u001B[1;32m--> 112\u001B[1;33m             \u001B[1;32mreturn\u001B[0m \u001B[0mnext\u001B[0m\u001B[1;33m(\u001B[0m\u001B[0mself\u001B[0m\u001B[1;33m.\u001B[0m\u001B[0mgen\u001B[0m\u001B[1;33m)\u001B[0m\u001B[1;33m\u001B[0m\u001B[1;33m\u001B[0m\u001B[0m\n\u001B[0m\u001B[0;32m    113\u001B[0m         \u001B[1;32mexcept\u001B[0m \u001B[0mStopIteration\u001B[0m\u001B[1;33m:\u001B[0m\u001B[1;33m\u001B[0m\u001B[1;33m\u001B[0m\u001B[0m\n\u001B[0;32m    114\u001B[0m             \u001B[1;32mraise\u001B[0m \u001B[0mRuntimeError\u001B[0m\u001B[1;33m(\u001B[0m\u001B[1;34m\"generator didn't yield\"\u001B[0m\u001B[1;33m)\u001B[0m \u001B[1;32mfrom\u001B[0m \u001B[1;32mNone\u001B[0m\u001B[1;33m\u001B[0m\u001B[1;33m\u001B[0m\u001B[0m\n",
      "\u001B[1;32mc:\\noam\\ydata_timeseries_course\\venv\\lib\\site-packages\\IPython\\core\\compilerop.py\u001B[0m in \u001B[0;36mextra_flags\u001B[1;34m(self, flags)\u001B[0m\n\u001B[0;32m    139\u001B[0m     \u001B[1;32mdef\u001B[0m \u001B[0mextra_flags\u001B[0m\u001B[1;33m(\u001B[0m\u001B[0mself\u001B[0m\u001B[1;33m,\u001B[0m \u001B[0mflags\u001B[0m\u001B[1;33m)\u001B[0m\u001B[1;33m:\u001B[0m\u001B[1;33m\u001B[0m\u001B[1;33m\u001B[0m\u001B[0m\n\u001B[0;32m    140\u001B[0m         \u001B[1;31m## bits that we'll set to 1\u001B[0m\u001B[1;33m\u001B[0m\u001B[1;33m\u001B[0m\u001B[1;33m\u001B[0m\u001B[0m\n\u001B[1;32m--> 141\u001B[1;33m         \u001B[0mturn_on_bits\u001B[0m \u001B[1;33m=\u001B[0m \u001B[1;33m~\u001B[0m\u001B[0mself\u001B[0m\u001B[1;33m.\u001B[0m\u001B[0mflags\u001B[0m \u001B[1;33m&\u001B[0m \u001B[0mflags\u001B[0m\u001B[1;33m\u001B[0m\u001B[1;33m\u001B[0m\u001B[0m\n\u001B[0m\u001B[0;32m    142\u001B[0m \u001B[1;33m\u001B[0m\u001B[0m\n\u001B[0;32m    143\u001B[0m \u001B[1;33m\u001B[0m\u001B[0m\n",
      "\u001B[1;32mc:\\noam\\ydata_timeseries_course\\venv\\lib\\site-packages\\IPython\\core\\compilerop.py\u001B[0m in \u001B[0;36mextra_flags\u001B[1;34m(self, flags)\u001B[0m\n\u001B[0;32m    139\u001B[0m     \u001B[1;32mdef\u001B[0m \u001B[0mextra_flags\u001B[0m\u001B[1;33m(\u001B[0m\u001B[0mself\u001B[0m\u001B[1;33m,\u001B[0m \u001B[0mflags\u001B[0m\u001B[1;33m)\u001B[0m\u001B[1;33m:\u001B[0m\u001B[1;33m\u001B[0m\u001B[1;33m\u001B[0m\u001B[0m\n\u001B[0;32m    140\u001B[0m         \u001B[1;31m## bits that we'll set to 1\u001B[0m\u001B[1;33m\u001B[0m\u001B[1;33m\u001B[0m\u001B[1;33m\u001B[0m\u001B[0m\n\u001B[1;32m--> 141\u001B[1;33m         \u001B[0mturn_on_bits\u001B[0m \u001B[1;33m=\u001B[0m \u001B[1;33m~\u001B[0m\u001B[0mself\u001B[0m\u001B[1;33m.\u001B[0m\u001B[0mflags\u001B[0m \u001B[1;33m&\u001B[0m \u001B[0mflags\u001B[0m\u001B[1;33m\u001B[0m\u001B[1;33m\u001B[0m\u001B[0m\n\u001B[0m\u001B[0;32m    142\u001B[0m \u001B[1;33m\u001B[0m\u001B[0m\n\u001B[0;32m    143\u001B[0m \u001B[1;33m\u001B[0m\u001B[0m\n",
      "\u001B[1;32m_pydevd_bundle\\pydevd_cython_win32_37_64.pyx\u001B[0m in \u001B[0;36m_pydevd_bundle.pydevd_cython_win32_37_64.SafeCallWrapper.__call__\u001B[1;34m()\u001B[0m\n",
      "\u001B[1;32m_pydevd_bundle\\pydevd_cython_win32_37_64.pyx\u001B[0m in \u001B[0;36m_pydevd_bundle.pydevd_cython_win32_37_64.PyDBFrame.trace_dispatch\u001B[1;34m()\u001B[0m\n",
      "\u001B[1;32m_pydevd_bundle\\pydevd_cython_win32_37_64.pyx\u001B[0m in \u001B[0;36m_pydevd_bundle.pydevd_cython_win32_37_64.PyDBFrame.trace_dispatch\u001B[1;34m()\u001B[0m\n",
      "\u001B[1;32mC:\\Program Files\\JetBrains\\PyCharm 2020.1.1\\plugins\\python\\helpers-pro\\jupyter_debug\\pydev_jupyter_plugin.py\u001B[0m in \u001B[0;36mcan_not_skip\u001B[1;34m(plugin, pydb, pydb_frame, frame, info)\u001B[0m\n\u001B[0;32m     90\u001B[0m \u001B[1;32mdef\u001B[0m \u001B[0mcan_not_skip\u001B[0m\u001B[1;33m(\u001B[0m\u001B[0mplugin\u001B[0m\u001B[1;33m,\u001B[0m \u001B[0mpydb\u001B[0m\u001B[1;33m,\u001B[0m \u001B[0mpydb_frame\u001B[0m\u001B[1;33m,\u001B[0m \u001B[0mframe\u001B[0m\u001B[1;33m,\u001B[0m \u001B[0minfo\u001B[0m\u001B[1;33m)\u001B[0m\u001B[1;33m:\u001B[0m\u001B[1;33m\u001B[0m\u001B[1;33m\u001B[0m\u001B[0m\n\u001B[0;32m     91\u001B[0m     \u001B[0mstep_cmd\u001B[0m \u001B[1;33m=\u001B[0m \u001B[0minfo\u001B[0m\u001B[1;33m.\u001B[0m\u001B[0mpydev_step_cmd\u001B[0m\u001B[1;33m\u001B[0m\u001B[1;33m\u001B[0m\u001B[0m\n\u001B[1;32m---> 92\u001B[1;33m     \u001B[1;32mif\u001B[0m \u001B[0mstep_cmd\u001B[0m \u001B[1;33m==\u001B[0m \u001B[1;36m108\u001B[0m \u001B[1;32mand\u001B[0m \u001B[0m_is_equals\u001B[0m\u001B[1;33m(\u001B[0m\u001B[0mframe\u001B[0m\u001B[1;33m,\u001B[0m \u001B[0m_get_stop_frame\u001B[0m\u001B[1;33m(\u001B[0m\u001B[0minfo\u001B[0m\u001B[1;33m)\u001B[0m\u001B[1;33m)\u001B[0m\u001B[1;33m:\u001B[0m\u001B[1;33m\u001B[0m\u001B[1;33m\u001B[0m\u001B[0m\n\u001B[0m\u001B[0;32m     93\u001B[0m         \u001B[1;32mreturn\u001B[0m \u001B[1;32mTrue\u001B[0m\u001B[1;33m\u001B[0m\u001B[1;33m\u001B[0m\u001B[0m\n\u001B[0;32m     94\u001B[0m     \u001B[1;32mif\u001B[0m \u001B[0mpydb\u001B[0m\u001B[1;33m.\u001B[0m\u001B[0mjupyter_breakpoints\u001B[0m\u001B[1;33m:\u001B[0m\u001B[1;33m\u001B[0m\u001B[1;33m\u001B[0m\u001B[0m\n",
      "\u001B[1;32mC:\\Program Files\\JetBrains\\PyCharm 2020.1.1\\plugins\\python\\helpers-pro\\jupyter_debug\\pydev_jupyter_plugin.py\u001B[0m in \u001B[0;36m_is_equals\u001B[1;34m(frame, other_frame)\u001B[0m\n\u001B[0;32m    122\u001B[0m \u001B[1;32mdef\u001B[0m \u001B[0m_is_equals\u001B[0m\u001B[1;33m(\u001B[0m\u001B[0mframe\u001B[0m\u001B[1;33m,\u001B[0m \u001B[0mother_frame\u001B[0m\u001B[1;33m)\u001B[0m\u001B[1;33m:\u001B[0m\u001B[1;33m\u001B[0m\u001B[1;33m\u001B[0m\u001B[0m\n\u001B[0;32m    123\u001B[0m     \u001B[1;31m# we can't compare frame directly, because Jupyter compiles ast nodes in cell separately\u001B[0m\u001B[1;33m\u001B[0m\u001B[1;33m\u001B[0m\u001B[1;33m\u001B[0m\u001B[0m\n\u001B[1;32m--> 124\u001B[1;33m     \u001B[1;32mreturn\u001B[0m \u001B[0mframe\u001B[0m\u001B[1;33m.\u001B[0m\u001B[0mf_code\u001B[0m\u001B[1;33m.\u001B[0m\u001B[0mco_filename\u001B[0m \u001B[1;33m==\u001B[0m \u001B[0mother_frame\u001B[0m\u001B[1;33m.\u001B[0m\u001B[0mf_code\u001B[0m\u001B[1;33m.\u001B[0m\u001B[0mco_filename\u001B[0m \u001B[1;32mand\u001B[0m\u001B[0;31m \u001B[0m\u001B[0;31m\\\u001B[0m\u001B[1;33m\u001B[0m\u001B[1;33m\u001B[0m\u001B[0m\n\u001B[0m\u001B[0;32m    125\u001B[0m            \u001B[0mframe\u001B[0m\u001B[1;33m.\u001B[0m\u001B[0mf_code\u001B[0m\u001B[1;33m.\u001B[0m\u001B[0mco_name\u001B[0m \u001B[1;33m==\u001B[0m \u001B[0mother_frame\u001B[0m\u001B[1;33m.\u001B[0m\u001B[0mf_code\u001B[0m\u001B[1;33m.\u001B[0m\u001B[0mco_name\u001B[0m\u001B[1;33m\u001B[0m\u001B[1;33m\u001B[0m\u001B[0m\n\u001B[0;32m    126\u001B[0m \u001B[1;33m\u001B[0m\u001B[0m\n",
      "\u001B[1;31mAttributeError\u001B[0m: 'NoneType' object has no attribute 'f_code'"
     ]
    }
   ],
   "source": [
    "from torch.utils.data import Dataset\n",
    "from random import randrange\n",
    "\n",
    "\n",
    "class ElDataset(Dataset):\n",
    "    \"\"\"Electricity dataset.\"\"\"\n",
    "\n",
    "    def __init__(self, df, samples):\n",
    "        \"\"\"\n",
    "        Args:\n",
    "            df: original electricity data (see HW intro for details).\n",
    "            samples (int): number of sample to take per household.\n",
    "        \"\"\"\n",
    "        df = df.resample('H',on='timestamp').mean().reset_index()\n",
    "        self.raw_data = df.set_index('timestamp').asfreq('H')\n",
    "        self._freq = self.raw_data.index.freq\n",
    "\n",
    "        self._n_households = self.raw_data.shape[1]\n",
    "        self._n_frames_per_house = self.raw_data.shape[0]\n",
    "\n",
    "        self._max_allowed_timestamp_index = self._n_frames_per_house - 24 * (7 + 1)\n",
    "        if self._max_allowed_timestamp_index < samples:\n",
    "            print(\"warning, too many samples required!\")\n",
    "            samples = self._max_allowed_timestamp_index\n",
    "        self._samples = samples\n",
    "        self._time_stride = self._max_allowed_timestamp_index // self._samples\n",
    "\n",
    "    def __len__(self):\n",
    "        return self._samples * (self.raw_data.shape[1])\n",
    "\n",
    "    def __getitem__(self, idx):\n",
    "        if len(self) < idx:\n",
    "            print(f\"index {idx} out of bounds ({len(self)}\")\n",
    "        household, start_ts = self.get_mapping(idx)\n",
    "        house_data = self.raw_data[household]\n",
    "        hist_data = house_data.loc[start_ts:start_ts + (168 - 1) * self._freq]\n",
    "        future_data = house_data.loc[start_ts + 168 * self._freq:start_ts + (168 + 24 - 1) * self._freq]\n",
    "        return hist_data, future_data\n",
    "\n",
    "    def get_mapping(self, idx):\n",
    "        # your code goes here\n",
    "        household_ind = idx % self._n_households\n",
    "        time_sample_idx = idx // self._samples\n",
    "        start_ts_ind = time_sample_idx * self._time_stride\n",
    "\n",
    "        household = self.raw_data.columns[household_ind]\n",
    "        start_ts = self.raw_data.index[start_ts_ind]\n",
    "        return household, start_ts\n",
    "        \n",
    "if not TEST:\n",
    "    samples = 5\n",
    "    dataset = ElDataset(orig_df.copy(), samples)\n",
    "\n",
    "    for idx in range(len(dataset)):\n",
    "        household, start_ts = dataset.get_mapping(idx)\n",
    "\n",
    "        tested_past = dataset.raw_data[household][start_ts:start_ts+167*dataset._freq]\n",
    "        tested_future = dataset.raw_data[household][start_ts+168*dataset._freq:start_ts+(168+23)*dataset._freq]\n",
    "        my_past, my_future = dataset[idx]\n",
    "\n",
    "        diff1 = my_past - tested_past\n",
    "        diff2 = my_future - tested_future\n",
    "\n",
    "        assert np.count_nonzero(diff1) == 0\n",
    "        assert np.count_nonzero(diff2) == 0"
   ]
  },
  {
   "cell_type": "markdown",
   "source": [
    "dssdds\n"
   ],
   "metadata": {
    "collapsed": false,
    "pycharm": {
     "name": "#%% md\n"
    }
   }
  },
  {
   "cell_type": "code",
   "execution_count": null,
   "metadata": {
    "ExecuteTime": {
     "end_time": "2019-10-30T22:26:09.716713Z",
     "start_time": "2019-10-30T22:26:09.707934Z"
    },
    "tags": [
     "validation"
    ]
   },
   "outputs": [],
   "source": [
    "PROBLEM_ID = 4\n",
    "\n",
    "if TEST:\n",
    "    total_grade += solutions.check(STUDENT, PROBLEM_ID, ElDataset)"
   ]
  },
  {
   "cell_type": "markdown",
   "metadata": {},
   "source": [
    "# Your grade"
   ]
  },
  {
   "cell_type": "code",
   "execution_count": null,
   "metadata": {
    "ExecuteTime": {
     "end_time": "2019-10-30T22:39:26.661611Z",
     "start_time": "2019-10-30T22:39:26.654545Z"
    }
   },
   "outputs": [],
   "source": [
    "if TEST:\n",
    "    print(f\"{STUDENT}: {total_grade}\")"
   ]
  },
  {
   "cell_type": "code",
   "execution_count": null,
   "metadata": {},
   "outputs": [],
   "source": []
  }
 ],
 "metadata": {
  "@webio": {
   "lastCommId": null,
   "lastKernelId": null
  },
  "celltoolbar": "Tags",
  "kernelspec": {
   "display_name": "Python 3",
   "language": "python",
   "name": "python3"
  },
  "language_info": {
   "codemirror_mode": {
    "name": "ipython",
    "version": 3
   },
   "file_extension": ".py",
   "mimetype": "text/x-python",
   "name": "python",
   "nbconvert_exporter": "python",
   "pygments_lexer": "ipython3",
   "version": "3.7.5"
  }
 },
 "nbformat": 4,
 "nbformat_minor": 2
}